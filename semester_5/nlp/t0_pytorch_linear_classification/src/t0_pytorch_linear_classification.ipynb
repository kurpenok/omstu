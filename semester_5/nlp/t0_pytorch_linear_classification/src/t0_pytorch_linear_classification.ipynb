{
 "cells": [
  {
   "cell_type": "markdown",
   "metadata": {},
   "source": [
    "# Task 0. Linear classification from scratch with PyTorch"
   ]
  },
  {
   "cell_type": "markdown",
   "metadata": {},
   "source": [
    "## Imports"
   ]
  },
  {
   "cell_type": "code",
   "execution_count": 1,
   "metadata": {
    "_cell_guid": "b1076dfc-b9ad-4769-8c92-a6c4dae69d19",
    "_uuid": "8f2839f25d086af736a60e9eeb907d3b93b6e0e5"
   },
   "outputs": [],
   "source": [
    "import matplotlib.pyplot as plt\n",
    "import pandas as pd\n",
    "import torch\n",
    "import torch.nn as nn\n",
    "import tqdm\n",
    "from sklearn.metrics import accuracy_score\n",
    "from sklearn.model_selection import train_test_split\n",
    "from sklearn.utils import shuffle\n",
    "from torch.utils.data import DataLoader, TensorDataset"
   ]
  },
  {
   "cell_type": "markdown",
   "metadata": {},
   "source": [
    "## Dataset Processing"
   ]
  },
  {
   "cell_type": "code",
   "execution_count": 2,
   "metadata": {},
   "outputs": [],
   "source": [
    "df = pd.read_csv(\"../../data/airlines.csv\")"
   ]
  },
  {
   "cell_type": "code",
   "execution_count": 3,
   "metadata": {},
   "outputs": [],
   "source": [
    "df.drop([\"Unnamed: 0\"], axis=1, inplace=True)"
   ]
  },
  {
   "cell_type": "code",
   "execution_count": 4,
   "metadata": {},
   "outputs": [
    {
     "data": {
      "text/html": [
       "<div>\n",
       "<style scoped>\n",
       "    .dataframe tbody tr th:only-of-type {\n",
       "        vertical-align: middle;\n",
       "    }\n",
       "\n",
       "    .dataframe tbody tr th {\n",
       "        vertical-align: top;\n",
       "    }\n",
       "\n",
       "    .dataframe thead th {\n",
       "        text-align: right;\n",
       "    }\n",
       "</style>\n",
       "<table border=\"1\" class=\"dataframe\">\n",
       "  <thead>\n",
       "    <tr style=\"text-align: right;\">\n",
       "      <th></th>\n",
       "      <th>airline</th>\n",
       "      <th>flight</th>\n",
       "      <th>airport_from</th>\n",
       "      <th>airport_to</th>\n",
       "      <th>day_of_week</th>\n",
       "      <th>time</th>\n",
       "      <th>length</th>\n",
       "      <th>delay</th>\n",
       "    </tr>\n",
       "  </thead>\n",
       "  <tbody>\n",
       "    <tr>\n",
       "      <th>0</th>\n",
       "      <td>16</td>\n",
       "      <td>3036</td>\n",
       "      <td>135</td>\n",
       "      <td>54</td>\n",
       "      <td>4.0</td>\n",
       "      <td>1195</td>\n",
       "      <td>131.0</td>\n",
       "      <td>0</td>\n",
       "    </tr>\n",
       "    <tr>\n",
       "      <th>1</th>\n",
       "      <td>13</td>\n",
       "      <td>315</td>\n",
       "      <td>79</td>\n",
       "      <td>207</td>\n",
       "      <td>7.0</td>\n",
       "      <td>707</td>\n",
       "      <td>145.0</td>\n",
       "      <td>0</td>\n",
       "    </tr>\n",
       "    <tr>\n",
       "      <th>2</th>\n",
       "      <td>12</td>\n",
       "      <td>6673</td>\n",
       "      <td>253</td>\n",
       "      <td>194</td>\n",
       "      <td>5.0</td>\n",
       "      <td>499</td>\n",
       "      <td>42.0</td>\n",
       "      <td>1</td>\n",
       "    </tr>\n",
       "    <tr>\n",
       "      <th>3</th>\n",
       "      <td>15</td>\n",
       "      <td>3668</td>\n",
       "      <td>217</td>\n",
       "      <td>207</td>\n",
       "      <td>2.0</td>\n",
       "      <td>810</td>\n",
       "      <td>70.0</td>\n",
       "      <td>1</td>\n",
       "    </tr>\n",
       "    <tr>\n",
       "      <th>4</th>\n",
       "      <td>2</td>\n",
       "      <td>623</td>\n",
       "      <td>153</td>\n",
       "      <td>214</td>\n",
       "      <td>5.0</td>\n",
       "      <td>985</td>\n",
       "      <td>143.0</td>\n",
       "      <td>0</td>\n",
       "    </tr>\n",
       "  </tbody>\n",
       "</table>\n",
       "</div>"
      ],
      "text/plain": [
       "   airline  flight  airport_from  airport_to  day_of_week  time  length  delay\n",
       "0       16    3036           135          54          4.0  1195   131.0      0\n",
       "1       13     315            79         207          7.0   707   145.0      0\n",
       "2       12    6673           253         194          5.0   499    42.0      1\n",
       "3       15    3668           217         207          2.0   810    70.0      1\n",
       "4        2     623           153         214          5.0   985   143.0      0"
      ]
     },
     "execution_count": 4,
     "metadata": {},
     "output_type": "execute_result"
    }
   ],
   "source": [
    "df.head()"
   ]
  },
  {
   "cell_type": "markdown",
   "metadata": {},
   "source": [
    "## Splitting to Samples"
   ]
  },
  {
   "cell_type": "code",
   "execution_count": 5,
   "metadata": {},
   "outputs": [],
   "source": [
    "X = df.drop([\"delay\"], axis=1).values"
   ]
  },
  {
   "cell_type": "code",
   "execution_count": 6,
   "metadata": {},
   "outputs": [],
   "source": [
    "y = df.loc[:, \"delay\"].values\n",
    "y = y.reshape(-1, 1)"
   ]
  },
  {
   "cell_type": "code",
   "execution_count": 7,
   "metadata": {},
   "outputs": [
    {
     "data": {
      "text/plain": [
       "((297980, 7), (99327, 7), (297980, 1), (99327, 1))"
      ]
     },
     "execution_count": 7,
     "metadata": {},
     "output_type": "execute_result"
    }
   ],
   "source": [
    "X_train, X_test, y_train, y_test = train_test_split(X, y)\n",
    "X_train.shape, X_test.shape, y_train.shape, y_test.shape"
   ]
  },
  {
   "cell_type": "markdown",
   "metadata": {},
   "source": [
    "#### PyTorch-like method"
   ]
  },
  {
   "cell_type": "code",
   "execution_count": 8,
   "metadata": {},
   "outputs": [],
   "source": [
    "train_ds = TensorDataset(torch.from_numpy(X_train).type(torch.float32), torch.from_numpy(y_train).type(torch.float16))\n",
    "train_dl = DataLoader(train_ds, batch_size=256, shuffle=True)\n",
    "\n",
    "test_ds = TensorDataset(torch.from_numpy(X_test).type(torch.float32), torch.from_numpy(y_test).type(torch.float16))\n",
    "test_dl = DataLoader(test_ds, batch_size=256, shuffle=True)"
   ]
  },
  {
   "cell_type": "markdown",
   "metadata": {},
   "source": [
    "## PyTorch Classification Model"
   ]
  },
  {
   "cell_type": "code",
   "execution_count": 9,
   "metadata": {},
   "outputs": [],
   "source": [
    "class MyClassificationModel(nn.Module):\n",
    "    def __init__(self):\n",
    "        super(MyClassificationModel, self).__init__()\n",
    "        self.first_linear = nn.Linear(7, 21)\n",
    "        self.first_relu = nn.ReLU()\n",
    "        self.second_linear = nn.Linear(21, 42)\n",
    "        self.second_relu = nn.ReLU()\n",
    "        self.third_linear = nn.Linear(42, 14)\n",
    "        self.third_relu = nn.ReLU()\n",
    "        self.fourth_linear = nn.Linear(14, 7)\n",
    "        self.fourth_relu = nn.ReLU()\n",
    "        self.fifth_linear = nn.Linear(7, 1)\n",
    "\n",
    "    def forward(self, x):\n",
    "        y = self.first_linear(x)\n",
    "        y = self.first_relu(y)\n",
    "        y = self.second_linear(y)\n",
    "        y = self.second_relu(y)\n",
    "        y = self.third_linear(y)\n",
    "        y = self.third_relu(y)\n",
    "        y = self.fourth_linear(y)\n",
    "        y = self.fourth_relu(y)\n",
    "        y = self.fifth_linear(y)\n",
    "        return y\n",
    "\n",
    "\n",
    "model = MyClassificationModel()"
   ]
  },
  {
   "cell_type": "code",
   "execution_count": 10,
   "metadata": {},
   "outputs": [],
   "source": [
    "loss = nn.BCEWithLogitsLoss()\n",
    "optimizer = torch.optim.Adam(model.parameters(), lr=0.00025)"
   ]
  },
  {
   "cell_type": "code",
   "execution_count": 11,
   "metadata": {},
   "outputs": [
    {
     "name": "stderr",
     "output_type": "stream",
     "text": [
      "[+] Epoch [20/20], Loss [0.49]: |██████████████████████████████████████████████████|\n"
     ]
    }
   ],
   "source": [
    "epochs = 20\n",
    "losses = {}\n",
    "\n",
    "with tqdm.trange(1, epochs+1, bar_format=\"{desc}|{bar:50}|\") as t:\n",
    "    t.set_description(f\"[+] Epoch [0/{epochs}], Loss [1.00]\")\n",
    "\n",
    "    for epoch in t:\n",
    "        for x_b, y_b in train_dl:\n",
    "            outputs = model(x_b)\n",
    "            loss_value = loss(outputs, y_b)\n",
    "\n",
    "            loss_value.backward()\n",
    "            optimizer.step()\n",
    "            optimizer.zero_grad()\n",
    "\n",
    "        losses[epoch] = loss_value.item()\n",
    "        t.set_description(f\"[+] Epoch [{epoch}/{epochs}], Loss [{loss_value.item():.2f}]\")"
   ]
  },
  {
   "cell_type": "code",
   "execution_count": 12,
   "metadata": {},
   "outputs": [
    {
     "data": {
      "image/png": "[encoded data removed]",
      "text/plain": [
       "<Figure size 640x480 with 1 Axes>"
      ]
     },
     "metadata": {},
     "output_type": "display_data"
    }
   ],
   "source": [
    "plt.plot(list(losses.keys()), list(losses.values()))\n",
    "plt.title(\"Dream loss chart\")\n",
    "plt.show()"
   ]
  },
  {
   "cell_type": "code",
   "execution_count": 13,
   "metadata": {},
   "outputs": [],
   "source": [
    "y_pred = list(map(lambda value: 0 if value <= -1 else 1, model(torch.from_numpy(X_test).type(torch.float32))))"
   ]
  },
  {
   "cell_type": "code",
   "execution_count": 14,
   "metadata": {},
   "outputs": [
    {
     "name": "stdout",
     "output_type": "stream",
     "text": [
      "[+] Accuracy: 0.5863\n"
     ]
    }
   ],
   "source": [
    "print(f\"[+] Accuracy: {accuracy_score(y_test, y_pred):.4f}\")"
   ]
  }
 ],
 "metadata": {
  "kaggle": {
   "accelerator": "none",
   "dataSources": [
    {
     "datasetId": 5686657,
     "sourceId": 9375235,
     "sourceType": "datasetVersion"
    }
   ],
   "dockerImageVersionId": 30761,
   "isGpuEnabled": false,
   "isInternetEnabled": false,
   "language": "python",
   "sourceType": "notebook"
  },
  "kernelspec": {
   "display_name": "Python 3 (ipykernel)",
   "language": "python",
   "name": "python3"
  },
  "language_info": {
   "codemirror_mode": {
    "name": "ipython",
    "version": 3
   },
   "file_extension": ".py",
   "mimetype": "text/x-python",
   "name": "python",
   "nbconvert_exporter": "python",
   "pygments_lexer": "ipython3",
   "version": "3.12.7"
  }
 },
 "nbformat": 4,
 "nbformat_minor": 4
}
