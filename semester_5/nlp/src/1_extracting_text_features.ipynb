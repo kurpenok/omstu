{
 "cells": [
  {
   "cell_type": "markdown",
   "id": "9e16a6f7-0994-41c2-ab82-b4dec86e4b6f",
   "metadata": {},
   "source": [
    "# 1. Extracting Text Features"
   ]
  },
  {
   "cell_type": "markdown",
   "id": "55b9cdad-7379-4029-9424-27acb9256f56",
   "metadata": {},
   "source": [
    "## Imports"
   ]
  },
  {
   "cell_type": "code",
   "execution_count": 82,
   "id": "072b27be-e722-4f0b-a914-7c77985b84c8",
   "metadata": {},
   "outputs": [],
   "source": [
    "import re\n",
    "\n",
    "import pandas as pd\n",
    "\n",
    "from razdel import tokenize"
   ]
  },
  {
   "cell_type": "markdown",
   "id": "17e8510d-7644-4a8b-ab3d-98bda3663359",
   "metadata": {},
   "source": [
    "## Solution"
   ]
  },
  {
   "cell_type": "code",
   "execution_count": 74,
   "id": "e63a1733-5a0c-46b1-9c76-bea27568cc6e",
   "metadata": {},
   "outputs": [],
   "source": [
    "data = pd.read_csv(\"../data/petitions.csv\")"
   ]
  },
  {
   "cell_type": "code",
   "execution_count": 75,
   "id": "a5a379b8-b529-45d0-996a-7286db6ee95a",
   "metadata": {},
   "outputs": [],
   "source": [
    "data.drop(\"id\", axis=1, inplace=True)"
   ]
  },
  {
   "cell_type": "code",
   "execution_count": 76,
   "id": "ee74ea5b-c1cb-4682-bdec-54d40ee49e10",
   "metadata": {},
   "outputs": [
    {
     "data": {
      "text/plain": [
       "array(['Благоустройство', 'Содержание МКД',\n",
       "       'Незаконная информационная и (или) рекламная конструкция', 'Фасад',\n",
       "       'Водоснабжение', 'Нарушение правил пользования общим имуществом',\n",
       "       'Повреждения или неисправность элементов уличной инфраструктуры',\n",
       "       'Кровля', 'Состояние рекламных или информационных конструкций',\n",
       "       'Нарушение порядка пользования общим имуществом', 'Подвалы',\n",
       "       'Водоотведение', 'Санитарное состояние', 'Центральное отопление',\n",
       "       'Незаконная реализация товаров с торгового оборудования (прилавок, ящик, с земли)'],\n",
       "      dtype=object)"
      ]
     },
     "execution_count": 76,
     "metadata": {},
     "output_type": "execute_result"
    }
   ],
   "source": [
    "data[\"reason_category\"].unique()"
   ]
  },
  {
   "cell_type": "code",
   "execution_count": 77,
   "id": "296a8de0-07d4-4ae7-9993-d20be8861788",
   "metadata": {},
   "outputs": [],
   "source": [
    "data[\"reason_category\"] = data[\"reason_category\"].replace([\n",
    "    \"Повреждения или неисправность элементов уличной инфраструктуры\",\n",
    "    \"Состояние рекламных или информационных конструкций\",\n",
    "    \"Нарушение порядка пользования общим имуществом\",\n",
    "], \"Благоустройство\")\n",
    "\n",
    "data[\"reason_category\"] = data[\"reason_category\"].replace([\n",
    "    \"Фасад\",\n",
    "    \"Водоснабжение\",\n",
    "    \"Кровля\",\n",
    "    \"Подвалы\",\n",
    "    \"Водоотведение\",\n",
    "    \"Санитарное состояние\",\n",
    "    \"Центральное отопление\",\n",
    "], \"Содержание МКД\")\n",
    "\n",
    "data[\"reason_category\"] = data[\"reason_category\"].replace([\n",
    "    \"Незаконная информационная и (или) рекламная конструкция\",\n",
    "    \"Нарушение правил пользования общим имуществом\",\n",
    "    \"Нарушение порядка пользования общим имуществом\",\n",
    "    \"Незаконная реализация товаров с торгового оборудования (прилавок, ящик, с земли)\",\n",
    "], \"Нарушения\")"
   ]
  },
  {
   "cell_type": "code",
   "execution_count": 78,
   "id": "c0f399d7-12ea-4d82-8e4b-1818899c829b",
   "metadata": {},
   "outputs": [],
   "source": [
    "data[\"public_petition_text\"] = data[\"public_petition_text\"].apply(str.lower)\n",
    "data[\"reason_category\"] = data[\"reason_category\"].apply(str.lower)"
   ]
  },
  {
   "cell_type": "code",
   "execution_count": 79,
   "id": "3352499d-7609-49e5-a0a7-ebb840d15819",
   "metadata": {},
   "outputs": [],
   "source": [
    "data[\"public_petition_text\"] = data[\"public_petition_text\"].apply(lambda s: re.sub(r\"[^\\s^\\w]+\", \" \", s))"
   ]
  },
  {
   "cell_type": "code",
   "execution_count": 80,
   "id": "e573fc2b-282e-4932-a4e3-ffd0d10cc3e8",
   "metadata": {},
   "outputs": [],
   "source": [
    "data[\"public_petition_text\"] = data[\"public_petition_text\"].apply(lambda s: s.replace(\"\\n\", \"\"))"
   ]
  },
  {
   "cell_type": "code",
   "execution_count": 83,
   "id": "8257479c-717b-46d1-9d14-d77f8e11209e",
   "metadata": {},
   "outputs": [],
   "source": [
    "tokens = list(tokenize(data[\"public_petition_text\"][0]))"
   ]
  },
  {
   "cell_type": "code",
   "execution_count": 84,
   "id": "e5127e92-82fe-4476-b95d-164db5ff333e",
   "metadata": {},
   "outputs": [
    {
     "data": {
      "text/plain": [
       "[Substring(0, 4, 'снег'), Substring(5, 7, 'на'), Substring(8, 14, 'дороге')]"
      ]
     },
     "execution_count": 84,
     "metadata": {},
     "output_type": "execute_result"
    }
   ],
   "source": [
    "tokens"
   ]
  }
 ],
 "metadata": {
  "kernelspec": {
   "display_name": "Python 3 (ipykernel)",
   "language": "python",
   "name": "python3"
  },
  "language_info": {
   "codemirror_mode": {
    "name": "ipython",
    "version": 3
   },
   "file_extension": ".py",
   "mimetype": "text/x-python",
   "name": "python",
   "nbconvert_exporter": "python",
   "pygments_lexer": "ipython3",
   "version": "3.12.6"
  }
 },
 "nbformat": 4,
 "nbformat_minor": 5
}
