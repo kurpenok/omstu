{
 "cells": [
  {
   "cell_type": "markdown",
   "id": "9e16a6f7-0994-41c2-ab82-b4dec86e4b6f",
   "metadata": {},
   "source": [
    "# 1. Extracting Text Features"
   ]
  },
  {
   "cell_type": "markdown",
   "id": "55b9cdad-7379-4029-9424-27acb9256f56",
   "metadata": {},
   "source": [
    "## Imports"
   ]
  },
  {
   "cell_type": "code",
   "execution_count": 1,
   "id": "072b27be-e722-4f0b-a914-7c77985b84c8",
   "metadata": {},
   "outputs": [
    {
     "name": "stderr",
     "output_type": "stream",
     "text": [
      "[nltk_data] Downloading package stopwords to\n",
      "[nltk_data]     /home/kurpenok/nltk_data...\n",
      "[nltk_data]   Package stopwords is already up-to-date!\n"
     ]
    }
   ],
   "source": [
    "import re\n",
    "\n",
    "import pandas as pd\n",
    "\n",
    "from razdel import tokenize\n",
    "from natasha import MorphVocab, Doc, Segmenter, NewsMorphTagger, NewsEmbedding\n",
    "import tqdm\n",
    "\n",
    "import nltk\n",
    "nltk.download(\"stopwords\")\n",
    "from nltk.corpus import stopwords"
   ]
  },
  {
   "cell_type": "markdown",
   "id": "17e8510d-7644-4a8b-ab3d-98bda3663359",
   "metadata": {},
   "source": [
    "## Solution"
   ]
  },
  {
   "cell_type": "code",
   "execution_count": 2,
   "id": "e63a1733-5a0c-46b1-9c76-bea27568cc6e",
   "metadata": {},
   "outputs": [],
   "source": [
    "data = pd.read_csv(\"../data/petitions.csv\")"
   ]
  },
  {
   "cell_type": "code",
   "execution_count": 3,
   "id": "a5a379b8-b529-45d0-996a-7286db6ee95a",
   "metadata": {},
   "outputs": [],
   "source": [
    "data.drop(\"id\", axis=1, inplace=True)"
   ]
  },
  {
   "cell_type": "code",
   "execution_count": 4,
   "id": "ee74ea5b-c1cb-4682-bdec-54d40ee49e10",
   "metadata": {},
   "outputs": [
    {
     "data": {
      "text/plain": [
       "array(['Благоустройство', 'Содержание МКД',\n",
       "       'Незаконная информационная и (или) рекламная конструкция', 'Фасад',\n",
       "       'Водоснабжение', 'Нарушение правил пользования общим имуществом',\n",
       "       'Повреждения или неисправность элементов уличной инфраструктуры',\n",
       "       'Кровля', 'Состояние рекламных или информационных конструкций',\n",
       "       'Нарушение порядка пользования общим имуществом', 'Подвалы',\n",
       "       'Водоотведение', 'Санитарное состояние', 'Центральное отопление',\n",
       "       'Незаконная реализация товаров с торгового оборудования (прилавок, ящик, с земли)'],\n",
       "      dtype=object)"
      ]
     },
     "execution_count": 4,
     "metadata": {},
     "output_type": "execute_result"
    }
   ],
   "source": [
    "data[\"reason_category\"].unique()"
   ]
  },
  {
   "cell_type": "code",
   "execution_count": 5,
   "id": "296a8de0-07d4-4ae7-9993-d20be8861788",
   "metadata": {},
   "outputs": [],
   "source": [
    "data[\"reason_category\"] = data[\"reason_category\"].replace([\n",
    "    \"Повреждения или неисправность элементов уличной инфраструктуры\",\n",
    "    \"Состояние рекламных или информационных конструкций\",\n",
    "    \"Нарушение порядка пользования общим имуществом\",\n",
    "], \"Благоустройство\")\n",
    "\n",
    "data[\"reason_category\"] = data[\"reason_category\"].replace([\n",
    "    \"Фасад\",\n",
    "    \"Водоснабжение\",\n",
    "    \"Кровля\",\n",
    "    \"Подвалы\",\n",
    "    \"Водоотведение\",\n",
    "    \"Санитарное состояние\",\n",
    "    \"Центральное отопление\",\n",
    "], \"Содержание МКД\")\n",
    "\n",
    "data[\"reason_category\"] = data[\"reason_category\"].replace([\n",
    "    \"Незаконная информационная и (или) рекламная конструкция\",\n",
    "    \"Нарушение правил пользования общим имуществом\",\n",
    "    \"Нарушение порядка пользования общим имуществом\",\n",
    "    \"Незаконная реализация товаров с торгового оборудования (прилавок, ящик, с земли)\",\n",
    "], \"Нарушения\")"
   ]
  },
  {
   "cell_type": "code",
   "execution_count": 6,
   "id": "c0f399d7-12ea-4d82-8e4b-1818899c829b",
   "metadata": {},
   "outputs": [],
   "source": [
    "data[\"public_petition_text\"] = data[\"public_petition_text\"].apply(str.lower)\n",
    "data[\"reason_category\"] = data[\"reason_category\"].apply(str.lower)"
   ]
  },
  {
   "cell_type": "code",
   "execution_count": 7,
   "id": "3352499d-7609-49e5-a0a7-ebb840d15819",
   "metadata": {},
   "outputs": [],
   "source": [
    "data[\"public_petition_text\"] = data[\"public_petition_text\"].apply(lambda s: re.sub(r\"[^\\s^\\w]+\", \" \", s))"
   ]
  },
  {
   "cell_type": "code",
   "execution_count": 8,
   "id": "e573fc2b-282e-4932-a4e3-ffd0d10cc3e8",
   "metadata": {},
   "outputs": [],
   "source": [
    "data[\"public_petition_text\"] = data[\"public_petition_text\"].apply(lambda s: s.replace(\"\\n\", \"\"))"
   ]
  },
  {
   "cell_type": "code",
   "execution_count": 9,
   "id": "6001557f-963a-4a4c-9bd5-a3cc04523cc0",
   "metadata": {},
   "outputs": [],
   "source": [
    "morph_vocab = MorphVocab()\n",
    "segmenter = Segmenter()\n",
    "emb = NewsEmbedding()\n",
    "morph_tagger = NewsMorphTagger(emb)"
   ]
  },
  {
   "cell_type": "code",
   "execution_count": 10,
   "id": "f8c6eb2d-4dc3-4a85-96ff-fe76eb092512",
   "metadata": {},
   "outputs": [],
   "source": [
    "def lemmatize(s: str) -> str:\n",
    "    lemmas = []\n",
    "\n",
    "    doc = Doc(s)\n",
    "    doc.segment(segmenter)\n",
    "    doc.tag_morph(morph_tagger)\n",
    "\n",
    "    for token in doc.tokens:\n",
    "        token.lemmatize(morph_vocab)\n",
    "        lemmas.append(token.lemma)\n",
    "\n",
    "    return \" \".join(lemmas)"
   ]
  },
  {
   "cell_type": "code",
   "execution_count": 11,
   "id": "2b6f26f2-3d64-4bb7-a75f-fcd964f0c32c",
   "metadata": {},
   "outputs": [
    {
     "name": "stderr",
     "output_type": "stream",
     "text": [
      "[+] Lemmatizing: |██████████████████████████████████████████████████|\n"
     ]
    }
   ],
   "source": [
    "for i, s in enumerate(tqdm.tqdm(data[\"public_petition_text\"], bar_format=\"[+] Lemmatizing: |{bar:50}|\")):\n",
    "    data[\"public_petition_text\"][i] = lemmatize(s)"
   ]
  },
  {
   "cell_type": "code",
   "execution_count": 12,
   "id": "364057a4-2258-46d7-b299-dcb7e624f990",
   "metadata": {},
   "outputs": [],
   "source": [
    "stopwords = stopwords.words(\"russian\")"
   ]
  },
  {
   "cell_type": "code",
   "execution_count": 13,
   "id": "0a8fd48c-966f-4c47-9232-bd436412b338",
   "metadata": {},
   "outputs": [],
   "source": [
    "def removing_stop_words(s: str) -> str:\n",
    "    return [word for word in s.split() if word not in stopwords]"
   ]
  },
  {
   "cell_type": "code",
   "execution_count": 14,
   "id": "cf222252-1817-4eb2-bd52-7d037bd640dc",
   "metadata": {},
   "outputs": [
    {
     "name": "stderr",
     "output_type": "stream",
     "text": [
      "[+] Removing stop words: |██████████████████████████████████████████████████|\n"
     ]
    }
   ],
   "source": [
    "for i, s in enumerate(tqdm.tqdm(data[\"public_petition_text\"], bar_format=\"[+] Removing stop words: |{bar:50}|\")):\n",
    "    data[\"public_petition_text\"][i] = removing_stop_words(s)"
   ]
  }
 ],
 "metadata": {
  "kernelspec": {
   "display_name": "Python 3 (ipykernel)",
   "language": "python",
   "name": "python3"
  },
  "language_info": {
   "codemirror_mode": {
    "name": "ipython",
    "version": 3
   },
   "file_extension": ".py",
   "mimetype": "text/x-python",
   "name": "python",
   "nbconvert_exporter": "python",
   "pygments_lexer": "ipython3",
   "version": "3.12.6"
  }
 },
 "nbformat": 4,
 "nbformat_minor": 5
}
