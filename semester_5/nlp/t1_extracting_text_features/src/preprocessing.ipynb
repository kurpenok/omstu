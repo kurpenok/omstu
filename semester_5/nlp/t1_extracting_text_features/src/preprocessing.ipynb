{
 "cells": [
  {
   "cell_type": "markdown",
   "id": "7c4f7445-7523-4aef-99b8-78b006ebcd39",
   "metadata": {},
   "source": [
    "# Task 1. Extracting text features. Preprocessing"
   ]
  },
  {
   "cell_type": "markdown",
   "id": "c9aface4-3e17-41c5-beea-9e902db030e7",
   "metadata": {},
   "source": [
    "## Imports"
   ]
  },
  {
   "cell_type": "code",
   "execution_count": 1,
   "id": "09086c72-2f70-4b3d-9f81-d39f8f4cd891",
   "metadata": {},
   "outputs": [
    {
     "name": "stderr",
     "output_type": "stream",
     "text": [
      "[nltk_data] Downloading package stopwords to ../nltk_data...\n",
      "[nltk_data]   Package stopwords is already up-to-date!\n"
     ]
    }
   ],
   "source": [
    "import re\n",
    "\n",
    "import pandas as pd\n",
    "\n",
    "from natasha import Doc\n",
    "from natasha import MorphVocab\n",
    "from natasha import Segmenter\n",
    "from natasha import NewsEmbedding\n",
    "from natasha import NewsMorphTagger\n",
    "\n",
    "import nltk\n",
    "nltk.data.path = [\"../nltk_data\"]\n",
    "nltk.download(\"stopwords\", download_dir=\"../nltk_data\")\n",
    "from nltk.corpus import stopwords\n",
    "\n",
    "import tqdm"
   ]
  },
  {
   "cell_type": "code",
   "execution_count": 2,
   "id": "330dffdc-3c18-4ed0-92ee-fc7e7fe4f5b8",
   "metadata": {},
   "outputs": [],
   "source": [
    "stopwords = stopwords.words(\"russian\")"
   ]
  },
  {
   "cell_type": "markdown",
   "id": "59a82a83-401e-4328-a721-03fd867ba7c6",
   "metadata": {},
   "source": [
    "## Data preprocessing"
   ]
  },
  {
   "cell_type": "code",
   "execution_count": 3,
   "id": "fc7d7a68-8b7d-4e4f-ba62-917fbf49845e",
   "metadata": {},
   "outputs": [],
   "source": [
    "df = pd.read_csv(\"../../data/petitions.csv\")"
   ]
  },
  {
   "cell_type": "code",
   "execution_count": 4,
   "id": "1a8c1222-f27b-48bb-9d4f-eb8164627fcc",
   "metadata": {},
   "outputs": [
    {
     "data": {
      "text/html": [
       "<div>\n",
       "<style scoped>\n",
       "    .dataframe tbody tr th:only-of-type {\n",
       "        vertical-align: middle;\n",
       "    }\n",
       "\n",
       "    .dataframe tbody tr th {\n",
       "        vertical-align: top;\n",
       "    }\n",
       "\n",
       "    .dataframe thead th {\n",
       "        text-align: right;\n",
       "    }\n",
       "</style>\n",
       "<table border=\"1\" class=\"dataframe\">\n",
       "  <thead>\n",
       "    <tr style=\"text-align: right;\">\n",
       "      <th></th>\n",
       "      <th>id</th>\n",
       "      <th>public_petition_text</th>\n",
       "      <th>reason_category</th>\n",
       "    </tr>\n",
       "  </thead>\n",
       "  <tbody>\n",
       "    <tr>\n",
       "      <th>0</th>\n",
       "      <td>3168490</td>\n",
       "      <td>снег на дороге</td>\n",
       "      <td>Благоустройство</td>\n",
       "    </tr>\n",
       "    <tr>\n",
       "      <th>1</th>\n",
       "      <td>3219678</td>\n",
       "      <td>очистить кабельный киоск от рекламы</td>\n",
       "      <td>Благоустройство</td>\n",
       "    </tr>\n",
       "    <tr>\n",
       "      <th>2</th>\n",
       "      <td>2963920</td>\n",
       "      <td>Просим убрать все деревья и кустарники, которы...</td>\n",
       "      <td>Благоустройство</td>\n",
       "    </tr>\n",
       "    <tr>\n",
       "      <th>3</th>\n",
       "      <td>3374910</td>\n",
       "      <td>Неудовлетворительное состояние парадной - надп...</td>\n",
       "      <td>Содержание МКД</td>\n",
       "    </tr>\n",
       "    <tr>\n",
       "      <th>4</th>\n",
       "      <td>3336285</td>\n",
       "      <td>Граффити</td>\n",
       "      <td>Благоустройство</td>\n",
       "    </tr>\n",
       "  </tbody>\n",
       "</table>\n",
       "</div>"
      ],
      "text/plain": [
       "        id                               public_petition_text  reason_category\n",
       "0  3168490                                     снег на дороге  Благоустройство\n",
       "1  3219678                очистить кабельный киоск от рекламы  Благоустройство\n",
       "2  2963920  Просим убрать все деревья и кустарники, которы...  Благоустройство\n",
       "3  3374910  Неудовлетворительное состояние парадной - надп...   Содержание МКД\n",
       "4  3336285                                           Граффити  Благоустройство"
      ]
     },
     "execution_count": 4,
     "metadata": {},
     "output_type": "execute_result"
    }
   ],
   "source": [
    "df.head()"
   ]
  },
  {
   "cell_type": "code",
   "execution_count": 5,
   "id": "63dced29-eeca-4086-81f1-a5454165d44e",
   "metadata": {},
   "outputs": [],
   "source": [
    "df.dropna(inplace=True)\n",
    "df.drop_duplicates(inplace=True)"
   ]
  },
  {
   "cell_type": "code",
   "execution_count": 6,
   "id": "4aa93a48-b3f4-4076-a12d-288b042e20ed",
   "metadata": {},
   "outputs": [],
   "source": [
    "df.drop(\"id\", axis=1, inplace=True)"
   ]
  },
  {
   "cell_type": "code",
   "execution_count": 7,
   "id": "7510cc7b-0254-44e8-af30-f89aa8cb7d5a",
   "metadata": {},
   "outputs": [
    {
     "data": {
      "text/plain": [
       "array(['Благоустройство', 'Содержание МКД',\n",
       "       'Незаконная информационная и (или) рекламная конструкция', 'Фасад',\n",
       "       'Водоснабжение', 'Нарушение правил пользования общим имуществом',\n",
       "       'Повреждения или неисправность элементов уличной инфраструктуры',\n",
       "       'Кровля', 'Состояние рекламных или информационных конструкций',\n",
       "       'Нарушение порядка пользования общим имуществом', 'Подвалы',\n",
       "       'Водоотведение', 'Санитарное состояние', 'Центральное отопление',\n",
       "       'Незаконная реализация товаров с торгового оборудования (прилавок, ящик, с земли)'],\n",
       "      dtype=object)"
      ]
     },
     "execution_count": 7,
     "metadata": {},
     "output_type": "execute_result"
    }
   ],
   "source": [
    "df[\"reason_category\"].unique()"
   ]
  },
  {
   "cell_type": "code",
   "execution_count": 8,
   "id": "7731d3b0-88b1-4ef9-be78-9b096226b490",
   "metadata": {},
   "outputs": [],
   "source": [
    "to_replace = {\n",
    "    \"Фасад\": \"Содержание МКД\",\n",
    "    \"Водоснабжение\": \"Содержание МКД\",\n",
    "    \"Кровля\": \"Содержание МКД\",\n",
    "    \"Подвалы\": \"Содержание МКД\",\n",
    "    \"Водоотведение\": \"Содержание МКД\",\n",
    "    \"Санитарное состояние\": \"Содержание МКД\",\n",
    "    \"Центральное отопление\": \"Содержание МКД\",\n",
    "\n",
    "    \"Повреждения или неисправность элементов уличной инфраструктуры\": \"Благоустройство\",\n",
    "    \"Состояние рекламных или информационных конструкций\": \"Благоустройство\",\n",
    "\n",
    "    \"Незаконная информационная и (или) рекламная конструкция\": \"Нарушение\",\n",
    "    \"Нарушение правил пользования общим имуществом\": \"Нарушение\",\n",
    "    \"Нарушение порядка пользования общим имуществом\": \"Нарушение\",\n",
    "    \"Незаконная реализация товаров с торгового оборудования (прилавок, ящик, с земли)\": \"Нарушение\",\n",
    "}\n",
    "\n",
    "df.replace(to_replace, inplace=True)"
   ]
  },
  {
   "cell_type": "code",
   "execution_count": 9,
   "id": "31ed552a-1153-4b3b-bdba-4026b61c51aa",
   "metadata": {},
   "outputs": [],
   "source": [
    "df[\"public_petition_text\"] = df[\"public_petition_text\"].apply(str.lower)\n",
    "df[\"reason_category\"] = df[\"reason_category\"].apply(str.lower)"
   ]
  },
  {
   "cell_type": "code",
   "execution_count": 10,
   "id": "d5614777-d058-4ade-a2ed-ffe62af34040",
   "metadata": {},
   "outputs": [],
   "source": [
    "df[\"public_petition_text\"] = df[\"public_petition_text\"].apply(lambda s: re.sub(r\"[^\\s^\\w]+\", \" \", s))"
   ]
  },
  {
   "cell_type": "code",
   "execution_count": 11,
   "id": "eee0e389-8ad8-4311-9fa8-f2798399dfc8",
   "metadata": {},
   "outputs": [],
   "source": [
    "df[\"public_petition_text\"] = df[\"public_petition_text\"].apply(lambda s: s.replace(\"\\n\", \"\"))"
   ]
  },
  {
   "cell_type": "code",
   "execution_count": 12,
   "id": "ab01dd90-58a8-4cf2-8b37-70dadfa825f7",
   "metadata": {},
   "outputs": [
    {
     "data": {
      "text/html": [
       "<div>\n",
       "<style scoped>\n",
       "    .dataframe tbody tr th:only-of-type {\n",
       "        vertical-align: middle;\n",
       "    }\n",
       "\n",
       "    .dataframe tbody tr th {\n",
       "        vertical-align: top;\n",
       "    }\n",
       "\n",
       "    .dataframe thead th {\n",
       "        text-align: right;\n",
       "    }\n",
       "</style>\n",
       "<table border=\"1\" class=\"dataframe\">\n",
       "  <thead>\n",
       "    <tr style=\"text-align: right;\">\n",
       "      <th></th>\n",
       "      <th>public_petition_text</th>\n",
       "      <th>reason_category</th>\n",
       "    </tr>\n",
       "  </thead>\n",
       "  <tbody>\n",
       "    <tr>\n",
       "      <th>0</th>\n",
       "      <td>снег на дороге</td>\n",
       "      <td>благоустройство</td>\n",
       "    </tr>\n",
       "    <tr>\n",
       "      <th>1</th>\n",
       "      <td>очистить кабельный киоск от рекламы</td>\n",
       "      <td>благоустройство</td>\n",
       "    </tr>\n",
       "    <tr>\n",
       "      <th>2</th>\n",
       "      <td>просим убрать все деревья и кустарники  которы...</td>\n",
       "      <td>благоустройство</td>\n",
       "    </tr>\n",
       "    <tr>\n",
       "      <th>3</th>\n",
       "      <td>неудовлетворительное состояние парадной   надп...</td>\n",
       "      <td>содержание мкд</td>\n",
       "    </tr>\n",
       "    <tr>\n",
       "      <th>4</th>\n",
       "      <td>граффити</td>\n",
       "      <td>благоустройство</td>\n",
       "    </tr>\n",
       "  </tbody>\n",
       "</table>\n",
       "</div>"
      ],
      "text/plain": [
       "                                public_petition_text  reason_category\n",
       "0                                     снег на дороге  благоустройство\n",
       "1                очистить кабельный киоск от рекламы  благоустройство\n",
       "2  просим убрать все деревья и кустарники  которы...  благоустройство\n",
       "3  неудовлетворительное состояние парадной   надп...   содержание мкд\n",
       "4                                           граффити  благоустройство"
      ]
     },
     "execution_count": 12,
     "metadata": {},
     "output_type": "execute_result"
    }
   ],
   "source": [
    "df.head()"
   ]
  },
  {
   "cell_type": "markdown",
   "id": "774b57ee-0d5a-4180-8ea8-e6bcb7c1033f",
   "metadata": {},
   "source": [
    "## Text preprocessing"
   ]
  },
  {
   "cell_type": "code",
   "execution_count": 13,
   "id": "793501fb-2625-4410-8c95-08c57e0c1eaf",
   "metadata": {},
   "outputs": [],
   "source": [
    "morph_vocab = MorphVocab()\n",
    "segmenter = Segmenter()\n",
    "emb = NewsEmbedding()\n",
    "morph_tagger = NewsMorphTagger(emb)"
   ]
  },
  {
   "cell_type": "markdown",
   "id": "916f30e7-897d-436b-bfcb-7c04149fbcf3",
   "metadata": {},
   "source": [
    "#### Lemmatization"
   ]
  },
  {
   "cell_type": "code",
   "execution_count": 14,
   "id": "52097490-f47e-4f5f-a5dd-ab7434f19b82",
   "metadata": {},
   "outputs": [],
   "source": [
    "def lemmatize(s: str) -> str:\n",
    "    lemmas = []\n",
    "\n",
    "    doc = Doc(s)\n",
    "    doc.segment(segmenter)\n",
    "    doc.tag_morph(morph_tagger)\n",
    "\n",
    "    for token in doc.tokens:\n",
    "        token.lemmatize(morph_vocab)\n",
    "        lemmas.append(token.lemma)\n",
    "\n",
    "    return \" \".join(lemmas)"
   ]
  },
  {
   "cell_type": "code",
   "execution_count": 15,
   "id": "3a49c910-2151-4c0d-afbc-a1e4c2ffc33d",
   "metadata": {},
   "outputs": [
    {
     "name": "stderr",
     "output_type": "stream",
     "text": [
      "[+] Lemmatizing: |██████████████████████████████████████████████████|\n"
     ]
    }
   ],
   "source": [
    "for i, s in enumerate(tqdm.tqdm(df[\"public_petition_text\"], bar_format=\"[+] Lemmatizing: |{bar:50}|\")):\n",
    "    df[\"public_petition_text\"][i] = lemmatize(s)"
   ]
  },
  {
   "cell_type": "markdown",
   "id": "adca96d9-0164-4eab-ac43-1f96c3e81ece",
   "metadata": {},
   "source": [
    "#### Removing stop words"
   ]
  },
  {
   "cell_type": "code",
   "execution_count": 16,
   "id": "32eb616b-5e94-46af-b0d4-178f429b8d22",
   "metadata": {},
   "outputs": [],
   "source": [
    "def remove_stop_words(s: str) -> str:\n",
    "    return \" \".join([word for word in s.split() if word not in stopwords])"
   ]
  },
  {
   "cell_type": "code",
   "execution_count": 17,
   "id": "2bb4deba-fe60-4467-a7bb-ab59f20c2819",
   "metadata": {},
   "outputs": [
    {
     "name": "stderr",
     "output_type": "stream",
     "text": [
      "[+] Removing stop words: |██████████████████████████████████████████████████|\n"
     ]
    }
   ],
   "source": [
    "for i, s in enumerate(tqdm.tqdm(df[\"public_petition_text\"], bar_format=\"[+] Removing stop words: |{bar:50}|\")):\n",
    "    df[\"public_petition_text\"][i] = remove_stop_words(s)"
   ]
  },
  {
   "cell_type": "markdown",
   "id": "d7afc94a-d2ad-497f-a6d3-edffad4d3a96",
   "metadata": {},
   "source": [
    "#### Saving preprocessed dataset"
   ]
  },
  {
   "cell_type": "code",
   "execution_count": 18,
   "id": "288a0686-d7d8-47f2-8673-c63f9ed72df1",
   "metadata": {},
   "outputs": [
    {
     "data": {
      "text/html": [
       "<div>\n",
       "<style scoped>\n",
       "    .dataframe tbody tr th:only-of-type {\n",
       "        vertical-align: middle;\n",
       "    }\n",
       "\n",
       "    .dataframe tbody tr th {\n",
       "        vertical-align: top;\n",
       "    }\n",
       "\n",
       "    .dataframe thead th {\n",
       "        text-align: right;\n",
       "    }\n",
       "</style>\n",
       "<table border=\"1\" class=\"dataframe\">\n",
       "  <thead>\n",
       "    <tr style=\"text-align: right;\">\n",
       "      <th></th>\n",
       "      <th>public_petition_text</th>\n",
       "      <th>reason_category</th>\n",
       "    </tr>\n",
       "  </thead>\n",
       "  <tbody>\n",
       "    <tr>\n",
       "      <th>0</th>\n",
       "      <td>снег дорога</td>\n",
       "      <td>благоустройство</td>\n",
       "    </tr>\n",
       "    <tr>\n",
       "      <th>1</th>\n",
       "      <td>очистить кабельный киоск реклама</td>\n",
       "      <td>благоустройство</td>\n",
       "    </tr>\n",
       "    <tr>\n",
       "      <th>2</th>\n",
       "      <td>просить убрать весь дерево кустарник который в...</td>\n",
       "      <td>благоустройство</td>\n",
       "    </tr>\n",
       "    <tr>\n",
       "      <th>3</th>\n",
       "      <td>неудовлетворительный состояние парадный надпис...</td>\n",
       "      <td>содержание мкд</td>\n",
       "    </tr>\n",
       "    <tr>\n",
       "      <th>4</th>\n",
       "      <td>граффити</td>\n",
       "      <td>благоустройство</td>\n",
       "    </tr>\n",
       "  </tbody>\n",
       "</table>\n",
       "</div>"
      ],
      "text/plain": [
       "                                public_petition_text  reason_category\n",
       "0                                        снег дорога  благоустройство\n",
       "1                   очистить кабельный киоск реклама  благоустройство\n",
       "2  просить убрать весь дерево кустарник который в...  благоустройство\n",
       "3  неудовлетворительный состояние парадный надпис...   содержание мкд\n",
       "4                                           граффити  благоустройство"
      ]
     },
     "execution_count": 18,
     "metadata": {},
     "output_type": "execute_result"
    }
   ],
   "source": [
    "df.head()"
   ]
  },
  {
   "cell_type": "code",
   "execution_count": 19,
   "id": "634b1b53-3411-44c9-88bc-2db281621a53",
   "metadata": {},
   "outputs": [],
   "source": [
    "df.to_csv(\"../../data/preprocessed_petitions.csv\")"
   ]
  }
 ],
 "metadata": {
  "kernelspec": {
   "display_name": "Python 3 (ipykernel)",
   "language": "python",
   "name": "python3"
  },
  "language_info": {
   "codemirror_mode": {
    "name": "ipython",
    "version": 3
   },
   "file_extension": ".py",
   "mimetype": "text/x-python",
   "name": "python",
   "nbconvert_exporter": "python",
   "pygments_lexer": "ipython3",
   "version": "3.12.7"
  }
 },
 "nbformat": 4,
 "nbformat_minor": 5
}
