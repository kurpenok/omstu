{
 "cells": [
  {
   "cell_type": "markdown",
   "id": "092b3cdb-bab6-4246-b5d9-3f4b5b20b10f",
   "metadata": {},
   "source": [
    "## Импорт библиотек"
   ]
  },
  {
   "cell_type": "code",
   "execution_count": 1,
   "id": "17514b89-7257-4575-942f-05cbd2142e0c",
   "metadata": {},
   "outputs": [],
   "source": [
    "import numpy as np\n",
    "import pandas as pd\n",
    "from scipy.stats import uniform\n",
    "\n",
    "import matplotlib.pyplot as plt\n",
    "\n",
    "from sklearn.preprocessing import LabelEncoder, StandardScaler\n",
    "\n",
    "from sklearn.model_selection import train_test_split\n",
    "\n",
    "from sklearn.neighbors import KNeighborsClassifier\n",
    "from sklearn.naive_bayes import GaussianNB\n",
    "from sklearn.linear_model import LogisticRegression\n",
    "from sklearn.svm import LinearSVC\n",
    "from sklearn.metrics import accuracy_score, confusion_matrix, classification_report, RocCurveDisplay\n",
    "from sklearn.model_selection import GridSearchCV, RandomizedSearchCV\n",
    "\n",
    "import warnings\n",
    "\n",
    "warnings.filterwarnings(\"ignore\")"
   ]
  },
  {
   "cell_type": "markdown",
   "id": "d2018cdf-15ea-4e3a-8418-d03616700c75",
   "metadata": {},
   "source": [
    "## Обзор данных"
   ]
  },
  {
   "cell_type": "markdown",
   "id": "aea1c558-f67a-4985-8f08-62cf6720849f",
   "metadata": {},
   "source": [
    "#### Чтение датасета"
   ]
  },
  {
   "cell_type": "code",
   "execution_count": 2,
   "id": "304c554e-6a45-4db8-bf82-c234fc47788d",
   "metadata": {},
   "outputs": [],
   "source": [
    "df = pd.read_csv(\"../data/airlines_dataset.csv\")"
   ]
  },
  {
   "cell_type": "code",
   "execution_count": 3,
   "id": "cd364614-9ab2-4c95-99e6-f140a7d4114e",
   "metadata": {},
   "outputs": [
    {
     "data": {
      "text/html": [
       "<div>\n",
       "<style scoped>\n",
       "    .dataframe tbody tr th:only-of-type {\n",
       "        vertical-align: middle;\n",
       "    }\n",
       "\n",
       "    .dataframe tbody tr th {\n",
       "        vertical-align: top;\n",
       "    }\n",
       "\n",
       "    .dataframe thead th {\n",
       "        text-align: right;\n",
       "    }\n",
       "</style>\n",
       "<table border=\"1\" class=\"dataframe\">\n",
       "  <thead>\n",
       "    <tr style=\"text-align: right;\">\n",
       "      <th></th>\n",
       "      <th>id</th>\n",
       "      <th>Airline</th>\n",
       "      <th>Flight</th>\n",
       "      <th>AirportFrom</th>\n",
       "      <th>AirportTo</th>\n",
       "      <th>DayOfWeek</th>\n",
       "      <th>Time</th>\n",
       "      <th>Length</th>\n",
       "      <th>Delay</th>\n",
       "    </tr>\n",
       "  </thead>\n",
       "  <tbody>\n",
       "    <tr>\n",
       "      <th>0</th>\n",
       "      <td>400740</td>\n",
       "      <td>XE</td>\n",
       "      <td>3036</td>\n",
       "      <td>IAH</td>\n",
       "      <td>CHS</td>\n",
       "      <td>4.0</td>\n",
       "      <td>1195</td>\n",
       "      <td>131.0</td>\n",
       "      <td>0</td>\n",
       "    </tr>\n",
       "    <tr>\n",
       "      <th>1</th>\n",
       "      <td>194808</td>\n",
       "      <td>UA</td>\n",
       "      <td>315</td>\n",
       "      <td>DEN</td>\n",
       "      <td>ONT</td>\n",
       "      <td>7.0</td>\n",
       "      <td>707</td>\n",
       "      <td>145.0</td>\n",
       "      <td>0</td>\n",
       "    </tr>\n",
       "  </tbody>\n",
       "</table>\n",
       "</div>"
      ],
      "text/plain": [
       "       id Airline  Flight AirportFrom AirportTo  DayOfWeek  Time  Length  \\\n",
       "0  400740      XE    3036         IAH       CHS        4.0  1195   131.0   \n",
       "1  194808      UA     315         DEN       ONT        7.0   707   145.0   \n",
       "\n",
       "   Delay  \n",
       "0      0  \n",
       "1      0  "
      ]
     },
     "execution_count": 3,
     "metadata": {},
     "output_type": "execute_result"
    }
   ],
   "source": [
    "df.head(2)"
   ]
  },
  {
   "cell_type": "markdown",
   "id": "eff793d3-b74b-445a-86d8-84077b03ab66",
   "metadata": {},
   "source": [
    "#### Обзор столбцов датасета"
   ]
  },
  {
   "cell_type": "markdown",
   "id": "206910de-3572-403b-8c84-6c29122c8d69",
   "metadata": {},
   "source": [
    "- `id` - номер вылета\n",
    "- `Airline` - страна, которой принадлежит борт\n",
    "- `Flight` - номер борта\n",
    "- `AirportFrom` - аэропорт отправления\n",
    "- `AirportTo` - аэропорт прибытия\n",
    "- `DayOfWeek` - день недели\n",
    "- `Time` - общее время налёта\n",
    "- `Length` - общее расстояние полётов\n",
    "- `Delay`- статус задержки"
   ]
  },
  {
   "cell_type": "markdown",
   "id": "9474627f-0480-4e60-8516-288ff5611c46",
   "metadata": {},
   "source": [
    "#### Получение информации о данных в столбцах датафрейма"
   ]
  },
  {
   "cell_type": "code",
   "execution_count": 4,
   "id": "dbf1428f-4ccd-4880-84a7-f0aa83cf7354",
   "metadata": {},
   "outputs": [
    {
     "name": "stdout",
     "output_type": "stream",
     "text": [
      "<class 'pandas.core.frame.DataFrame'>\n",
      "RangeIndex: 400000 entries, 0 to 399999\n",
      "Data columns (total 9 columns):\n",
      " #   Column       Non-Null Count   Dtype  \n",
      "---  ------       --------------   -----  \n",
      " 0   id           400000 non-null  int64  \n",
      " 1   Airline      399264 non-null  object \n",
      " 2   Flight       400000 non-null  int64  \n",
      " 3   AirportFrom  400000 non-null  object \n",
      " 4   AirportTo    398843 non-null  object \n",
      " 5   DayOfWeek    399673 non-null  float64\n",
      " 6   Time         400000 non-null  int64  \n",
      " 7   Length       399517 non-null  float64\n",
      " 8   Delay        400000 non-null  int64  \n",
      "dtypes: float64(2), int64(4), object(3)\n",
      "memory usage: 27.5+ MB\n"
     ]
    }
   ],
   "source": [
    "df.info()"
   ]
  },
  {
   "cell_type": "markdown",
   "id": "2e3728b0-57c6-4118-a86d-a151c6bc4ac1",
   "metadata": {},
   "source": [
    "#### Выводы"
   ]
  },
  {
   "cell_type": "markdown",
   "id": "e320b561-3b0b-4bc9-9239-b888dde0c739",
   "metadata": {},
   "source": [
    "- Заголовки нужно привести к lower case и заменить разделение заглавными буквами на знаки нижнего подчёркивания\n",
    "- Требуется привести столбцы `Airline`, `AirportFrom` и `AirportTo` к числовому формату \n",
    "- Требуется обработка пропущенных значений\n",
    "- Требуется обработка дубликатов\n",
    "- Требуется удалить столбец id"
   ]
  },
  {
   "cell_type": "markdown",
   "id": "1507de8a-4014-41c5-8361-c2ec93dec5f8",
   "metadata": {},
   "source": [
    "## Предварительная обработка датасета"
   ]
  },
  {
   "cell_type": "markdown",
   "id": "b41ad207-4442-45b8-a010-9ad006671b8d",
   "metadata": {},
   "source": [
    "#### Форматирование заголовков датафрейма"
   ]
  },
  {
   "cell_type": "code",
   "execution_count": 5,
   "id": "3f28fbe9-c3b3-4bd6-a1d2-626b096fdc79",
   "metadata": {},
   "outputs": [],
   "source": [
    "df.columns = [column.strip().lower() for column in df.columns]\n",
    "\n",
    "df = df.rename(columns={\"airportfrom\": \"airport_from\", \"airportto\": \"airport_to\", \"dayofweek\": \"day_of_week\"})"
   ]
  },
  {
   "cell_type": "code",
   "execution_count": 6,
   "id": "690ee504-5ee2-4ec1-ad34-a97aa1f141d1",
   "metadata": {},
   "outputs": [
    {
     "data": {
      "text/plain": [
       "Index(['id', 'airline', 'flight', 'airport_from', 'airport_to', 'day_of_week',\n",
       "       'time', 'length', 'delay'],\n",
       "      dtype='object')"
      ]
     },
     "execution_count": 6,
     "metadata": {},
     "output_type": "execute_result"
    }
   ],
   "source": [
    "df.columns"
   ]
  },
  {
   "cell_type": "markdown",
   "id": "d83df595-c0d1-490c-b04e-16768ac7f6bc",
   "metadata": {},
   "source": [
    "#### Обработка пропущенных значений"
   ]
  },
  {
   "cell_type": "code",
   "execution_count": 7,
   "id": "482f891b-d9c1-46fa-a7a9-77298e11d073",
   "metadata": {},
   "outputs": [],
   "source": [
    "df = df.dropna()"
   ]
  },
  {
   "cell_type": "markdown",
   "id": "e0a29ed1-b062-4527-9271-4bd053addcfe",
   "metadata": {},
   "source": [
    "#### Обработка дубликатов"
   ]
  },
  {
   "cell_type": "code",
   "execution_count": 8,
   "id": "3aa61830-8b18-4af7-b1b9-63174e12a10a",
   "metadata": {},
   "outputs": [],
   "source": [
    "df = df.drop_duplicates()"
   ]
  },
  {
   "cell_type": "markdown",
   "id": "950cff40-be03-42e2-ba1a-f30f7f33168e",
   "metadata": {},
   "source": [
    "#### Приведение категориальных признаков к числовому типу"
   ]
  },
  {
   "cell_type": "code",
   "execution_count": 9,
   "id": "91cf6ff5-d328-4a8a-b7c5-3a2337c842a6",
   "metadata": {},
   "outputs": [],
   "source": [
    "label_encoder = LabelEncoder()"
   ]
  },
  {
   "cell_type": "code",
   "execution_count": 10,
   "id": "4bb6fa45-c0e2-4e2e-9b02-1cc31d404264",
   "metadata": {},
   "outputs": [],
   "source": [
    "df[\"airline\"] = label_encoder.fit_transform(df[\"airline\"])"
   ]
  },
  {
   "cell_type": "code",
   "execution_count": 11,
   "id": "81695fd6-fc7d-4400-a5da-dd7494a293fe",
   "metadata": {},
   "outputs": [],
   "source": [
    "df[\"airport_from\"] = label_encoder.fit_transform(df[\"airport_from\"])"
   ]
  },
  {
   "cell_type": "code",
   "execution_count": 12,
   "id": "120acac2-b299-462e-82ba-5ec3cbe41e18",
   "metadata": {},
   "outputs": [],
   "source": [
    "df[\"airport_to\"] = label_encoder.fit_transform(df[\"airport_to\"])"
   ]
  },
  {
   "cell_type": "code",
   "execution_count": 13,
   "id": "cf1f5b52-7cfd-4dd1-97e7-f963a9b2e7de",
   "metadata": {},
   "outputs": [
    {
     "data": {
      "text/html": [
       "<div>\n",
       "<style scoped>\n",
       "    .dataframe tbody tr th:only-of-type {\n",
       "        vertical-align: middle;\n",
       "    }\n",
       "\n",
       "    .dataframe tbody tr th {\n",
       "        vertical-align: top;\n",
       "    }\n",
       "\n",
       "    .dataframe thead th {\n",
       "        text-align: right;\n",
       "    }\n",
       "</style>\n",
       "<table border=\"1\" class=\"dataframe\">\n",
       "  <thead>\n",
       "    <tr style=\"text-align: right;\">\n",
       "      <th></th>\n",
       "      <th>id</th>\n",
       "      <th>airline</th>\n",
       "      <th>flight</th>\n",
       "      <th>airport_from</th>\n",
       "      <th>airport_to</th>\n",
       "      <th>day_of_week</th>\n",
       "      <th>time</th>\n",
       "      <th>length</th>\n",
       "      <th>delay</th>\n",
       "    </tr>\n",
       "  </thead>\n",
       "  <tbody>\n",
       "    <tr>\n",
       "      <th>0</th>\n",
       "      <td>400740</td>\n",
       "      <td>16</td>\n",
       "      <td>3036</td>\n",
       "      <td>135</td>\n",
       "      <td>54</td>\n",
       "      <td>4.0</td>\n",
       "      <td>1195</td>\n",
       "      <td>131.0</td>\n",
       "      <td>0</td>\n",
       "    </tr>\n",
       "    <tr>\n",
       "      <th>1</th>\n",
       "      <td>194808</td>\n",
       "      <td>13</td>\n",
       "      <td>315</td>\n",
       "      <td>79</td>\n",
       "      <td>207</td>\n",
       "      <td>7.0</td>\n",
       "      <td>707</td>\n",
       "      <td>145.0</td>\n",
       "      <td>0</td>\n",
       "    </tr>\n",
       "  </tbody>\n",
       "</table>\n",
       "</div>"
      ],
      "text/plain": [
       "       id  airline  flight  airport_from  airport_to  day_of_week  time  \\\n",
       "0  400740       16    3036           135          54          4.0  1195   \n",
       "1  194808       13     315            79         207          7.0   707   \n",
       "\n",
       "   length  delay  \n",
       "0   131.0      0  \n",
       "1   145.0      0  "
      ]
     },
     "execution_count": 13,
     "metadata": {},
     "output_type": "execute_result"
    }
   ],
   "source": [
    "df.head(2)"
   ]
  },
  {
   "cell_type": "markdown",
   "id": "fa1a8e4a-cf6a-4f4e-bb4f-7d62fd375b0d",
   "metadata": {},
   "source": [
    "#### Удаление первого столбца как неинформативного"
   ]
  },
  {
   "cell_type": "code",
   "execution_count": 14,
   "id": "aefc8b59-2355-42a8-ad39-3b5e51407f0a",
   "metadata": {},
   "outputs": [],
   "source": [
    "del df[\"id\"]"
   ]
  },
  {
   "cell_type": "code",
   "execution_count": 15,
   "id": "83f5e790-7237-412e-b766-daf44a152ca5",
   "metadata": {},
   "outputs": [
    {
     "data": {
      "text/html": [
       "<div>\n",
       "<style scoped>\n",
       "    .dataframe tbody tr th:only-of-type {\n",
       "        vertical-align: middle;\n",
       "    }\n",
       "\n",
       "    .dataframe tbody tr th {\n",
       "        vertical-align: top;\n",
       "    }\n",
       "\n",
       "    .dataframe thead th {\n",
       "        text-align: right;\n",
       "    }\n",
       "</style>\n",
       "<table border=\"1\" class=\"dataframe\">\n",
       "  <thead>\n",
       "    <tr style=\"text-align: right;\">\n",
       "      <th></th>\n",
       "      <th>airline</th>\n",
       "      <th>flight</th>\n",
       "      <th>airport_from</th>\n",
       "      <th>airport_to</th>\n",
       "      <th>day_of_week</th>\n",
       "      <th>time</th>\n",
       "      <th>length</th>\n",
       "      <th>delay</th>\n",
       "    </tr>\n",
       "  </thead>\n",
       "  <tbody>\n",
       "    <tr>\n",
       "      <th>0</th>\n",
       "      <td>16</td>\n",
       "      <td>3036</td>\n",
       "      <td>135</td>\n",
       "      <td>54</td>\n",
       "      <td>4.0</td>\n",
       "      <td>1195</td>\n",
       "      <td>131.0</td>\n",
       "      <td>0</td>\n",
       "    </tr>\n",
       "    <tr>\n",
       "      <th>1</th>\n",
       "      <td>13</td>\n",
       "      <td>315</td>\n",
       "      <td>79</td>\n",
       "      <td>207</td>\n",
       "      <td>7.0</td>\n",
       "      <td>707</td>\n",
       "      <td>145.0</td>\n",
       "      <td>0</td>\n",
       "    </tr>\n",
       "    <tr>\n",
       "      <th>2</th>\n",
       "      <td>12</td>\n",
       "      <td>6673</td>\n",
       "      <td>253</td>\n",
       "      <td>194</td>\n",
       "      <td>5.0</td>\n",
       "      <td>499</td>\n",
       "      <td>42.0</td>\n",
       "      <td>1</td>\n",
       "    </tr>\n",
       "    <tr>\n",
       "      <th>3</th>\n",
       "      <td>15</td>\n",
       "      <td>3668</td>\n",
       "      <td>217</td>\n",
       "      <td>207</td>\n",
       "      <td>2.0</td>\n",
       "      <td>810</td>\n",
       "      <td>70.0</td>\n",
       "      <td>1</td>\n",
       "    </tr>\n",
       "    <tr>\n",
       "      <th>4</th>\n",
       "      <td>2</td>\n",
       "      <td>623</td>\n",
       "      <td>153</td>\n",
       "      <td>214</td>\n",
       "      <td>5.0</td>\n",
       "      <td>985</td>\n",
       "      <td>143.0</td>\n",
       "      <td>0</td>\n",
       "    </tr>\n",
       "  </tbody>\n",
       "</table>\n",
       "</div>"
      ],
      "text/plain": [
       "   airline  flight  airport_from  airport_to  day_of_week  time  length  delay\n",
       "0       16    3036           135          54          4.0  1195   131.0      0\n",
       "1       13     315            79         207          7.0   707   145.0      0\n",
       "2       12    6673           253         194          5.0   499    42.0      1\n",
       "3       15    3668           217         207          2.0   810    70.0      1\n",
       "4        2     623           153         214          5.0   985   143.0      0"
      ]
     },
     "execution_count": 15,
     "metadata": {},
     "output_type": "execute_result"
    }
   ],
   "source": [
    "df.head()"
   ]
  },
  {
   "cell_type": "markdown",
   "id": "0f07b244-d2be-418b-87d3-ee72fb603c6a",
   "metadata": {},
   "source": [
    "#### Сохранение предобработанного датасета"
   ]
  },
  {
   "cell_type": "code",
   "execution_count": 16,
   "id": "38e780e6-2af2-4ad0-8648-8d9a2b32d611",
   "metadata": {},
   "outputs": [],
   "source": [
    "df.to_csv(\"../data/preprocessed_airlines_dataset.csv\")"
   ]
  },
  {
   "cell_type": "markdown",
   "id": "ade93ee4-75be-4750-a505-0708a7b3a360",
   "metadata": {},
   "source": [
    "## Подготовка данных к обучению"
   ]
  },
  {
   "cell_type": "markdown",
   "id": "bc321d28-b27e-4562-be0a-a91797a3f241",
   "metadata": {},
   "source": [
    "#### Разделение данных на матрицу признаков и предсказываемые значения"
   ]
  },
  {
   "cell_type": "code",
   "execution_count": 17,
   "id": "08007b2b-f8df-4483-b2ec-9c245943a35c",
   "metadata": {},
   "outputs": [],
   "source": [
    "y = df.loc[:, \"delay\"]\n",
    "X = df.drop(\"delay\", axis=1)"
   ]
  },
  {
   "cell_type": "markdown",
   "id": "3e82954d-d4a4-4b6c-9a65-18110390e122",
   "metadata": {},
   "source": [
    "#### Разбиение данных на обучающую и тестовую выборки"
   ]
  },
  {
   "cell_type": "code",
   "execution_count": 18,
   "id": "6084a2fb-6daf-4038-a5f6-7e1ad697356c",
   "metadata": {},
   "outputs": [],
   "source": [
    "X_train, X_test, y_train, y_test = train_test_split(X, y)"
   ]
  },
  {
   "cell_type": "markdown",
   "id": "96dfe387-3b34-4955-9678-13a55d07e2a7",
   "metadata": {},
   "source": [
    "#### Масштабирование признаков"
   ]
  },
  {
   "cell_type": "code",
   "execution_count": 19,
   "id": "76a825d0-e217-41ff-9dd8-b864ebb05625",
   "metadata": {},
   "outputs": [],
   "source": [
    "scaler = StandardScaler()\n",
    "scaler.fit(X_train)\n",
    "X_train = scaler.transform(X_train)\n",
    "X_test = scaler.transform(X_test)"
   ]
  },
  {
   "cell_type": "markdown",
   "id": "3e7cce63-12f0-412d-95bd-9d25235b1ac1",
   "metadata": {},
   "source": [
    "#### Проверка балансировки классов"
   ]
  },
  {
   "cell_type": "code",
   "execution_count": 20,
   "id": "1db429a7-72af-4308-a955-93e866dc42d9",
   "metadata": {},
   "outputs": [
    {
     "data": {
      "text/plain": [
       "delay\n",
       "0    297096\n",
       "1    100211\n",
       "Name: count, dtype: int64"
      ]
     },
     "execution_count": 20,
     "metadata": {},
     "output_type": "execute_result"
    }
   ],
   "source": [
    "y.value_counts()"
   ]
  },
  {
   "cell_type": "markdown",
   "id": "cfbaa63a-4a20-477c-aba5-bc3711404927",
   "metadata": {},
   "source": [
    "Баланс классов приемлемый"
   ]
  },
  {
   "cell_type": "markdown",
   "id": "ca51bfa0-3d1f-46e2-9119-953086994ffb",
   "metadata": {},
   "source": [
    "## Обучение классификаторов"
   ]
  },
  {
   "cell_type": "markdown",
   "id": "dba949d2-850b-4b10-95f5-35e013d8ae2c",
   "metadata": {},
   "source": [
    "#### Метод для оценки качества"
   ]
  },
  {
   "cell_type": "code",
   "execution_count": 21,
   "id": "ee283ef8-8920-410f-8088-b000219776ca",
   "metadata": {},
   "outputs": [],
   "source": [
    "def quality_assessment(y_test: np.ndarray, y_pred: np.ndarray) -> None:\n",
    "    print(\"[+] Accuracy:\", accuracy_score(y_test, y_pred))\n",
    "    print(\"[+] Confusion matrix:\", *confusion_matrix(y_test, y_pred))\n",
    "    print(\"[+] Classification report:\", classification_report(y_test, y_pred))"
   ]
  },
  {
   "cell_type": "markdown",
   "id": "8674379c-3052-4d8f-8479-81fed2f0c3ac",
   "metadata": {},
   "source": [
    "#### KNN"
   ]
  },
  {
   "cell_type": "code",
   "execution_count": 22,
   "id": "3a154aa1-998b-4763-92dc-1e36eb959783",
   "metadata": {},
   "outputs": [],
   "source": [
    "knn = KNeighborsClassifier()\n",
    "knn.fit(X_train, y_train)\n",
    "\n",
    "y_pred = knn.predict(X_test)"
   ]
  },
  {
   "cell_type": "code",
   "execution_count": 23,
   "id": "8a296dab-12f4-4580-891d-9c4c9bd3518a",
   "metadata": {},
   "outputs": [
    {
     "name": "stdout",
     "output_type": "stream",
     "text": [
      "[+] Accuracy: 0.7380772599595277\n",
      "[+] Confusion matrix: [66727  7664] [18352  6584]\n",
      "[+] Classification report:               precision    recall  f1-score   support\n",
      "\n",
      "           0       0.78      0.90      0.84     74391\n",
      "           1       0.46      0.26      0.34     24936\n",
      "\n",
      "    accuracy                           0.74     99327\n",
      "   macro avg       0.62      0.58      0.59     99327\n",
      "weighted avg       0.70      0.74      0.71     99327\n",
      "\n"
     ]
    }
   ],
   "source": [
    "quality_assessment(y_test, y_pred)"
   ]
  },
  {
   "cell_type": "code",
   "execution_count": 24,
   "id": "f9a22aab-d6c9-417d-b575-3afc5e7bc9ca",
   "metadata": {},
   "outputs": [
    {
     "data": {
      "text/plain": [
       "<sklearn.metrics._plot.roc_curve.RocCurveDisplay at 0x7f9a261e3bf0>"
      ]
     },
     "execution_count": 24,
     "metadata": {},
     "output_type": "execute_result"
    },
    {
     "data": {
      "image/png": "[encoded data removed]",
      "text/plain": [
       "<Figure size 640x480 with 1 Axes>"
      ]
     },
     "metadata": {},
     "output_type": "display_data"
    }
   ],
   "source": [
    "RocCurveDisplay.from_estimator(knn, X_test, y_test)"
   ]
  },
  {
   "cell_type": "markdown",
   "id": "0d2b4c6e-b095-4f84-9e96-60b1bfc0ac51",
   "metadata": {},
   "source": [
    "#### Оптимизированный KNN"
   ]
  },
  {
   "cell_type": "code",
   "execution_count": 25,
   "id": "3ebd94ec-8aca-437a-887c-af4dea23dbc4",
   "metadata": {},
   "outputs": [],
   "source": [
    "params = {\"n_neighbors\": [1, 3, 5, 7, 9], \"metric\": [\"euclidean\", \"manhattan\", \"minkowski\"]}"
   ]
  },
  {
   "cell_type": "code",
   "execution_count": 26,
   "id": "2521876e-0dd1-4a7c-9d0f-c85c6f6b9920",
   "metadata": {},
   "outputs": [],
   "source": [
    "# НЕ ЗАПУСКАТЬ!\n",
    "\n",
    "# grid_search = GridSearchCV(KNeighborsClassifier(), param_grid=params, cv=5)\n",
    "# grid_search.fit(X_train, y_train)\n",
    "# best_params = grid_search.best_params_\n",
    "\n",
    "# print(\"[+] Best parameters for KNN:\", best_params)"
   ]
  },
  {
   "cell_type": "code",
   "execution_count": 27,
   "id": "f8e2c5b2-2feb-4b1c-8eeb-25667c70a763",
   "metadata": {},
   "outputs": [
    {
     "name": "stdout",
     "output_type": "stream",
     "text": [
      "[+] Best parameters for KNN: {'n_neighbors': 9, 'metric': 'manhattan'}\n"
     ]
    }
   ],
   "source": [
    "random_search = RandomizedSearchCV(KNeighborsClassifier(), params, cv=5)\n",
    "random_search.fit(X_train, y_train)\n",
    "best_params = random_search.best_params_\n",
    "\n",
    "print(\"[+] Best parameters for KNN:\", best_params)"
   ]
  },
  {
   "cell_type": "code",
   "execution_count": 28,
   "id": "4a1b8279-363d-4f5c-86c7-5973fbfb663f",
   "metadata": {},
   "outputs": [],
   "source": [
    "knn = KNeighborsClassifier(**best_params)\n",
    "knn.fit(X_train, y_train)\n",
    "\n",
    "y_pred = knn.predict(X_test)"
   ]
  },
  {
   "cell_type": "code",
   "execution_count": 29,
   "id": "e8e61c33-e518-4c0e-8681-3f32c4214e7d",
   "metadata": {},
   "outputs": [
    {
     "name": "stdout",
     "output_type": "stream",
     "text": [
      "[+] Accuracy: 0.7643238998459634\n",
      "[+] Confusion matrix: [69330  5061] [18348  6588]\n",
      "[+] Classification report:               precision    recall  f1-score   support\n",
      "\n",
      "           0       0.79      0.93      0.86     74391\n",
      "           1       0.57      0.26      0.36     24936\n",
      "\n",
      "    accuracy                           0.76     99327\n",
      "   macro avg       0.68      0.60      0.61     99327\n",
      "weighted avg       0.73      0.76      0.73     99327\n",
      "\n"
     ]
    }
   ],
   "source": [
    "quality_assessment(y_test, y_pred)"
   ]
  },
  {
   "cell_type": "markdown",
   "id": "f5be0949-00dd-4e7d-a20c-610678b2ad62",
   "metadata": {},
   "source": [
    "#### Naive Bayes"
   ]
  },
  {
   "cell_type": "code",
   "execution_count": 30,
   "id": "80cbd9bd-5f32-40e9-a8a2-c7d0e0bba0b3",
   "metadata": {},
   "outputs": [],
   "source": [
    "gnb = GaussianNB()\n",
    "gnb.fit(X_train, y_train)\n",
    "\n",
    "y_pred = gnb.predict(X_test)"
   ]
  },
  {
   "cell_type": "code",
   "execution_count": 31,
   "id": "66cd3f87-cba6-4f80-8206-88a83f9dcad8",
   "metadata": {},
   "outputs": [
    {
     "name": "stdout",
     "output_type": "stream",
     "text": [
      "[+] Accuracy: 0.7464637007057497\n",
      "[+] Confusion matrix: [73913   478] [24705   231]\n",
      "[+] Classification report:               precision    recall  f1-score   support\n",
      "\n",
      "           0       0.75      0.99      0.85     74391\n",
      "           1       0.33      0.01      0.02     24936\n",
      "\n",
      "    accuracy                           0.75     99327\n",
      "   macro avg       0.54      0.50      0.44     99327\n",
      "weighted avg       0.64      0.75      0.64     99327\n",
      "\n"
     ]
    }
   ],
   "source": [
    "quality_assessment(y_test, y_pred)"
   ]
  },
  {
   "cell_type": "code",
   "execution_count": 32,
   "id": "0b7050a3-0157-417a-bdc2-6761fc8a1f22",
   "metadata": {},
   "outputs": [
    {
     "data": {
      "text/plain": [
       "<sklearn.metrics._plot.roc_curve.RocCurveDisplay at 0x7f9a4391f440>"
      ]
     },
     "execution_count": 32,
     "metadata": {},
     "output_type": "execute_result"
    },
    {
     "data": {
      "image/png": "[encoded data removed]",
      "text/plain": [
       "<Figure size 640x480 with 1 Axes>"
      ]
     },
     "metadata": {},
     "output_type": "display_data"
    }
   ],
   "source": [
    "RocCurveDisplay.from_estimator(gnb, X_test, y_test)"
   ]
  },
  {
   "cell_type": "markdown",
   "id": "3ac51ae2-e5b1-47d8-b120-a7b7a86f44a0",
   "metadata": {},
   "source": [
    "#### Оптимизированный Naive Bayes"
   ]
  },
  {
   "cell_type": "code",
   "execution_count": 33,
   "id": "6bc11d19-e3d5-4b42-a5ee-1066dab0cd6b",
   "metadata": {},
   "outputs": [],
   "source": [
    "params = {\"var_smoothing\": uniform(loc=1e-9, scale=1)}"
   ]
  },
  {
   "cell_type": "code",
   "execution_count": 34,
   "id": "4e30db7a-a252-4146-ba56-98efee19dc90",
   "metadata": {},
   "outputs": [
    {
     "name": "stdout",
     "output_type": "stream",
     "text": [
      "[+] Best parameters for GNB: {'var_smoothing': np.float64(0.9423500561843035)}\n"
     ]
    }
   ],
   "source": [
    "random_search = RandomizedSearchCV(GaussianNB(), params, cv=5)\n",
    "random_search.fit(X_train, y_train)\n",
    "best_params = random_search.best_params_\n",
    "\n",
    "print(\"[+] Best parameters for GNB:\", best_params)"
   ]
  },
  {
   "cell_type": "code",
   "execution_count": 35,
   "id": "47b1ee9c-27cb-4e10-8df7-c41ada3ab162",
   "metadata": {},
   "outputs": [],
   "source": [
    "gnb = GaussianNB(**best_params)\n",
    "gnb.fit(X_train, y_train)\n",
    "\n",
    "y_pred = gnb.predict(X_test)"
   ]
  },
  {
   "cell_type": "code",
   "execution_count": 36,
   "id": "f7fcf21a-fce0-48cd-94d7-8a682ca33c03",
   "metadata": {},
   "outputs": [
    {
     "name": "stdout",
     "output_type": "stream",
     "text": [
      "[+] Accuracy: 0.7489504364372225\n",
      "[+] Confusion matrix: [74391     0] [24936     0]\n",
      "[+] Classification report:               precision    recall  f1-score   support\n",
      "\n",
      "           0       0.75      1.00      0.86     74391\n",
      "           1       0.00      0.00      0.00     24936\n",
      "\n",
      "    accuracy                           0.75     99327\n",
      "   macro avg       0.37      0.50      0.43     99327\n",
      "weighted avg       0.56      0.75      0.64     99327\n",
      "\n"
     ]
    }
   ],
   "source": [
    "quality_assessment(y_test, y_pred)"
   ]
  },
  {
   "cell_type": "markdown",
   "id": "bfc2f693-b7f3-4fef-a8fa-543c5324b64c",
   "metadata": {},
   "source": [
    "#### Logistic Regression"
   ]
  },
  {
   "cell_type": "code",
   "execution_count": 37,
   "id": "5302879e-8127-4ee6-b7f8-cad5db222e76",
   "metadata": {},
   "outputs": [],
   "source": [
    "lr = LogisticRegression()\n",
    "lr.fit(X_train, y_train)\n",
    "\n",
    "y_pred = lr.predict(X_test)"
   ]
  },
  {
   "cell_type": "code",
   "execution_count": 38,
   "id": "6e419002-ae61-4588-ac56-c1d4220ed09f",
   "metadata": {},
   "outputs": [
    {
     "data": {
      "text/plain": [
       "0.7481752192253869"
      ]
     },
     "execution_count": 38,
     "metadata": {},
     "output_type": "execute_result"
    }
   ],
   "source": [
    "lr.score(X_test, y_test)\n",
    "\n",
    "# quality_assessment(y_test, y_pred)"
   ]
  },
  {
   "cell_type": "code",
   "execution_count": 39,
   "id": "6ac38ca9-3dd5-40df-826b-4942ae8b4a08",
   "metadata": {},
   "outputs": [
    {
     "data": {
      "text/plain": [
       "<sklearn.metrics._plot.roc_curve.RocCurveDisplay at 0x7f9a25b976b0>"
      ]
     },
     "execution_count": 39,
     "metadata": {},
     "output_type": "execute_result"
    },
    {
     "data": {
      "image/png": "[encoded data removed]",
      "text/plain": [
       "<Figure size 640x480 with 1 Axes>"
      ]
     },
     "metadata": {},
     "output_type": "display_data"
    }
   ],
   "source": [
    "RocCurveDisplay.from_estimator(lr, X_test, y_test)"
   ]
  },
  {
   "cell_type": "markdown",
   "id": "f00143fd-279f-4d97-9038-ce5842f399c0",
   "metadata": {},
   "source": [
    "#### Оптимизированная Logistic Regression"
   ]
  },
  {
   "cell_type": "code",
   "execution_count": 40,
   "id": "3c911bf5-4641-4825-b951-5ca51be43b2c",
   "metadata": {},
   "outputs": [],
   "source": [
    "params = {\"C\": [0.1, 1, 10, 100], \"penalty\": [\"l1\", \"l2\"]}"
   ]
  },
  {
   "cell_type": "code",
   "execution_count": 41,
   "id": "a873e81a-602d-404e-986f-bfbf8264b771",
   "metadata": {},
   "outputs": [
    {
     "name": "stdout",
     "output_type": "stream",
     "text": [
      "[+] Best parameters for Logistic Regression: {'penalty': 'l2', 'C': 0.1}\n"
     ]
    }
   ],
   "source": [
    "random_search = RandomizedSearchCV(LogisticRegression(), params, cv=5)\n",
    "random_search.fit(X_train, y_train)\n",
    "best_params = random_search.best_params_\n",
    "\n",
    "print(\"[+] Best parameters for Logistic Regression:\", best_params)"
   ]
  },
  {
   "cell_type": "code",
   "execution_count": 42,
   "id": "fcf656ff-15f4-4867-80eb-e0a7b6a3f739",
   "metadata": {},
   "outputs": [],
   "source": [
    "lr = LogisticRegression(**best_params)\n",
    "lr.fit(X_train, y_train)\n",
    "\n",
    "y_pred = lr.predict(X_test)"
   ]
  },
  {
   "cell_type": "code",
   "execution_count": 43,
   "id": "3d4560d0-dc9d-4718-b52f-c2f73b53eef7",
   "metadata": {},
   "outputs": [
    {
     "data": {
      "text/plain": [
       "0.748165151469389"
      ]
     },
     "execution_count": 43,
     "metadata": {},
     "output_type": "execute_result"
    }
   ],
   "source": [
    "lr.score(X_test, y_test)\n",
    "\n",
    "# quality_assessment(y_test, y_pred)"
   ]
  },
  {
   "cell_type": "markdown",
   "id": "dfb139a2-d137-44ac-be39-6d1b5e0781f6",
   "metadata": {},
   "source": [
    "#### SVM"
   ]
  },
  {
   "cell_type": "code",
   "execution_count": 44,
   "id": "f028d067-7bca-4fa2-9d2e-b7e1d8176805",
   "metadata": {},
   "outputs": [],
   "source": [
    "svc = LinearSVC()\n",
    "svc.fit(X_train, y_train)\n",
    "\n",
    "y_pred = svc.predict(X_test)"
   ]
  },
  {
   "cell_type": "code",
   "execution_count": 45,
   "id": "8dd33cfe-e7e2-4d9f-a0b2-c1510a055acf",
   "metadata": {},
   "outputs": [
    {
     "name": "stdout",
     "output_type": "stream",
     "text": [
      "[+] Accuracy: 0.748920233169229\n",
      "[+] Confusion matrix: [74387     4] [24935     1]\n",
      "[+] Classification report:               precision    recall  f1-score   support\n",
      "\n",
      "           0       0.75      1.00      0.86     74391\n",
      "           1       0.20      0.00      0.00     24936\n",
      "\n",
      "    accuracy                           0.75     99327\n",
      "   macro avg       0.47      0.50      0.43     99327\n",
      "weighted avg       0.61      0.75      0.64     99327\n",
      "\n"
     ]
    }
   ],
   "source": [
    "quality_assessment(y_test, y_pred)"
   ]
  },
  {
   "cell_type": "code",
   "execution_count": 46,
   "id": "7e980063-9f27-436d-b8f8-e511aa7dae15",
   "metadata": {},
   "outputs": [
    {
     "data": {
      "text/plain": [
       "<sklearn.metrics._plot.roc_curve.RocCurveDisplay at 0x7f9a255ec890>"
      ]
     },
     "execution_count": 46,
     "metadata": {},
     "output_type": "execute_result"
    },
    {
     "data": {
      "image/png": "[encoded data removed]",
      "text/plain": [
       "<Figure size 640x480 with 1 Axes>"
      ]
     },
     "metadata": {},
     "output_type": "display_data"
    }
   ],
   "source": [
    "RocCurveDisplay.from_estimator(svc, X_test, y_test)"
   ]
  },
  {
   "cell_type": "markdown",
   "id": "a9cf0e99-667c-4b43-8182-7190b4e6d8e7",
   "metadata": {},
   "source": [
    "#### Оптимизированный SVM"
   ]
  },
  {
   "cell_type": "code",
   "execution_count": 47,
   "id": "642691b6-0054-42c2-bd63-19a281644c4d",
   "metadata": {},
   "outputs": [],
   "source": [
    "params = {\"C\": uniform(0.01, 10.0), \"penalty\": [\"l1\", \"l2\"]}"
   ]
  },
  {
   "cell_type": "code",
   "execution_count": 48,
   "id": "a8b44b84-61bd-4e06-a74c-3d8585e725b7",
   "metadata": {},
   "outputs": [
    {
     "name": "stdout",
     "output_type": "stream",
     "text": [
      "[+] Best parameters for SVM: {'C': np.float64(0.031267008522013466), 'penalty': 'l2'}\n"
     ]
    }
   ],
   "source": [
    "random_search = RandomizedSearchCV(LinearSVC(), params, cv=5)\n",
    "random_search.fit(X_train, y_train)\n",
    "best_params = random_search.best_params_\n",
    "\n",
    "print(\"[+] Best parameters for SVM:\", best_params)"
   ]
  },
  {
   "cell_type": "code",
   "execution_count": 49,
   "id": "42e3cf5e-b7e7-48cd-bf24-06971330b97f",
   "metadata": {},
   "outputs": [],
   "source": [
    "svc = LinearSVC(**best_params)\n",
    "svc.fit(X_train, y_train)\n",
    "\n",
    "y_pred = svc.predict(X_test)"
   ]
  },
  {
   "cell_type": "code",
   "execution_count": 50,
   "id": "d8594bdc-a1ff-4209-bf88-87b3f2ae7f96",
   "metadata": {},
   "outputs": [
    {
     "name": "stdout",
     "output_type": "stream",
     "text": [
      "[+] Accuracy: 0.748920233169229\n",
      "[+] Confusion matrix: [74387     4] [24935     1]\n",
      "[+] Classification report:               precision    recall  f1-score   support\n",
      "\n",
      "           0       0.75      1.00      0.86     74391\n",
      "           1       0.20      0.00      0.00     24936\n",
      "\n",
      "    accuracy                           0.75     99327\n",
      "   macro avg       0.47      0.50      0.43     99327\n",
      "weighted avg       0.61      0.75      0.64     99327\n",
      "\n"
     ]
    }
   ],
   "source": [
    "quality_assessment(y_test, y_pred)"
   ]
  },
  {
   "cell_type": "markdown",
   "id": "41db681e-b3e1-4865-b706-edf3cfbd7fe7",
   "metadata": {},
   "source": [
    "## Вывод"
   ]
  },
  {
   "cell_type": "markdown",
   "id": "ce2efc05-2644-4e71-8e96-7279a8f09b5a",
   "metadata": {},
   "source": [
    "Наиболее хорошо себя показала модель `KNN` с `AUC=0.64`."
   ]
  }
 ],
 "metadata": {
  "kernelspec": {
   "display_name": "Python 3 (ipykernel)",
   "language": "python",
   "name": "python3"
  },
  "language_info": {
   "codemirror_mode": {
    "name": "ipython",
    "version": 3
   },
   "file_extension": ".py",
   "mimetype": "text/x-python",
   "name": "python",
   "nbconvert_exporter": "python",
   "pygments_lexer": "ipython3",
   "version": "3.12.6"
  }
 },
 "nbformat": 4,
 "nbformat_minor": 5
}
