{
 "cells": [
  {
   "cell_type": "markdown",
   "id": "78390527-b512-4f4a-9bb4-a58d85139b79",
   "metadata": {
    "jp-MarkdownHeadingCollapsed": true
   },
   "source": [
    "## Импорт библиотек"
   ]
  },
  {
   "cell_type": "code",
   "execution_count": 1,
   "id": "9bac6919-bc34-40bd-a7ed-395696fb5202",
   "metadata": {},
   "outputs": [],
   "source": [
    "import numpy as np\n",
    "import pandas as pd\n",
    "\n",
    "import matplotlib.pyplot as plt\n",
    "import seaborn as sns\n",
    "\n",
    "from sklearn.preprocessing import LabelEncoder, StandardScaler, PolynomialFeatures\n",
    "\n",
    "from sklearn.model_selection import train_test_split\n",
    "\n",
    "from sklearn.linear_model import LinearRegression, Lasso, Ridge, ElasticNet\n",
    "from sklearn.model_selection import GridSearchCV, RandomizedSearchCV\n",
    "from sklearn.metrics import mean_absolute_error, mean_squared_error, mean_absolute_percentage_error, r2_score\n",
    "\n",
    "from sklearn.pipeline import Pipeline, make_pipeline"
   ]
  },
  {
   "cell_type": "markdown",
   "id": "0d498850-5b8c-4727-b608-7a87232ac4f7",
   "metadata": {
    "jp-MarkdownHeadingCollapsed": true
   },
   "source": [
    "## Обзор данных"
   ]
  },
  {
   "cell_type": "markdown",
   "id": "2988aa60-accc-4b46-90c9-2e65ec7086c2",
   "metadata": {
    "jp-MarkdownHeadingCollapsed": true
   },
   "source": [
    "#### Чтение датасета"
   ]
  },
  {
   "cell_type": "code",
   "execution_count": 2,
   "id": "3a192c40-c7f1-4adf-938f-cae93909703f",
   "metadata": {},
   "outputs": [],
   "source": [
    "df = pd.read_csv(\"moldova_cars_dataset.csv\")"
   ]
  },
  {
   "cell_type": "code",
   "execution_count": 3,
   "id": "4c03e1a1-fdf9-4388-b821-9ceaa4747db6",
   "metadata": {},
   "outputs": [
    {
     "data": {
      "text/html": [
       "<div>\n",
       "<style scoped>\n",
       "    .dataframe tbody tr th:only-of-type {\n",
       "        vertical-align: middle;\n",
       "    }\n",
       "\n",
       "    .dataframe tbody tr th {\n",
       "        vertical-align: top;\n",
       "    }\n",
       "\n",
       "    .dataframe thead th {\n",
       "        text-align: right;\n",
       "    }\n",
       "</style>\n",
       "<table border=\"1\" class=\"dataframe\">\n",
       "  <thead>\n",
       "    <tr style=\"text-align: right;\">\n",
       "      <th></th>\n",
       "      <th>Make</th>\n",
       "      <th>Model</th>\n",
       "      <th>Year</th>\n",
       "      <th>Style</th>\n",
       "      <th>Distance</th>\n",
       "      <th>Engine_capacity(cm3)</th>\n",
       "      <th>Fuel_type</th>\n",
       "      <th>Transmission</th>\n",
       "      <th>Price(euro)</th>\n",
       "    </tr>\n",
       "  </thead>\n",
       "  <tbody>\n",
       "    <tr>\n",
       "      <th>0</th>\n",
       "      <td>Toyota</td>\n",
       "      <td>Prius</td>\n",
       "      <td>2011.0</td>\n",
       "      <td>Hatchback</td>\n",
       "      <td>195000.0</td>\n",
       "      <td>1800.0</td>\n",
       "      <td>Hybrid</td>\n",
       "      <td>Automatic</td>\n",
       "      <td>7750.0</td>\n",
       "    </tr>\n",
       "    <tr>\n",
       "      <th>1</th>\n",
       "      <td>Renault</td>\n",
       "      <td>Grand Scenic</td>\n",
       "      <td>2014.0</td>\n",
       "      <td>Universal</td>\n",
       "      <td>135000.0</td>\n",
       "      <td>1500.0</td>\n",
       "      <td>Diesel</td>\n",
       "      <td>Manual</td>\n",
       "      <td>8550.0</td>\n",
       "    </tr>\n",
       "  </tbody>\n",
       "</table>\n",
       "</div>"
      ],
      "text/plain": [
       "      Make         Model    Year      Style  Distance  Engine_capacity(cm3)  \\\n",
       "0   Toyota         Prius  2011.0  Hatchback  195000.0                1800.0   \n",
       "1  Renault  Grand Scenic  2014.0  Universal  135000.0                1500.0   \n",
       "\n",
       "  Fuel_type Transmission  Price(euro)  \n",
       "0    Hybrid    Automatic       7750.0  \n",
       "1    Diesel       Manual       8550.0  "
      ]
     },
     "execution_count": 3,
     "metadata": {},
     "output_type": "execute_result"
    }
   ],
   "source": [
    "df.head(2)"
   ]
  },
  {
   "cell_type": "markdown",
   "id": "f03aa5c1-e906-4ad4-ae60-db79220e8355",
   "metadata": {},
   "source": [
    "Датасет содержит следующие столбцы:\n",
    "\n",
    "- `Make` - марка машины\n",
    "- `Model` - модель машины\n",
    "- `Year` - год выпуска\n",
    "- `Style` - тип машины\n",
    "- `Distance` - пробег\n",
    "- `Engine_capacity(cm3)` - объём двигателя\n",
    "- `Fuel_type` - вид топлива\n",
    "- `Transmission` - тип трансмиссии\n",
    "- `Price(euro)` - цена в евро"
   ]
  },
  {
   "cell_type": "markdown",
   "id": "4c57c6bb-37d2-4041-80c9-7b2069a07050",
   "metadata": {
    "jp-MarkdownHeadingCollapsed": true
   },
   "source": [
    "#### Получение информации о данных в столбцах датафрейма"
   ]
  },
  {
   "cell_type": "code",
   "execution_count": 4,
   "id": "f8ef4ace-a71b-4bd1-9bb3-5baa42194674",
   "metadata": {},
   "outputs": [
    {
     "name": "stdout",
     "output_type": "stream",
     "text": [
      "<class 'pandas.core.frame.DataFrame'>\n",
      "RangeIndex: 41007 entries, 0 to 41006\n",
      "Data columns (total 9 columns):\n",
      " #   Column                Non-Null Count  Dtype  \n",
      "---  ------                --------------  -----  \n",
      " 0   Make                  41007 non-null  object \n",
      " 1   Model                 40671 non-null  object \n",
      " 2   Year                  40771 non-null  float64\n",
      " 3   Style                 40938 non-null  object \n",
      " 4   Distance              40889 non-null  float64\n",
      " 5   Engine_capacity(cm3)  41007 non-null  float64\n",
      " 6   Fuel_type             41007 non-null  object \n",
      " 7   Transmission          40779 non-null  object \n",
      " 8   Price(euro)           41007 non-null  float64\n",
      "dtypes: float64(4), object(5)\n",
      "memory usage: 2.8+ MB\n"
     ]
    }
   ],
   "source": [
    "df.info()"
   ]
  },
  {
   "cell_type": "markdown",
   "id": "07d97197-4cd6-49c7-95ca-810c507d8296",
   "metadata": {
    "jp-MarkdownHeadingCollapsed": true
   },
   "source": [
    "#### Выводы"
   ]
  },
  {
   "cell_type": "markdown",
   "id": "2dae7462-c73d-419d-9b80-d37f06b89790",
   "metadata": {},
   "source": [
    "- Заголовки нужно привести к lower case и заменить разделяющие пробелы на знаки нижнего подчёркивания\n",
    "- Требуется обработка пропущенных значений\n",
    "- Требуется обработка дубликатов\n",
    "- Столбцы `Make`, `Model`, `Style`, `Fuel_type`, `Transmission` требуется привести к числовому типу"
   ]
  },
  {
   "cell_type": "markdown",
   "id": "64e127cb-c4cb-4d1e-b5f7-84601513d8ad",
   "metadata": {
    "jp-MarkdownHeadingCollapsed": true
   },
   "source": [
    "## Предварительная обработка данных"
   ]
  },
  {
   "cell_type": "markdown",
   "id": "97640bc9-0e0d-4d20-8b08-2b80fb29f185",
   "metadata": {
    "jp-MarkdownHeadingCollapsed": true
   },
   "source": [
    "#### Форматирование заголовков датафрейма"
   ]
  },
  {
   "cell_type": "code",
   "execution_count": 5,
   "id": "b02f2ef8-9336-485e-8e6a-7974f2cb2e9f",
   "metadata": {},
   "outputs": [],
   "source": [
    "df.columns = [column.strip().lower() for column in df.columns]\n",
    "\n",
    "df = df.rename(columns={ \"engine_capacity(cm3)\": \"engine_capacity\", \"price(euro)\": \"price\" })"
   ]
  },
  {
   "cell_type": "code",
   "execution_count": 6,
   "id": "59ecc648-dbb1-498e-b258-4ade165918d1",
   "metadata": {},
   "outputs": [
    {
     "data": {
      "text/plain": [
       "Index(['make', 'model', 'year', 'style', 'distance', 'engine_capacity',\n",
       "       'fuel_type', 'transmission', 'price'],\n",
       "      dtype='object')"
      ]
     },
     "execution_count": 6,
     "metadata": {},
     "output_type": "execute_result"
    }
   ],
   "source": [
    "df.columns"
   ]
  },
  {
   "cell_type": "markdown",
   "id": "c38e1b90-7528-453e-bdff-860e0d367927",
   "metadata": {
    "jp-MarkdownHeadingCollapsed": true
   },
   "source": [
    "#### Обработка пропущенных значений"
   ]
  },
  {
   "cell_type": "markdown",
   "id": "511252a7-86dc-44d9-a7c4-a154e22256ac",
   "metadata": {},
   "source": [
    "Так как линейная регрессия (да и вообще любая модель) сильно зависит от данных на входе, то заполнять пропуски случайными значениями считаю нецелесообразным, а поэтому удаляю все данные с пропущенными значениями."
   ]
  },
  {
   "cell_type": "code",
   "execution_count": 7,
   "id": "199bb627-e350-49ab-a87d-a2860114ea97",
   "metadata": {},
   "outputs": [],
   "source": [
    "df = df.dropna()"
   ]
  },
  {
   "cell_type": "markdown",
   "id": "832ea935-d381-448a-80aa-24eb24303cdb",
   "metadata": {
    "jp-MarkdownHeadingCollapsed": true
   },
   "source": [
    "#### Обработка дубликатов"
   ]
  },
  {
   "cell_type": "markdown",
   "id": "abb473df-1319-4ea8-9682-283f68e87f78",
   "metadata": {},
   "source": [
    "По тем же причинам удаляю все строки-дубликаты."
   ]
  },
  {
   "cell_type": "code",
   "execution_count": 8,
   "id": "dbfedf63-3d75-4612-ae3f-ca527ec6b305",
   "metadata": {},
   "outputs": [],
   "source": [
    "df = df.drop_duplicates()"
   ]
  },
  {
   "cell_type": "markdown",
   "id": "ab047a11-adff-4131-bbe8-979704cbc4cb",
   "metadata": {
    "jp-MarkdownHeadingCollapsed": true
   },
   "source": [
    "#### Приведение категориальных признаков к числовому типу"
   ]
  },
  {
   "cell_type": "code",
   "execution_count": 9,
   "id": "14c75e98-faa3-4ddc-9279-9f01b559ec40",
   "metadata": {},
   "outputs": [],
   "source": [
    "label_encoder = LabelEncoder()"
   ]
  },
  {
   "cell_type": "code",
   "execution_count": 10,
   "id": "1a1dab18-1396-44de-91a1-f74b560e38d0",
   "metadata": {},
   "outputs": [],
   "source": [
    "df[\"make\"] = label_encoder.fit_transform(df[\"make\"])"
   ]
  },
  {
   "cell_type": "code",
   "execution_count": 11,
   "id": "3364add5-1e1d-446d-a9ca-1bd32834a979",
   "metadata": {},
   "outputs": [],
   "source": [
    "df[\"model\"] = label_encoder.fit_transform(df[\"model\"])"
   ]
  },
  {
   "cell_type": "code",
   "execution_count": 12,
   "id": "b46013be-45cf-4e97-acd5-c9c78f2662d5",
   "metadata": {},
   "outputs": [],
   "source": [
    "df[\"style\"] = label_encoder.fit_transform(df[\"style\"])"
   ]
  },
  {
   "cell_type": "code",
   "execution_count": 13,
   "id": "941f6361-60ce-4f0a-b66d-fc5958b31300",
   "metadata": {},
   "outputs": [],
   "source": [
    "df[\"fuel_type\"] = label_encoder.fit_transform(df[\"fuel_type\"])"
   ]
  },
  {
   "cell_type": "code",
   "execution_count": 14,
   "id": "a546ad22-526e-4501-85a9-7e45345d0ebc",
   "metadata": {},
   "outputs": [],
   "source": [
    "df[\"transmission\"] = label_encoder.fit_transform(df[\"transmission\"])"
   ]
  },
  {
   "cell_type": "code",
   "execution_count": 15,
   "id": "d4064a51-0e23-4556-9de8-52cb07ed602c",
   "metadata": {},
   "outputs": [
    {
     "data": {
      "text/html": [
       "<div>\n",
       "<style scoped>\n",
       "    .dataframe tbody tr th:only-of-type {\n",
       "        vertical-align: middle;\n",
       "    }\n",
       "\n",
       "    .dataframe tbody tr th {\n",
       "        vertical-align: top;\n",
       "    }\n",
       "\n",
       "    .dataframe thead th {\n",
       "        text-align: right;\n",
       "    }\n",
       "</style>\n",
       "<table border=\"1\" class=\"dataframe\">\n",
       "  <thead>\n",
       "    <tr style=\"text-align: right;\">\n",
       "      <th></th>\n",
       "      <th>make</th>\n",
       "      <th>model</th>\n",
       "      <th>year</th>\n",
       "      <th>style</th>\n",
       "      <th>distance</th>\n",
       "      <th>engine_capacity</th>\n",
       "      <th>fuel_type</th>\n",
       "      <th>transmission</th>\n",
       "      <th>price</th>\n",
       "    </tr>\n",
       "  </thead>\n",
       "  <tbody>\n",
       "    <tr>\n",
       "      <th>0</th>\n",
       "      <td>79</td>\n",
       "      <td>570</td>\n",
       "      <td>2011.0</td>\n",
       "      <td>4</td>\n",
       "      <td>195000.0</td>\n",
       "      <td>1800.0</td>\n",
       "      <td>2</td>\n",
       "      <td>0</td>\n",
       "      <td>7750.0</td>\n",
       "    </tr>\n",
       "    <tr>\n",
       "      <th>1</th>\n",
       "      <td>66</td>\n",
       "      <td>383</td>\n",
       "      <td>2014.0</td>\n",
       "      <td>11</td>\n",
       "      <td>135000.0</td>\n",
       "      <td>1500.0</td>\n",
       "      <td>0</td>\n",
       "      <td>1</td>\n",
       "      <td>8550.0</td>\n",
       "    </tr>\n",
       "  </tbody>\n",
       "</table>\n",
       "</div>"
      ],
      "text/plain": [
       "   make  model    year  style  distance  engine_capacity  fuel_type  \\\n",
       "0    79    570  2011.0      4  195000.0           1800.0          2   \n",
       "1    66    383  2014.0     11  135000.0           1500.0          0   \n",
       "\n",
       "   transmission   price  \n",
       "0             0  7750.0  \n",
       "1             1  8550.0  "
      ]
     },
     "execution_count": 15,
     "metadata": {},
     "output_type": "execute_result"
    }
   ],
   "source": [
    "df.head(2)"
   ]
  },
  {
   "cell_type": "markdown",
   "id": "97b154cb-023f-42e4-bab7-248e2a9c95bc",
   "metadata": {},
   "source": [
    "Не супер крутое решение, конечно, ибо теперь получается, что УАЗ может быть \"в 6 раз лучше\" Toyota (имеется в виду трактовка признаков). Но One-Hot Encoding на столбце моделей даёт больше восьмиста (!) столбцов сверху..."
   ]
  },
  {
   "cell_type": "markdown",
   "id": "4167b644-0794-49f6-b90d-f5002594ebd8",
   "metadata": {
    "jp-MarkdownHeadingCollapsed": true
   },
   "source": [
    "## EDA"
   ]
  },
  {
   "cell_type": "markdown",
   "id": "21c2fb4d-7df4-4667-8fe3-e322843a6fdc",
   "metadata": {
    "jp-MarkdownHeadingCollapsed": true
   },
   "source": [
    "#### Описательная статистика датафрейма"
   ]
  },
  {
   "cell_type": "code",
   "execution_count": 16,
   "id": "6af01f8d-a10a-4e38-b134-c450ed5e5101",
   "metadata": {},
   "outputs": [
    {
     "data": {
      "text/html": [
       "<div>\n",
       "<style scoped>\n",
       "    .dataframe tbody tr th:only-of-type {\n",
       "        vertical-align: middle;\n",
       "    }\n",
       "\n",
       "    .dataframe tbody tr th {\n",
       "        vertical-align: top;\n",
       "    }\n",
       "\n",
       "    .dataframe thead th {\n",
       "        text-align: right;\n",
       "    }\n",
       "</style>\n",
       "<table border=\"1\" class=\"dataframe\">\n",
       "  <thead>\n",
       "    <tr style=\"text-align: right;\">\n",
       "      <th></th>\n",
       "      <th>make</th>\n",
       "      <th>model</th>\n",
       "      <th>year</th>\n",
       "      <th>style</th>\n",
       "      <th>distance</th>\n",
       "      <th>engine_capacity</th>\n",
       "      <th>fuel_type</th>\n",
       "      <th>transmission</th>\n",
       "      <th>price</th>\n",
       "    </tr>\n",
       "  </thead>\n",
       "  <tbody>\n",
       "    <tr>\n",
       "      <th>count</th>\n",
       "      <td>36441.000000</td>\n",
       "      <td>36441.000000</td>\n",
       "      <td>36441.000000</td>\n",
       "      <td>36441.000000</td>\n",
       "      <td>3.644100e+04</td>\n",
       "      <td>36441.000000</td>\n",
       "      <td>36441.000000</td>\n",
       "      <td>36441.000000</td>\n",
       "      <td>3.644100e+04</td>\n",
       "    </tr>\n",
       "    <tr>\n",
       "      <th>mean</th>\n",
       "      <td>51.846299</td>\n",
       "      <td>397.042672</td>\n",
       "      <td>2007.723059</td>\n",
       "      <td>7.573365</td>\n",
       "      <td>4.759444e+05</td>\n",
       "      <td>1859.135123</td>\n",
       "      <td>1.923603</td>\n",
       "      <td>0.555336</td>\n",
       "      <td>9.589220e+03</td>\n",
       "    </tr>\n",
       "    <tr>\n",
       "      <th>std</th>\n",
       "      <td>25.385137</td>\n",
       "      <td>233.085322</td>\n",
       "      <td>8.287601</td>\n",
       "      <td>3.201571</td>\n",
       "      <td>4.582778e+06</td>\n",
       "      <td>707.513603</td>\n",
       "      <td>1.867344</td>\n",
       "      <td>0.496935</td>\n",
       "      <td>5.340259e+04</td>\n",
       "    </tr>\n",
       "    <tr>\n",
       "      <th>min</th>\n",
       "      <td>0.000000</td>\n",
       "      <td>0.000000</td>\n",
       "      <td>1900.000000</td>\n",
       "      <td>0.000000</td>\n",
       "      <td>0.000000e+00</td>\n",
       "      <td>0.000000</td>\n",
       "      <td>0.000000</td>\n",
       "      <td>0.000000</td>\n",
       "      <td>1.000000e+00</td>\n",
       "    </tr>\n",
       "    <tr>\n",
       "      <th>25%</th>\n",
       "      <td>28.000000</td>\n",
       "      <td>178.000000</td>\n",
       "      <td>2004.000000</td>\n",
       "      <td>4.000000</td>\n",
       "      <td>9.000000e+04</td>\n",
       "      <td>1499.000000</td>\n",
       "      <td>0.000000</td>\n",
       "      <td>0.000000</td>\n",
       "      <td>3.333000e+03</td>\n",
       "    </tr>\n",
       "    <tr>\n",
       "      <th>50%</th>\n",
       "      <td>58.000000</td>\n",
       "      <td>383.000000</td>\n",
       "      <td>2009.000000</td>\n",
       "      <td>9.000000</td>\n",
       "      <td>1.700000e+05</td>\n",
       "      <td>1800.000000</td>\n",
       "      <td>2.000000</td>\n",
       "      <td>1.000000</td>\n",
       "      <td>6.499000e+03</td>\n",
       "    </tr>\n",
       "    <tr>\n",
       "      <th>75%</th>\n",
       "      <td>72.000000</td>\n",
       "      <td>593.000000</td>\n",
       "      <td>2014.000000</td>\n",
       "      <td>10.000000</td>\n",
       "      <td>2.300000e+05</td>\n",
       "      <td>2000.000000</td>\n",
       "      <td>4.000000</td>\n",
       "      <td>1.000000</td>\n",
       "      <td>1.180000e+04</td>\n",
       "    </tr>\n",
       "    <tr>\n",
       "      <th>max</th>\n",
       "      <td>86.000000</td>\n",
       "      <td>823.000000</td>\n",
       "      <td>2021.000000</td>\n",
       "      <td>11.000000</td>\n",
       "      <td>1.000000e+08</td>\n",
       "      <td>9999.000000</td>\n",
       "      <td>5.000000</td>\n",
       "      <td>1.000000</td>\n",
       "      <td>1.000000e+07</td>\n",
       "    </tr>\n",
       "  </tbody>\n",
       "</table>\n",
       "</div>"
      ],
      "text/plain": [
       "               make         model          year         style      distance  \\\n",
       "count  36441.000000  36441.000000  36441.000000  36441.000000  3.644100e+04   \n",
       "mean      51.846299    397.042672   2007.723059      7.573365  4.759444e+05   \n",
       "std       25.385137    233.085322      8.287601      3.201571  4.582778e+06   \n",
       "min        0.000000      0.000000   1900.000000      0.000000  0.000000e+00   \n",
       "25%       28.000000    178.000000   2004.000000      4.000000  9.000000e+04   \n",
       "50%       58.000000    383.000000   2009.000000      9.000000  1.700000e+05   \n",
       "75%       72.000000    593.000000   2014.000000     10.000000  2.300000e+05   \n",
       "max       86.000000    823.000000   2021.000000     11.000000  1.000000e+08   \n",
       "\n",
       "       engine_capacity     fuel_type  transmission         price  \n",
       "count     36441.000000  36441.000000  36441.000000  3.644100e+04  \n",
       "mean       1859.135123      1.923603      0.555336  9.589220e+03  \n",
       "std         707.513603      1.867344      0.496935  5.340259e+04  \n",
       "min           0.000000      0.000000      0.000000  1.000000e+00  \n",
       "25%        1499.000000      0.000000      0.000000  3.333000e+03  \n",
       "50%        1800.000000      2.000000      1.000000  6.499000e+03  \n",
       "75%        2000.000000      4.000000      1.000000  1.180000e+04  \n",
       "max        9999.000000      5.000000      1.000000  1.000000e+07  "
      ]
     },
     "execution_count": 16,
     "metadata": {},
     "output_type": "execute_result"
    }
   ],
   "source": [
    "df.describe()"
   ]
  },
  {
   "cell_type": "markdown",
   "id": "c2b56f28-3ad2-4dbb-96d1-48ef1bd0bad0",
   "metadata": {
    "jp-MarkdownHeadingCollapsed": true
   },
   "source": [
    "#### Тепловая карта корреляций"
   ]
  },
  {
   "cell_type": "code",
   "execution_count": 17,
   "id": "d10a301d-3fef-4e73-87ae-d85e361738aa",
   "metadata": {},
   "outputs": [
    {
     "data": {
      "text/plain": [
       "<Axes: >"
      ]
     },
     "execution_count": 17,
     "metadata": {},
     "output_type": "execute_result"
    },
    {
     "data": {
      "image/png": "[encoded data removed]",
      "text/plain": [
       "<Figure size 640x480 with 2 Axes>"
      ]
     },
     "metadata": {},
     "output_type": "display_data"
    }
   ],
   "source": [
    "sns.heatmap(df.corr())"
   ]
  },
  {
   "cell_type": "markdown",
   "id": "29455830-573d-43de-a219-c3bf1f32b44d",
   "metadata": {
    "jp-MarkdownHeadingCollapsed": true
   },
   "source": [
    "#### Анализ доли каждой из марок машин на рынке Молдавии"
   ]
  },
  {
   "cell_type": "markdown",
   "id": "f60d3153-8dfd-45e1-9cf8-1da7c4ed4267",
   "metadata": {},
   "source": [
    "Знал бы, что надо будет гистограмму строить, не преобразовывал бы категориальные признаки так рано :("
   ]
  },
  {
   "cell_type": "code",
   "execution_count": 18,
   "id": "4887e1ad-b8a0-49e2-8edf-b3065603e899",
   "metadata": {},
   "outputs": [],
   "source": [
    "unique_makes = df[\"make\"].unique()"
   ]
  },
  {
   "cell_type": "code",
   "execution_count": 19,
   "id": "5aaf0c2a-701f-4fa7-9e23-98436a7702a5",
   "metadata": {},
   "outputs": [],
   "source": [
    "counts = df[\"make\"].value_counts() / len(df)"
   ]
  },
  {
   "cell_type": "code",
   "execution_count": 20,
   "id": "1d30bca5-693d-4de7-879b-34870fdf3a47",
   "metadata": {},
   "outputs": [
    {
     "data": {
      "image/png": "[encoded data removed]",
      "text/plain": [
       "<Figure size 640x480 with 1 Axes>"
      ]
     },
     "metadata": {},
     "output_type": "display_data"
    }
   ],
   "source": [
    "plt.title('Распределение марок автомобилей')\n",
    "plt.bar(unique_makes, counts)\n",
    "plt.xlabel(\"Марка автомобиля\")\n",
    "plt.ylabel(\"Доля\")\n",
    "plt.show()"
   ]
  },
  {
   "cell_type": "markdown",
   "id": "4e3e2697-a7f9-4c3f-a835-2b93bd5dd673",
   "metadata": {},
   "source": [
    "По графику можно сделать вывод, что граждане Молдавии в своём большинстве пользуются лишь десятью популярными марками автомобилей. Остальные 70 марок занимают нишевые места любителей."
   ]
  },
  {
   "cell_type": "markdown",
   "id": "ed919330-fd86-4e69-99f2-44db019e757c",
   "metadata": {
    "jp-MarkdownHeadingCollapsed": true
   },
   "source": [
    "## Обучение моделей линейной регрессии"
   ]
  },
  {
   "cell_type": "markdown",
   "id": "bd5038f9-cafe-4cb0-a622-99fff3cf379e",
   "metadata": {
    "jp-MarkdownHeadingCollapsed": true
   },
   "source": [
    "#### Разделение данных на матрицу признаков и предсказываемые значения"
   ]
  },
  {
   "cell_type": "code",
   "execution_count": 21,
   "id": "f47f68d1-a2eb-47df-b96d-383e3d7c894f",
   "metadata": {},
   "outputs": [],
   "source": [
    "y = df.loc[:, \"price\"]\n",
    "X = df.drop(\"price\", axis=1)"
   ]
  },
  {
   "cell_type": "markdown",
   "id": "8044c667-3d73-4bd7-a040-bf1a7cc62b12",
   "metadata": {
    "jp-MarkdownHeadingCollapsed": true
   },
   "source": [
    "#### Разбиение данных на обучающую и тестовую выборки"
   ]
  },
  {
   "cell_type": "code",
   "execution_count": 22,
   "id": "c60511d7-48d4-49b7-93a8-f7442f396f6a",
   "metadata": {},
   "outputs": [],
   "source": [
    "X_train, X_test, y_train, y_test = train_test_split(X, y)"
   ]
  },
  {
   "cell_type": "markdown",
   "id": "5ff60b3b-79f6-4f75-ab8a-cdb9a7770268",
   "metadata": {
    "jp-MarkdownHeadingCollapsed": true
   },
   "source": [
    "#### Масштабирование признаков"
   ]
  },
  {
   "cell_type": "markdown",
   "id": "102944b3-6d35-4b48-908c-0c6b43e12c23",
   "metadata": {},
   "source": [
    "Это особенно важно, когда признаки имеют сильно различающиеся диапазоны значений, поскольку алгоритмы могут быть чувствительны к масштабам признаков. Например, если один признак имеет значения в диапазоне от 0 до 1, а другой — от 0 до 1000, без масштабирования алгоритм может придавать большее значение второму признаку просто из-за его больших значений, даже если первый признак более важен для предсказания целевой переменной. Масштабируя признаки, мы делаем их сопоставимыми, что позволяет алгоритмам лучше находить зависимости между признаками и целевой переменной."
   ]
  },
  {
   "cell_type": "code",
   "execution_count": 23,
   "id": "66565879-ac19-4733-8592-2bd355145524",
   "metadata": {},
   "outputs": [],
   "source": [
    "scaler = StandardScaler()\n",
    "scaler.fit(X_train)\n",
    "X_train = scaler.transform(X_train)\n",
    "X_test = scaler.transform(X_test)"
   ]
  },
  {
   "cell_type": "markdown",
   "id": "5caf3906-88c5-40fb-a000-ff897d6906bc",
   "metadata": {
    "jp-MarkdownHeadingCollapsed": true
   },
   "source": [
    "#### Обучение базовой модели линейной регрессии"
   ]
  },
  {
   "cell_type": "code",
   "execution_count": 24,
   "id": "f7c62dae-886f-47e3-a48f-97f52fa13dfe",
   "metadata": {},
   "outputs": [],
   "source": [
    "linear_regression = LinearRegression()\n",
    "linear_regression.fit(X_train, y_train)\n",
    "\n",
    "y_pred = linear_regression.predict(X_test)"
   ]
  },
  {
   "cell_type": "markdown",
   "id": "b91f2938-d8ee-4e9f-8e8d-f7e5285ada27",
   "metadata": {
    "jp-MarkdownHeadingCollapsed": true
   },
   "source": [
    "#### Анализ качества обучения базовой модели линейной регрессии"
   ]
  },
  {
   "cell_type": "code",
   "execution_count": 25,
   "id": "c6f54121-3ca9-467b-a7fd-8258994c50bb",
   "metadata": {},
   "outputs": [
    {
     "name": "stdout",
     "output_type": "stream",
     "text": [
      "[+] MAE: 4591.727576564386\n",
      "[+] MSE: 92541559.11687487\n",
      "[+] RMSE: 9619.852343818739\n",
      "[+] MAPE: 1.0270034784109412\n",
      "[+] R^2-score: 0.3135941544152929\n"
     ]
    }
   ],
   "source": [
    "print(f\"[+] MAE: {mean_absolute_error(y_test, y_pred)}\")\n",
    "print(f\"[+] MSE: {mean_squared_error(y_test, y_pred)}\")\n",
    "print(f\"[+] RMSE: {np.sqrt(mean_squared_error(y_test, y_pred))}\")\n",
    "print(f\"[+] MAPE: {mean_absolute_percentage_error(y_test, y_pred)}\")\n",
    "print(f\"[+] R^2-score: {linear_regression.score(X_test, y_test)}\")"
   ]
  },
  {
   "cell_type": "markdown",
   "id": "f8907dc8-a495-4967-9607-fd32026c6f6b",
   "metadata": {},
   "source": [
    "Честно говоря, как-то грустненько моделька обучилась. Совсем грустненько. Попробую это исправить."
   ]
  },
  {
   "cell_type": "markdown",
   "id": "1b949ffd-38db-4577-86f0-7bc399c68012",
   "metadata": {
    "jp-MarkdownHeadingCollapsed": true
   },
   "source": [
    "#### Обучение с регуляризацией и подбором параметра регуляризации"
   ]
  },
  {
   "cell_type": "code",
   "execution_count": 26,
   "id": "ac93b85b-c1d6-4d0a-aa78-209cb77a7cf6",
   "metadata": {},
   "outputs": [],
   "source": [
    "parameters = { \"alpha\": np.arange(0, 10000, 100) }"
   ]
  },
  {
   "cell_type": "code",
   "execution_count": 27,
   "id": "31c309e7-8ccc-49e0-8507-3ca9bd97a0a2",
   "metadata": {
    "scrolled": true
   },
   "outputs": [],
   "source": [
    "grids = GridSearchCV(Ridge(), parameters).fit(X_train, y_train)"
   ]
  },
  {
   "cell_type": "code",
   "execution_count": 28,
   "id": "6a22cd44-8795-403e-a075-990684d02e1a",
   "metadata": {},
   "outputs": [
    {
     "data": {
      "text/plain": [
       "{'alpha': 1400}"
      ]
     },
     "execution_count": 28,
     "metadata": {},
     "output_type": "execute_result"
    }
   ],
   "source": [
    "bestpar = grids.best_params_\n",
    "bestpar"
   ]
  },
  {
   "cell_type": "code",
   "execution_count": 29,
   "id": "8d0222f5-bc6b-4c3f-b4a5-d12a742c3dba",
   "metadata": {},
   "outputs": [
    {
     "name": "stdout",
     "output_type": "stream",
     "text": [
      "[+] MAE: 4571.31691181438\n",
      "[+] MSE: 92475131.20604691\n",
      "[+] RMSE: 9616.399076891876\n",
      "[+] MAPE: 1.0094071211255418\n",
      "[+] R^2-score: 0.3140868682482716\n"
     ]
    }
   ],
   "source": [
    "ridge = Ridge(alpha=bestpar[\"alpha\"]).fit(X_train, y_train)\n",
    "\n",
    "y_pred = ridge.predict(X_test)\n",
    "\n",
    "print(f\"[+] MAE: {mean_absolute_error(y_test, y_pred)}\")\n",
    "print(f\"[+] MSE: {mean_squared_error(y_test, y_pred)}\")\n",
    "print(f\"[+] RMSE: {np.sqrt(mean_squared_error(y_test, y_pred))}\")\n",
    "print(f\"[+] MAPE: {mean_absolute_percentage_error(y_test, y_pred)}\")\n",
    "print(f\"[+] R^2-score: {ridge.score(X_test, y_test)}\")"
   ]
  },
  {
   "cell_type": "code",
   "execution_count": 30,
   "id": "1c4f42ec-3c9b-4cd8-b7bf-9fe007760abf",
   "metadata": {},
   "outputs": [],
   "source": [
    "parameters = { \"alpha\": np.arange(100, 500, 10) }"
   ]
  },
  {
   "cell_type": "code",
   "execution_count": 31,
   "id": "3320ea87-98f7-4bf8-abed-87d639ac3f58",
   "metadata": {
    "scrolled": true
   },
   "outputs": [],
   "source": [
    "grids = GridSearchCV(Lasso(), parameters).fit(X_train, y_train)"
   ]
  },
  {
   "cell_type": "code",
   "execution_count": 32,
   "id": "ec075bec-4a7a-4c5f-afff-f984ee2aa4dc",
   "metadata": {},
   "outputs": [
    {
     "data": {
      "text/plain": [
       "{'alpha': 250}"
      ]
     },
     "execution_count": 32,
     "metadata": {},
     "output_type": "execute_result"
    }
   ],
   "source": [
    "bestpar = grids.best_params_\n",
    "bestpar"
   ]
  },
  {
   "cell_type": "code",
   "execution_count": 33,
   "id": "bffbe44d-3b35-4ca7-8eb4-a44467b33897",
   "metadata": {},
   "outputs": [
    {
     "name": "stdout",
     "output_type": "stream",
     "text": [
      "[+] MAE: 4557.0432727841835\n",
      "[+] MSE: 92530510.01088095\n",
      "[+] RMSE: 9619.278040002844\n",
      "[+] MAPE: 0.986959440780624\n",
      "[+] R^2-score: 0.313676108631486\n"
     ]
    }
   ],
   "source": [
    "lasso = Lasso(alpha=bestpar[\"alpha\"]).fit(X_train, y_train)\n",
    "\n",
    "y_pred = lasso.predict(X_test)\n",
    "\n",
    "print(f\"[+] MAE: {mean_absolute_error(y_test, y_pred)}\")\n",
    "print(f\"[+] MSE: {mean_squared_error(y_test, y_pred)}\")\n",
    "print(f\"[+] RMSE: {np.sqrt(mean_squared_error(y_test, y_pred))}\")\n",
    "print(f\"[+] MAPE: {mean_absolute_percentage_error(y_test, y_pred)}\")\n",
    "print(f\"[+] R^2-score: {lasso.score(X_test, y_test)}\")"
   ]
  },
  {
   "cell_type": "markdown",
   "id": "7b6db9f9-48c2-4745-bdb1-46d8b150174e",
   "metadata": {
    "jp-MarkdownHeadingCollapsed": true
   },
   "source": [
    "#### Сборка обучения в конвейер"
   ]
  },
  {
   "cell_type": "code",
   "execution_count": 34,
   "id": "2edb53ca-794d-4bea-8981-6d608872f1e1",
   "metadata": {},
   "outputs": [
    {
     "name": "stdout",
     "output_type": "stream",
     "text": [
      "[+] MAE: 3946.213964358055\n",
      "[+] MSE: 75835130.6719358\n",
      "[+] RMSE: 8708.336848786672\n",
      "[+] MAPE: 0.8620097784401246\n"
     ]
    }
   ],
   "source": [
    "pipeline = make_pipeline(StandardScaler(), PolynomialFeatures(2), Ridge())\n",
    "pipeline.fit(X_train, y_train)\n",
    "\n",
    "y_pred = pipeline.predict(X_test)\n",
    "\n",
    "print(f\"[+] MAE: {mean_absolute_error(y_test, y_pred)}\")\n",
    "print(f\"[+] MSE: {mean_squared_error(y_test, y_pred)}\")\n",
    "print(f\"[+] RMSE: {np.sqrt(mean_squared_error(y_test, y_pred))}\")\n",
    "print(f\"[+] MAPE: {mean_absolute_percentage_error(y_test, y_pred)}\")"
   ]
  },
  {
   "cell_type": "markdown",
   "id": "09dafc50-1f6a-4bb2-af70-1fdfb3000c17",
   "metadata": {
    "jp-MarkdownHeadingCollapsed": true
   },
   "source": [
    "## Заключение"
   ]
  },
  {
   "cell_type": "markdown",
   "id": "d1b5fd89-d06a-4372-8821-30ae93a36fa3",
   "metadata": {},
   "source": [
    "Лучше всего себя показала обученная модель без регуляризаций. Скорее всего, это связано с тем, что регуляризации ограничивают и так не лучшую по качеству модель. Плохое же качество, вероятно, связано с переводом категориальных признаков в числовые."
   ]
  }
 ],
 "metadata": {
  "kernelspec": {
   "display_name": "Python 3 (ipykernel)",
   "language": "python",
   "name": "python3"
  },
  "language_info": {
   "codemirror_mode": {
    "name": "ipython",
    "version": 3
   },
   "file_extension": ".py",
   "mimetype": "text/x-python",
   "name": "python",
   "nbconvert_exporter": "python",
   "pygments_lexer": "ipython3",
   "version": "3.12.3"
  }
 },
 "nbformat": 4,
 "nbformat_minor": 5
}
