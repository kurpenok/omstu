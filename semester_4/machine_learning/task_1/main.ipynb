{
 "cells": [
  {
   "cell_type": "markdown",
   "id": "1afa45ce-07e4-4012-ab37-878f00221867",
   "metadata": {
    "jp-MarkdownHeadingCollapsed": true
   },
   "source": [
    "## Импорт библиотек"
   ]
  },
  {
   "cell_type": "code",
   "execution_count": 1,
   "id": "63786d16-1798-4baa-931c-e63971082bed",
   "metadata": {},
   "outputs": [],
   "source": [
    "import pandas as pd"
   ]
  },
  {
   "cell_type": "markdown",
   "id": "bd1204ac-1eba-4066-a341-4176631ab932",
   "metadata": {
    "jp-MarkdownHeadingCollapsed": true
   },
   "source": [
    "## Обзор данных"
   ]
  },
  {
   "cell_type": "markdown",
   "id": "65aaf03f-9da8-4023-94a1-47a48129927a",
   "metadata": {},
   "source": [
    "#### Чтение датасета"
   ]
  },
  {
   "cell_type": "code",
   "execution_count": 2,
   "id": "cd971d1c-2727-4a67-bf50-443d0355acac",
   "metadata": {},
   "outputs": [],
   "source": [
    "df = pd.read_csv(\"dataset.csv\").dropna(how=\"all\")"
   ]
  },
  {
   "cell_type": "code",
   "execution_count": 3,
   "id": "906f3861-bfaf-4b63-96f6-b2bbb4bb5a8a",
   "metadata": {},
   "outputs": [
    {
     "data": {
      "text/html": [
       "<div>\n",
       "<style scoped>\n",
       "    .dataframe tbody tr th:only-of-type {\n",
       "        vertical-align: middle;\n",
       "    }\n",
       "\n",
       "    .dataframe tbody tr th {\n",
       "        vertical-align: top;\n",
       "    }\n",
       "\n",
       "    .dataframe thead th {\n",
       "        text-align: right;\n",
       "    }\n",
       "</style>\n",
       "<table border=\"1\" class=\"dataframe\">\n",
       "  <thead>\n",
       "    <tr style=\"text-align: right;\">\n",
       "      <th></th>\n",
       "      <th>color</th>\n",
       "      <th>Director_Name</th>\n",
       "      <th>num_Critic_for_reviews</th>\n",
       "      <th>duration</th>\n",
       "      <th>director_Facebook_likes</th>\n",
       "      <th>actor_3_Facebook_likes</th>\n",
       "      <th>actor_2_name</th>\n",
       "      <th>Actor_1_Facebook_likes</th>\n",
       "      <th>gross</th>\n",
       "      <th>genres</th>\n",
       "      <th>...</th>\n",
       "      <th>num_user_for_reviews</th>\n",
       "      <th>language</th>\n",
       "      <th>country</th>\n",
       "      <th>content_rating</th>\n",
       "      <th>budget</th>\n",
       "      <th>title_year</th>\n",
       "      <th>actor_2_facebook_likes</th>\n",
       "      <th>imdb_score</th>\n",
       "      <th>aspect_ratio</th>\n",
       "      <th>movie_facebook_likes;</th>\n",
       "    </tr>\n",
       "  </thead>\n",
       "  <tbody>\n",
       "    <tr>\n",
       "      <th>0</th>\n",
       "      <td>Color</td>\n",
       "      <td>James Cameron</td>\n",
       "      <td>723.0</td>\n",
       "      <td>178.0</td>\n",
       "      <td>0.0</td>\n",
       "      <td>855.0</td>\n",
       "      <td>Joel David Moore</td>\n",
       "      <td>1000.0</td>\n",
       "      <td>760505847.0</td>\n",
       "      <td>Action|Adventure|Fantasy|Sci-Fi</td>\n",
       "      <td>...</td>\n",
       "      <td>3054.0</td>\n",
       "      <td>English</td>\n",
       "      <td>USA</td>\n",
       "      <td>PG-13</td>\n",
       "      <td>237000000.0</td>\n",
       "      <td>2009.0</td>\n",
       "      <td>936.0</td>\n",
       "      <td>7.9</td>\n",
       "      <td>1.78</td>\n",
       "      <td>33000;</td>\n",
       "    </tr>\n",
       "    <tr>\n",
       "      <th>1</th>\n",
       "      <td>Colour</td>\n",
       "      <td>Gore Verbinski</td>\n",
       "      <td>302.0</td>\n",
       "      <td>169.0</td>\n",
       "      <td>563.0</td>\n",
       "      <td>1000.0</td>\n",
       "      <td>Orlando Bloom</td>\n",
       "      <td>40000.0</td>\n",
       "      <td>309404152.0</td>\n",
       "      <td>Action|Adventure|Fantasy</td>\n",
       "      <td>...</td>\n",
       "      <td>1238.0</td>\n",
       "      <td>English</td>\n",
       "      <td>USA</td>\n",
       "      <td>PG-13</td>\n",
       "      <td>300000000.0</td>\n",
       "      <td>2007.0</td>\n",
       "      <td>5000.0</td>\n",
       "      <td>7.1</td>\n",
       "      <td>2.35</td>\n",
       "      <td>0;</td>\n",
       "    </tr>\n",
       "  </tbody>\n",
       "</table>\n",
       "<p>2 rows × 28 columns</p>\n",
       "</div>"
      ],
      "text/plain": [
       "    color   Director_Name  num_Critic_for_reviews  duration  \\\n",
       "0   Color   James Cameron                   723.0     178.0   \n",
       "1  Colour  Gore Verbinski                   302.0     169.0   \n",
       "\n",
       "   director_Facebook_likes  actor_3_Facebook_likes      actor_2_name  \\\n",
       "0                      0.0                   855.0  Joel David Moore   \n",
       "1                    563.0                  1000.0     Orlando Bloom   \n",
       "\n",
       "   Actor_1_Facebook_likes        gross                           genres  ...  \\\n",
       "0                  1000.0  760505847.0  Action|Adventure|Fantasy|Sci-Fi  ...   \n",
       "1                 40000.0  309404152.0         Action|Adventure|Fantasy  ...   \n",
       "\n",
       "  num_user_for_reviews language  country  content_rating       budget  \\\n",
       "0               3054.0  English      USA           PG-13  237000000.0   \n",
       "1               1238.0  English      USA           PG-13  300000000.0   \n",
       "\n",
       "   title_year actor_2_facebook_likes imdb_score  aspect_ratio  \\\n",
       "0      2009.0                  936.0        7.9          1.78   \n",
       "1      2007.0                 5000.0        7.1          2.35   \n",
       "\n",
       "  movie_facebook_likes;  \n",
       "0                33000;  \n",
       "1                    0;  \n",
       "\n",
       "[2 rows x 28 columns]"
      ]
     },
     "execution_count": 3,
     "metadata": {},
     "output_type": "execute_result"
    }
   ],
   "source": [
    "df.head(2)"
   ]
  },
  {
   "cell_type": "markdown",
   "id": "d941ddb2-813a-4c83-8a2e-0c4d92c69063",
   "metadata": {},
   "source": [
    "#### Получение информации о данных в столбцах датафрейма"
   ]
  },
  {
   "cell_type": "code",
   "execution_count": 4,
   "id": "4525bf00-694d-4e0d-b830-a14d0242696e",
   "metadata": {},
   "outputs": [
    {
     "name": "stdout",
     "output_type": "stream",
     "text": [
      "<class 'pandas.core.frame.DataFrame'>\n",
      "RangeIndex: 5043 entries, 0 to 5042\n",
      "Data columns (total 28 columns):\n",
      " #   Column                      Non-Null Count  Dtype  \n",
      "---  ------                      --------------  -----  \n",
      " 0   color                       5025 non-null   object \n",
      " 1   Director_Name               4872 non-null   object \n",
      " 2   num_Critic_for_reviews      4927 non-null   float64\n",
      " 3   duration                    4959 non-null   float64\n",
      " 4   director_Facebook_likes     4872 non-null   float64\n",
      " 5   actor_3_Facebook_likes      4953 non-null   float64\n",
      " 6   actor_2_name                4963 non-null   object \n",
      " 7   Actor_1_Facebook_likes      4968 non-null   float64\n",
      " 8   gross                       4104 non-null   float64\n",
      " 9   genres                      4974 non-null   object \n",
      " 10  actor_1_name                4968 non-null   object \n",
      " 11  movie_Title                 4974 non-null   object \n",
      " 12  num_voted_users             4974 non-null   float64\n",
      " 13   cast_total_facebook_likes  4974 non-null   float64\n",
      " 14  actor_3_name                4953 non-null   object \n",
      " 15  facenumber_in_poster        4961 non-null   float64\n",
      " 16  plot_keywords               4827 non-null   object \n",
      " 17  movie_imdb_link             4974 non-null   object \n",
      " 18  num_user_for_reviews        4956 non-null   float64\n",
      " 19  language                    4963 non-null   object \n",
      " 20  country                     4971 non-null   object \n",
      " 21  content_rating              4677 non-null   object \n",
      " 22  budget                      4494 non-null   float64\n",
      " 23  title_year                  4869 non-null   float64\n",
      " 24  actor_2_facebook_likes      4963 non-null   float64\n",
      " 25  imdb_score                  4974 non-null   float64\n",
      " 26  aspect_ratio                4654 non-null   float64\n",
      " 27  movie_facebook_likes;       4974 non-null   object \n",
      "dtypes: float64(15), object(13)\n",
      "memory usage: 1.1+ MB\n"
     ]
    }
   ],
   "source": [
    "df.info()"
   ]
  },
  {
   "cell_type": "markdown",
   "id": "ad17ac61-92c6-4f21-9aae-196437e4ab53",
   "metadata": {
    "jp-MarkdownHeadingCollapsed": true
   },
   "source": [
    "## Предварительная обработка данных"
   ]
  },
  {
   "cell_type": "markdown",
   "id": "1244088d-2488-473d-8b99-747e01f71f1b",
   "metadata": {
    "jp-MarkdownHeadingCollapsed": true
   },
   "source": [
    "#### Форматирование заголовков"
   ]
  },
  {
   "cell_type": "markdown",
   "id": "58f0414c-eea0-4a1c-8f33-4dc1ca62a001",
   "metadata": {},
   "source": [
    "Удаляем пробелы в начале и конце строки, переводим все символы в нижний регистр и удаляем служебные символы (для последнего столбца)."
   ]
  },
  {
   "cell_type": "code",
   "execution_count": 5,
   "id": "6f384c74-c22e-4f20-ab59-cf78172d8f57",
   "metadata": {},
   "outputs": [],
   "source": [
    "df.columns = [column.strip().lower().replace(\";\", \"\") for column in df.columns]"
   ]
  },
  {
   "cell_type": "code",
   "execution_count": 6,
   "id": "1541973d-f726-4bcb-ab42-185b5b30d8e4",
   "metadata": {},
   "outputs": [
    {
     "data": {
      "text/plain": [
       "Index(['color', 'director_name', 'num_critic_for_reviews', 'duration',\n",
       "       'director_facebook_likes', 'actor_3_facebook_likes', 'actor_2_name',\n",
       "       'actor_1_facebook_likes', 'gross', 'genres', 'actor_1_name',\n",
       "       'movie_title', 'num_voted_users', 'cast_total_facebook_likes',\n",
       "       'actor_3_name', 'facenumber_in_poster', 'plot_keywords',\n",
       "       'movie_imdb_link', 'num_user_for_reviews', 'language', 'country',\n",
       "       'content_rating', 'budget', 'title_year', 'actor_2_facebook_likes',\n",
       "       'imdb_score', 'aspect_ratio', 'movie_facebook_likes'],\n",
       "      dtype='object')"
      ]
     },
     "execution_count": 6,
     "metadata": {},
     "output_type": "execute_result"
    }
   ],
   "source": [
    "df.columns"
   ]
  },
  {
   "cell_type": "markdown",
   "id": "2e5718fc-2058-4cf0-8fba-fcaf725b947c",
   "metadata": {
    "jp-MarkdownHeadingCollapsed": true
   },
   "source": [
    "#### Обработка пропущенных значений"
   ]
  },
  {
   "cell_type": "markdown",
   "id": "d53d799f-e054-42a3-af4e-91c0d93c6e95",
   "metadata": {},
   "source": [
    "Получение данных о пропущенных значениях в каждом столбце"
   ]
  },
  {
   "cell_type": "code",
   "execution_count": 7,
   "id": "f2171935-b2ed-494d-bc04-7d8941dc3b8e",
   "metadata": {},
   "outputs": [
    {
     "data": {
      "text/plain": [
       "color                         18\n",
       "director_name                171\n",
       "num_critic_for_reviews       116\n",
       "duration                      84\n",
       "director_facebook_likes      171\n",
       "actor_3_facebook_likes        90\n",
       "actor_2_name                  80\n",
       "actor_1_facebook_likes        75\n",
       "gross                        939\n",
       "genres                        69\n",
       "actor_1_name                  75\n",
       "movie_title                   69\n",
       "num_voted_users               69\n",
       "cast_total_facebook_likes     69\n",
       "actor_3_name                  90\n",
       "facenumber_in_poster          82\n",
       "plot_keywords                216\n",
       "movie_imdb_link               69\n",
       "num_user_for_reviews          87\n",
       "language                      80\n",
       "country                       72\n",
       "content_rating               366\n",
       "budget                       549\n",
       "title_year                   174\n",
       "actor_2_facebook_likes        80\n",
       "imdb_score                    69\n",
       "aspect_ratio                 389\n",
       "movie_facebook_likes          69\n",
       "dtype: int64"
      ]
     },
     "execution_count": 7,
     "metadata": {},
     "output_type": "execute_result"
    }
   ],
   "source": [
    "df.isna().sum()"
   ]
  },
  {
   "cell_type": "markdown",
   "id": "c93c546c-9510-4fab-a18c-4f574bb02475",
   "metadata": {},
   "source": [
    "В датафрейме все значения принадлежат одному из двух типов - float64 или object. Пропущенные значения буду заменять на `0.0` и `unknown`. "
   ]
  },
  {
   "cell_type": "code",
   "execution_count": 8,
   "id": "b0ec6177-f56e-4259-a3ba-d7995142a809",
   "metadata": {},
   "outputs": [],
   "source": [
    "# Получаем список всех столбцов, где есть пропущенные значения\n",
    "columns_to_replace = df.columns[df.isna().any()]\n",
    "\n",
    "# Получаем список всех столбцов по типам\n",
    "columns_float64 = df.select_dtypes(include=\"float64\").columns\n",
    "columns_object = df.select_dtypes(include=\"object\").columns\n",
    "\n",
    "# Искомые столбцы - пересечение множеств столбцов\n",
    "columns_to_replace_float64 = list(set(columns_to_replace) & set(columns_float64))\n",
    "columns_to_replace_object = list(set(columns_to_replace) & set(columns_object))"
   ]
  },
  {
   "cell_type": "code",
   "execution_count": 9,
   "id": "08a3de0d-54e6-46b1-8a85-738c8a6db4b1",
   "metadata": {},
   "outputs": [
    {
     "data": {
      "text/plain": [
       "['facenumber_in_poster',\n",
       " 'num_critic_for_reviews',\n",
       " 'actor_1_facebook_likes',\n",
       " 'title_year',\n",
       " 'imdb_score',\n",
       " 'actor_3_facebook_likes',\n",
       " 'director_facebook_likes',\n",
       " 'budget',\n",
       " 'aspect_ratio',\n",
       " 'cast_total_facebook_likes',\n",
       " 'num_user_for_reviews',\n",
       " 'gross',\n",
       " 'actor_2_facebook_likes',\n",
       " 'num_voted_users',\n",
       " 'duration']"
      ]
     },
     "execution_count": 9,
     "metadata": {},
     "output_type": "execute_result"
    }
   ],
   "source": [
    "columns_to_replace_float64"
   ]
  },
  {
   "cell_type": "code",
   "execution_count": 10,
   "id": "d059381b-54a7-4ca9-b5ed-6bf0c3782731",
   "metadata": {},
   "outputs": [
    {
     "data": {
      "text/plain": [
       "['actor_1_name',\n",
       " 'actor_3_name',\n",
       " 'plot_keywords',\n",
       " 'color',\n",
       " 'movie_title',\n",
       " 'movie_imdb_link',\n",
       " 'director_name',\n",
       " 'movie_facebook_likes',\n",
       " 'country',\n",
       " 'language',\n",
       " 'genres',\n",
       " 'content_rating',\n",
       " 'actor_2_name']"
      ]
     },
     "execution_count": 10,
     "metadata": {},
     "output_type": "execute_result"
    }
   ],
   "source": [
    "columns_to_replace_object"
   ]
  },
  {
   "cell_type": "markdown",
   "id": "39585a9d-d564-458f-8851-c0d67be9e344",
   "metadata": {},
   "source": [
    "Заполнение пропущенных значений"
   ]
  },
  {
   "cell_type": "code",
   "execution_count": 11,
   "id": "5e0b724a-fab2-47d9-a71d-f22bff749b4c",
   "metadata": {},
   "outputs": [],
   "source": [
    "for row in columns_to_replace_float64: \n",
    "    df[row] = df[row].fillna(0.0)\n",
    "\n",
    "for row in columns_to_replace_object:\n",
    "    df[row] = df[row].fillna(\"unknown\")"
   ]
  },
  {
   "cell_type": "markdown",
   "id": "46f02668-5f2c-4491-88e6-4a87c02c716d",
   "metadata": {},
   "source": [
    "Проверка правильности решения"
   ]
  },
  {
   "cell_type": "code",
   "execution_count": 12,
   "id": "d4535c06-57ac-4e7f-ad88-0f8bb017c349",
   "metadata": {},
   "outputs": [
    {
     "data": {
      "text/plain": [
       "color                        0\n",
       "director_name                0\n",
       "num_critic_for_reviews       0\n",
       "duration                     0\n",
       "director_facebook_likes      0\n",
       "actor_3_facebook_likes       0\n",
       "actor_2_name                 0\n",
       "actor_1_facebook_likes       0\n",
       "gross                        0\n",
       "genres                       0\n",
       "actor_1_name                 0\n",
       "movie_title                  0\n",
       "num_voted_users              0\n",
       "cast_total_facebook_likes    0\n",
       "actor_3_name                 0\n",
       "facenumber_in_poster         0\n",
       "plot_keywords                0\n",
       "movie_imdb_link              0\n",
       "num_user_for_reviews         0\n",
       "language                     0\n",
       "country                      0\n",
       "content_rating               0\n",
       "budget                       0\n",
       "title_year                   0\n",
       "actor_2_facebook_likes       0\n",
       "imdb_score                   0\n",
       "aspect_ratio                 0\n",
       "movie_facebook_likes         0\n",
       "dtype: int64"
      ]
     },
     "execution_count": 12,
     "metadata": {},
     "output_type": "execute_result"
    }
   ],
   "source": [
    "df.isna().sum()"
   ]
  },
  {
   "cell_type": "markdown",
   "id": "f77a4532-1820-4bdb-8036-e968024d015d",
   "metadata": {
    "jp-MarkdownHeadingCollapsed": true
   },
   "source": [
    "#### Обработка дубликатов"
   ]
  },
  {
   "cell_type": "markdown",
   "id": "f3c1e9a3-e3a8-4ae9-822d-6bfd628cbcf8",
   "metadata": {},
   "source": [
    "Получение количества дубликатов в датафрейме"
   ]
  },
  {
   "cell_type": "code",
   "execution_count": 13,
   "id": "1bae39b9-bb2d-485f-9f8b-ea5b2523db75",
   "metadata": {},
   "outputs": [
    {
     "data": {
      "text/plain": [
       "45"
      ]
     },
     "execution_count": 13,
     "metadata": {},
     "output_type": "execute_result"
    }
   ],
   "source": [
    "df.duplicated().sum()"
   ]
  },
  {
   "cell_type": "markdown",
   "id": "e8fb71b0-20e7-48d6-b744-2ba716d1aa51",
   "metadata": {},
   "source": [
    "Удаление дубликатов"
   ]
  },
  {
   "cell_type": "code",
   "execution_count": 14,
   "id": "11866227-1fcb-4c97-b4cc-c3c34f807469",
   "metadata": {},
   "outputs": [],
   "source": [
    "df = df.drop_duplicates().reset_index(drop=True)"
   ]
  },
  {
   "cell_type": "markdown",
   "id": "262168b3-6035-4144-b63d-b4872e679baa",
   "metadata": {},
   "source": [
    "Проверка правильности решения"
   ]
  },
  {
   "cell_type": "code",
   "execution_count": 15,
   "id": "b8d4aeed-3384-49e8-bad0-4e68ee56dd5a",
   "metadata": {},
   "outputs": [
    {
     "data": {
      "text/plain": [
       "0"
      ]
     },
     "execution_count": 15,
     "metadata": {},
     "output_type": "execute_result"
    }
   ],
   "source": [
    "df.duplicated().sum()"
   ]
  },
  {
   "cell_type": "markdown",
   "id": "f666a7b9-dc2d-47fc-b574-f3a7dcd35ac5",
   "metadata": {},
   "source": [
    "#### Форматирование данных последнего столбца"
   ]
  },
  {
   "cell_type": "markdown",
   "id": "14dd3393-739a-410c-a6c5-d7b4bbb8328e",
   "metadata": {},
   "source": [
    "В последнем столбце датафрейма каждое число оканчивается символом \";\", что является ошибкой заполнения. Нижеследующий код исправляет это."
   ]
  },
  {
   "cell_type": "code",
   "execution_count": 16,
   "id": "60c00258-e8aa-4218-a66b-90d6a6511111",
   "metadata": {},
   "outputs": [],
   "source": [
    "def remove_last_char_and_convert_to_float(number: object) -> float:\n",
    "    if number == \"unknown\":\n",
    "        return float(0.0)\n",
    "    return float(str(number).strip()[:-1])"
   ]
  },
  {
   "cell_type": "code",
   "execution_count": 17,
   "id": "ce6b0731-aff0-4a3b-9a45-1dca2f5b0c4d",
   "metadata": {},
   "outputs": [],
   "source": [
    "df[\"movie_facebook_likes\"] = df[\"movie_facebook_likes\"].apply(remove_last_char_and_convert_to_float)"
   ]
  },
  {
   "cell_type": "code",
   "execution_count": 18,
   "id": "53d06ce6-8606-4aa4-a133-babbe46513e0",
   "metadata": {},
   "outputs": [
    {
     "data": {
      "text/plain": [
       "dtype('float64')"
      ]
     },
     "execution_count": 18,
     "metadata": {},
     "output_type": "execute_result"
    }
   ],
   "source": [
    "df[\"movie_facebook_likes\"].dtype"
   ]
  },
  {
   "cell_type": "markdown",
   "id": "6ef4a0df-7991-4a0b-b622-7d3a31fcde9d",
   "metadata": {
    "jp-MarkdownHeadingCollapsed": true
   },
   "source": [
    "## Гипотезы"
   ]
  },
  {
   "cell_type": "markdown",
   "id": "0c20cbcb-5b69-4974-bd16-05044d46d62f",
   "metadata": {
    "jp-MarkdownHeadingCollapsed": true
   },
   "source": [
    "#### Гипотеза 1. Больше всего фильмов выпустили в США"
   ]
  },
  {
   "cell_type": "markdown",
   "id": "906d45e3-a1c5-4438-bd89-9ecbfaafdc68",
   "metadata": {},
   "source": [
    "Чтобы проверить гипотезу, нужно посчитать количество вхождений уникальных элементов в столбец \"country\"."
   ]
  },
  {
   "cell_type": "code",
   "execution_count": 19,
   "id": "7c6e63aa-39ea-4c93-b724-5640d9893ae4",
   "metadata": {},
   "outputs": [
    {
     "data": {
      "text/html": [
       "<div>\n",
       "<style scoped>\n",
       "    .dataframe tbody tr th:only-of-type {\n",
       "        vertical-align: middle;\n",
       "    }\n",
       "\n",
       "    .dataframe tbody tr th {\n",
       "        vertical-align: top;\n",
       "    }\n",
       "\n",
       "    .dataframe thead th {\n",
       "        text-align: right;\n",
       "    }\n",
       "</style>\n",
       "<table border=\"1\" class=\"dataframe\">\n",
       "  <thead>\n",
       "    <tr style=\"text-align: right;\">\n",
       "      <th></th>\n",
       "      <th>country</th>\n",
       "    </tr>\n",
       "  </thead>\n",
       "  <tbody>\n",
       "    <tr>\n",
       "      <th>USA</th>\n",
       "      <td>3729</td>\n",
       "    </tr>\n",
       "    <tr>\n",
       "      <th>UK</th>\n",
       "      <td>437</td>\n",
       "    </tr>\n",
       "    <tr>\n",
       "      <th>France</th>\n",
       "      <td>153</td>\n",
       "    </tr>\n",
       "    <tr>\n",
       "      <th>Canada</th>\n",
       "      <td>121</td>\n",
       "    </tr>\n",
       "    <tr>\n",
       "      <th>Germany</th>\n",
       "      <td>95</td>\n",
       "    </tr>\n",
       "    <tr>\n",
       "      <th>...</th>\n",
       "      <td>...</td>\n",
       "    </tr>\n",
       "    <tr>\n",
       "      <th>Chile</th>\n",
       "      <td>1</td>\n",
       "    </tr>\n",
       "    <tr>\n",
       "      <th>Taiwan</th>\n",
       "      <td>1</td>\n",
       "    </tr>\n",
       "    <tr>\n",
       "      <th>Cambodia</th>\n",
       "      <td>1</td>\n",
       "    </tr>\n",
       "    <tr>\n",
       "      <th>Official site</th>\n",
       "      <td>1</td>\n",
       "    </tr>\n",
       "    <tr>\n",
       "      <th>Philippines</th>\n",
       "      <td>1</td>\n",
       "    </tr>\n",
       "  </tbody>\n",
       "</table>\n",
       "<p>66 rows × 1 columns</p>\n",
       "</div>"
      ],
      "text/plain": [
       "               country\n",
       "USA               3729\n",
       "UK                 437\n",
       "France             153\n",
       "Canada             121\n",
       "Germany             95\n",
       "...                ...\n",
       "Chile                1\n",
       "Taiwan               1\n",
       "Cambodia             1\n",
       "Official site        1\n",
       "Philippines          1\n",
       "\n",
       "[66 rows x 1 columns]"
      ]
     },
     "execution_count": 19,
     "metadata": {},
     "output_type": "execute_result"
    }
   ],
   "source": [
    "df[\"country\"].value_counts().to_frame()"
   ]
  },
  {
   "cell_type": "markdown",
   "id": "5b782d25-5689-49dc-aa6a-e9982428a462",
   "metadata": {},
   "source": [
    "Гипотеза верна."
   ]
  },
  {
   "cell_type": "markdown",
   "id": "e0561353-5d60-4748-b8da-098bdf6893aa",
   "metadata": {
    "jp-MarkdownHeadingCollapsed": true
   },
   "source": [
    "#### Гипотеза 2. Больше всего фильмов было выпущено после 2010 года"
   ]
  },
  {
   "cell_type": "markdown",
   "id": "e9aca6bb-1ef9-4ebd-b2dc-2581b9b505e9",
   "metadata": {},
   "source": [
    "Чтобы проверить гипотезу, нужно посчитать количество фильмов до и после 2010 года."
   ]
  },
  {
   "cell_type": "code",
   "execution_count": 20,
   "id": "f17bedab-2434-4505-ab1a-bc1ca0a04eaa",
   "metadata": {},
   "outputs": [
    {
     "data": {
      "text/plain": [
       "False"
      ]
     },
     "execution_count": 20,
     "metadata": {},
     "output_type": "execute_result"
    }
   ],
   "source": [
    "(df[\"title_year\"] > 2010).sum() > (df[\"title_year\"] <= 2010).sum()"
   ]
  },
  {
   "cell_type": "markdown",
   "id": "6b28d336-a044-4032-b780-a17638997ba0",
   "metadata": {},
   "source": [
    "Гипотеза неверна."
   ]
  },
  {
   "cell_type": "markdown",
   "id": "ac2a4f35-46f4-4fb5-9b74-ea5415142301",
   "metadata": {
    "jp-MarkdownHeadingCollapsed": true
   },
   "source": [
    "#### Гипотеза 3. Средняя продолжительность фильма больше 120 минут"
   ]
  },
  {
   "cell_type": "markdown",
   "id": "22f6c94a-20f8-42f1-b4af-45d5be8ee53d",
   "metadata": {},
   "source": [
    "Чтобы проверить гипотезу, нужно общую длительность фильмов поделить на их количество."
   ]
  },
  {
   "cell_type": "code",
   "execution_count": 21,
   "id": "9e8532ce-fdc1-4d43-b790-fa703aff460f",
   "metadata": {},
   "outputs": [
    {
     "data": {
      "text/plain": [
       "False"
      ]
     },
     "execution_count": 21,
     "metadata": {},
     "output_type": "execute_result"
    }
   ],
   "source": [
    "(df[\"duration\"].sum() / df[\"duration\"].count()) > 120"
   ]
  },
  {
   "cell_type": "markdown",
   "id": "976a045c-ccaf-4d4a-898c-3af0e252e259",
   "metadata": {},
   "source": [
    "Гипотеза неверна."
   ]
  },
  {
   "cell_type": "markdown",
   "id": "a9c75e6d-e642-493c-8863-10c516b04356",
   "metadata": {
    "jp-MarkdownHeadingCollapsed": true
   },
   "source": [
    "## Сохранение обработанного датафрейма"
   ]
  },
  {
   "cell_type": "code",
   "execution_count": 22,
   "id": "3254e401-d3ca-497a-8baa-1b53b16b63b9",
   "metadata": {},
   "outputs": [],
   "source": [
    "df.to_csv(\"Lab1_Kurpenov_FIT_222.csv\")"
   ]
  }
 ],
 "metadata": {
  "kernelspec": {
   "display_name": "Python 3 (ipykernel)",
   "language": "python",
   "name": "python3"
  },
  "language_info": {
   "codemirror_mode": {
    "name": "ipython",
    "version": 3
   },
   "file_extension": ".py",
   "mimetype": "text/x-python",
   "name": "python",
   "nbconvert_exporter": "python",
   "pygments_lexer": "ipython3",
   "version": "3.12.3"
  }
 },
 "nbformat": 4,
 "nbformat_minor": 5
}
