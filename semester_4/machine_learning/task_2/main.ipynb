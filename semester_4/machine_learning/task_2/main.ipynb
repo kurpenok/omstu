{
 "cells": [
  {
   "cell_type": "markdown",
   "id": "1aa0b751-1cad-48ea-bf7d-57763b50e318",
   "metadata": {
    "jp-MarkdownHeadingCollapsed": true
   },
   "source": [
    "## Импорт библиотек"
   ]
  },
  {
   "cell_type": "code",
   "execution_count": 1,
   "id": "73707c4a-00e3-47eb-b9b3-761de21a30bf",
   "metadata": {},
   "outputs": [],
   "source": [
    "import numpy as np\n",
    "import pandas as pd\n",
    "\n",
    "import matplotlib.pyplot as plt\n",
    "import seaborn as sns\n",
    "\n",
    "import warnings"
   ]
  },
  {
   "cell_type": "markdown",
   "id": "f84f0681-ff0a-432b-84bf-254e4d3ecc10",
   "metadata": {},
   "source": [
    "## Обзор данных"
   ]
  },
  {
   "cell_type": "markdown",
   "id": "e5c413b2-e6e9-43a2-b7a5-d997c08e37ce",
   "metadata": {
    "jp-MarkdownHeadingCollapsed": true
   },
   "source": [
    "#### Чтение датасета"
   ]
  },
  {
   "cell_type": "code",
   "execution_count": 2,
   "id": "cea6d1a3-fb82-42ac-9a3f-13918319bb11",
   "metadata": {},
   "outputs": [],
   "source": [
    "df = pd.read_csv(\"dataset.csv\")"
   ]
  },
  {
   "cell_type": "code",
   "execution_count": 3,
   "id": "2a1be2cc-0991-43d3-9ae9-0b2faf0ea23f",
   "metadata": {},
   "outputs": [
    {
     "data": {
      "text/html": [
       "<div>\n",
       "<style scoped>\n",
       "    .dataframe tbody tr th:only-of-type {\n",
       "        vertical-align: middle;\n",
       "    }\n",
       "\n",
       "    .dataframe tbody tr th {\n",
       "        vertical-align: top;\n",
       "    }\n",
       "\n",
       "    .dataframe thead th {\n",
       "        text-align: right;\n",
       "    }\n",
       "</style>\n",
       "<table border=\"1\" class=\"dataframe\">\n",
       "  <thead>\n",
       "    <tr style=\"text-align: right;\">\n",
       "      <th></th>\n",
       "      <th>Unnamed: 0</th>\n",
       "      <th>Film</th>\n",
       "      <th>Oscar Year</th>\n",
       "      <th>Film Studio/Producer(s)</th>\n",
       "      <th>Award</th>\n",
       "      <th>Year of Release</th>\n",
       "      <th>Movie Time</th>\n",
       "      <th>Movie Genre</th>\n",
       "      <th>IMDB Rating</th>\n",
       "      <th>IMDB Votes</th>\n",
       "      <th>...</th>\n",
       "      <th>Tomatometer Status</th>\n",
       "      <th>Tomatometer Rating</th>\n",
       "      <th>Tomatometer Count</th>\n",
       "      <th>Audience Status</th>\n",
       "      <th>Audience Rating</th>\n",
       "      <th>Audience Count</th>\n",
       "      <th>Tomatometer Top Critics Count</th>\n",
       "      <th>Tomatometer Fresh Critics Count</th>\n",
       "      <th>Tomatometer Rotten Critics Count</th>\n",
       "      <th>Film ID</th>\n",
       "    </tr>\n",
       "  </thead>\n",
       "  <tbody>\n",
       "    <tr>\n",
       "      <th>0</th>\n",
       "      <td>0</td>\n",
       "      <td>Wings</td>\n",
       "      <td>1927/28</td>\n",
       "      <td>Famous Players-Lasky</td>\n",
       "      <td>Winner</td>\n",
       "      <td>1927</td>\n",
       "      <td>144</td>\n",
       "      <td>Drama,Romance,War</td>\n",
       "      <td>7.5</td>\n",
       "      <td>12,221</td>\n",
       "      <td>...</td>\n",
       "      <td>Certified-Fresh</td>\n",
       "      <td>93.0</td>\n",
       "      <td>46.0</td>\n",
       "      <td>Upright</td>\n",
       "      <td>78.0</td>\n",
       "      <td>3530.0</td>\n",
       "      <td>9.0</td>\n",
       "      <td>43.0</td>\n",
       "      <td>3.0</td>\n",
       "      <td>2becf7d5-a3de-46ab-ae45-abdd6b588067</td>\n",
       "    </tr>\n",
       "    <tr>\n",
       "      <th>1</th>\n",
       "      <td>1</td>\n",
       "      <td>7th Heaven</td>\n",
       "      <td>1927/28</td>\n",
       "      <td>Fox</td>\n",
       "      <td>Nominee</td>\n",
       "      <td>1927</td>\n",
       "      <td>110</td>\n",
       "      <td>Drama,Romance</td>\n",
       "      <td>7.7</td>\n",
       "      <td>3,439</td>\n",
       "      <td>...</td>\n",
       "      <td>NaN</td>\n",
       "      <td>NaN</td>\n",
       "      <td>NaN</td>\n",
       "      <td>NaN</td>\n",
       "      <td>NaN</td>\n",
       "      <td>NaN</td>\n",
       "      <td>NaN</td>\n",
       "      <td>NaN</td>\n",
       "      <td>NaN</td>\n",
       "      <td>19ed3295-a878-4fd2-8e60-5cd7b5f93dad</td>\n",
       "    </tr>\n",
       "  </tbody>\n",
       "</table>\n",
       "<p>2 rows × 30 columns</p>\n",
       "</div>"
      ],
      "text/plain": [
       "   Unnamed: 0        Film Oscar Year Film Studio/Producer(s)    Award  \\\n",
       "0           0       Wings    1927/28    Famous Players-Lasky   Winner   \n",
       "1           1  7th Heaven    1927/28                     Fox  Nominee   \n",
       "\n",
       "   Year of Release  Movie Time        Movie Genre  IMDB Rating IMDB Votes  \\\n",
       "0             1927         144  Drama,Romance,War          7.5     12,221   \n",
       "1             1927         110      Drama,Romance          7.7      3,439   \n",
       "\n",
       "   ... Tomatometer Status Tomatometer Rating Tomatometer Count  \\\n",
       "0  ...    Certified-Fresh               93.0              46.0   \n",
       "1  ...                NaN                NaN               NaN   \n",
       "\n",
       "  Audience Status Audience Rating Audience Count  \\\n",
       "0         Upright            78.0         3530.0   \n",
       "1             NaN             NaN            NaN   \n",
       "\n",
       "  Tomatometer Top Critics Count Tomatometer Fresh Critics Count  \\\n",
       "0                           9.0                            43.0   \n",
       "1                           NaN                             NaN   \n",
       "\n",
       "  Tomatometer Rotten Critics Count                               Film ID  \n",
       "0                              3.0  2becf7d5-a3de-46ab-ae45-abdd6b588067  \n",
       "1                              NaN  19ed3295-a878-4fd2-8e60-5cd7b5f93dad  \n",
       "\n",
       "[2 rows x 30 columns]"
      ]
     },
     "execution_count": 3,
     "metadata": {},
     "output_type": "execute_result"
    }
   ],
   "source": [
    "df.head(2)"
   ]
  },
  {
   "cell_type": "markdown",
   "id": "617dac5f-be2a-4ff6-b5b1-b16284a99fd7",
   "metadata": {
    "jp-MarkdownHeadingCollapsed": true
   },
   "source": [
    "#### Получение информации о данных в столбцах датафрейма"
   ]
  },
  {
   "cell_type": "code",
   "execution_count": 4,
   "id": "90cd9893-88c8-458a-8f62-7d8f1b846606",
   "metadata": {},
   "outputs": [
    {
     "name": "stdout",
     "output_type": "stream",
     "text": [
      "<class 'pandas.core.frame.DataFrame'>\n",
      "RangeIndex: 571 entries, 0 to 570\n",
      "Data columns (total 30 columns):\n",
      " #   Column                            Non-Null Count  Dtype  \n",
      "---  ------                            --------------  -----  \n",
      " 0   Unnamed: 0                        571 non-null    int64  \n",
      " 1   Film                              571 non-null    object \n",
      " 2   Oscar Year                        571 non-null    object \n",
      " 3   Film Studio/Producer(s)           571 non-null    object \n",
      " 4   Award                             571 non-null    object \n",
      " 5   Year of Release                   571 non-null    int64  \n",
      " 6   Movie Time                        571 non-null    int64  \n",
      " 7   Movie Genre                       571 non-null    object \n",
      " 8   IMDB Rating                       571 non-null    float64\n",
      " 9   IMDB Votes                        571 non-null    object \n",
      " 10  Movie Info                        438 non-null    object \n",
      " 11  Genres                            439 non-null    object \n",
      " 12  Critic Consensus                  339 non-null    object \n",
      " 13  Content Rating                    439 non-null    object \n",
      " 14  Directors                         437 non-null    object \n",
      " 15  Authors                           437 non-null    object \n",
      " 16  Actors                            439 non-null    object \n",
      " 17  Original Release Date             439 non-null    object \n",
      " 18  Streaming Release Date            438 non-null    object \n",
      " 19  Production Company                439 non-null    object \n",
      " 20  Tomatometer Status                439 non-null    object \n",
      " 21  Tomatometer Rating                439 non-null    float64\n",
      " 22  Tomatometer Count                 439 non-null    float64\n",
      " 23  Audience Status                   436 non-null    object \n",
      " 24  Audience Rating                   439 non-null    float64\n",
      " 25  Audience Count                    439 non-null    float64\n",
      " 26  Tomatometer Top Critics Count     439 non-null    float64\n",
      " 27  Tomatometer Fresh Critics Count   439 non-null    float64\n",
      " 28  Tomatometer Rotten Critics Count  439 non-null    float64\n",
      " 29  Film ID                           571 non-null    object \n",
      "dtypes: float64(8), int64(3), object(19)\n",
      "memory usage: 134.0+ KB\n"
     ]
    }
   ],
   "source": [
    "df.info()"
   ]
  },
  {
   "cell_type": "code",
   "execution_count": 5,
   "id": "7579a5fc-2fa1-4b78-b05b-d13ed1ce01ef",
   "metadata": {},
   "outputs": [
    {
     "data": {
      "text/plain": [
       "Critic Consensus                    40.630473\n",
       "Audience Status                     23.642732\n",
       "Authors                             23.467601\n",
       "Directors                           23.467601\n",
       "Movie Info                          23.292469\n",
       "Streaming Release Date              23.292469\n",
       "Audience Rating                     23.117338\n",
       "Audience Count                      23.117338\n",
       "Tomatometer Count                   23.117338\n",
       "Production Company                  23.117338\n",
       "Tomatometer Top Critics Count       23.117338\n",
       "Genres                              23.117338\n",
       "Tomatometer Fresh Critics Count     23.117338\n",
       "Content Rating                      23.117338\n",
       "Tomatometer Rotten Critics Count    23.117338\n",
       "Tomatometer Status                  23.117338\n",
       "Actors                              23.117338\n",
       "Original Release Date               23.117338\n",
       "Tomatometer Rating                  23.117338\n",
       "Unnamed: 0                           0.000000\n",
       "Film                                 0.000000\n",
       "IMDB Votes                           0.000000\n",
       "IMDB Rating                          0.000000\n",
       "Movie Genre                          0.000000\n",
       "Movie Time                           0.000000\n",
       "Year of Release                      0.000000\n",
       "Award                                0.000000\n",
       "Film Studio/Producer(s)              0.000000\n",
       "Oscar Year                           0.000000\n",
       "Film ID                              0.000000\n",
       "dtype: float64"
      ]
     },
     "execution_count": 5,
     "metadata": {},
     "output_type": "execute_result"
    }
   ],
   "source": [
    "(df.isna().sum() / df.shape[0] * 100).sort_values(ascending=False)"
   ]
  },
  {
   "cell_type": "markdown",
   "id": "6f9bdce7-b691-4037-8bb1-e1a2de59074f",
   "metadata": {},
   "source": [
    "Данных недостаёт в более чем половине столбцов. Требуется обработка."
   ]
  }
 ],
 "metadata": {
  "kernelspec": {
   "display_name": "Python 3 (ipykernel)",
   "language": "python",
   "name": "python3"
  },
  "language_info": {
   "codemirror_mode": {
    "name": "ipython",
    "version": 3
   },
   "file_extension": ".py",
   "mimetype": "text/x-python",
   "name": "python",
   "nbconvert_exporter": "python",
   "pygments_lexer": "ipython3",
   "version": "3.12.3"
  }
 },
 "nbformat": 4,
 "nbformat_minor": 5
}
