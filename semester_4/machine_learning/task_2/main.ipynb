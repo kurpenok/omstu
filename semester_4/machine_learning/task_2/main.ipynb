{
 "cells": [
  {
   "cell_type": "markdown",
   "id": "1aa0b751-1cad-48ea-bf7d-57763b50e318",
   "metadata": {
    "jp-MarkdownHeadingCollapsed": true
   },
   "source": [
    "## Импорт библиотек"
   ]
  },
  {
   "cell_type": "code",
   "execution_count": 1,
   "id": "73707c4a-00e3-47eb-b9b3-761de21a30bf",
   "metadata": {},
   "outputs": [],
   "source": [
    "import numpy as np\n",
    "import pandas as pd\n",
    "\n",
    "import matplotlib.pyplot as plt\n",
    "import seaborn as sns\n",
    "\n",
    "import warnings"
   ]
  },
  {
   "cell_type": "markdown",
   "id": "f84f0681-ff0a-432b-84bf-254e4d3ecc10",
   "metadata": {
    "jp-MarkdownHeadingCollapsed": true
   },
   "source": [
    "## Обзор данных"
   ]
  },
  {
   "cell_type": "markdown",
   "id": "e5c413b2-e6e9-43a2-b7a5-d997c08e37ce",
   "metadata": {
    "jp-MarkdownHeadingCollapsed": true
   },
   "source": [
    "#### Чтение датасета"
   ]
  },
  {
   "cell_type": "code",
   "execution_count": 2,
   "id": "cea6d1a3-fb82-42ac-9a3f-13918319bb11",
   "metadata": {},
   "outputs": [],
   "source": [
    "df = pd.read_csv(\"dataset.csv\")"
   ]
  },
  {
   "cell_type": "code",
   "execution_count": 3,
   "id": "2a1be2cc-0991-43d3-9ae9-0b2faf0ea23f",
   "metadata": {},
   "outputs": [
    {
     "data": {
      "text/html": [
       "<div>\n",
       "<style scoped>\n",
       "    .dataframe tbody tr th:only-of-type {\n",
       "        vertical-align: middle;\n",
       "    }\n",
       "\n",
       "    .dataframe tbody tr th {\n",
       "        vertical-align: top;\n",
       "    }\n",
       "\n",
       "    .dataframe thead th {\n",
       "        text-align: right;\n",
       "    }\n",
       "</style>\n",
       "<table border=\"1\" class=\"dataframe\">\n",
       "  <thead>\n",
       "    <tr style=\"text-align: right;\">\n",
       "      <th></th>\n",
       "      <th>Unnamed: 0</th>\n",
       "      <th>Film</th>\n",
       "      <th>Oscar Year</th>\n",
       "      <th>Film Studio/Producer(s)</th>\n",
       "      <th>Award</th>\n",
       "      <th>Year of Release</th>\n",
       "      <th>Movie Time</th>\n",
       "      <th>Movie Genre</th>\n",
       "      <th>IMDB Rating</th>\n",
       "      <th>IMDB Votes</th>\n",
       "      <th>...</th>\n",
       "      <th>Tomatometer Status</th>\n",
       "      <th>Tomatometer Rating</th>\n",
       "      <th>Tomatometer Count</th>\n",
       "      <th>Audience Status</th>\n",
       "      <th>Audience Rating</th>\n",
       "      <th>Audience Count</th>\n",
       "      <th>Tomatometer Top Critics Count</th>\n",
       "      <th>Tomatometer Fresh Critics Count</th>\n",
       "      <th>Tomatometer Rotten Critics Count</th>\n",
       "      <th>Film ID</th>\n",
       "    </tr>\n",
       "  </thead>\n",
       "  <tbody>\n",
       "    <tr>\n",
       "      <th>0</th>\n",
       "      <td>0</td>\n",
       "      <td>Wings</td>\n",
       "      <td>1927/28</td>\n",
       "      <td>Famous Players-Lasky</td>\n",
       "      <td>Winner</td>\n",
       "      <td>1927</td>\n",
       "      <td>144</td>\n",
       "      <td>Drama,Romance,War</td>\n",
       "      <td>7.5</td>\n",
       "      <td>12,221</td>\n",
       "      <td>...</td>\n",
       "      <td>Certified-Fresh</td>\n",
       "      <td>93.0</td>\n",
       "      <td>46.0</td>\n",
       "      <td>Upright</td>\n",
       "      <td>78.0</td>\n",
       "      <td>3530.0</td>\n",
       "      <td>9.0</td>\n",
       "      <td>43.0</td>\n",
       "      <td>3.0</td>\n",
       "      <td>2becf7d5-a3de-46ab-ae45-abdd6b588067</td>\n",
       "    </tr>\n",
       "    <tr>\n",
       "      <th>1</th>\n",
       "      <td>1</td>\n",
       "      <td>7th Heaven</td>\n",
       "      <td>1927/28</td>\n",
       "      <td>Fox</td>\n",
       "      <td>Nominee</td>\n",
       "      <td>1927</td>\n",
       "      <td>110</td>\n",
       "      <td>Drama,Romance</td>\n",
       "      <td>7.7</td>\n",
       "      <td>3,439</td>\n",
       "      <td>...</td>\n",
       "      <td>NaN</td>\n",
       "      <td>NaN</td>\n",
       "      <td>NaN</td>\n",
       "      <td>NaN</td>\n",
       "      <td>NaN</td>\n",
       "      <td>NaN</td>\n",
       "      <td>NaN</td>\n",
       "      <td>NaN</td>\n",
       "      <td>NaN</td>\n",
       "      <td>19ed3295-a878-4fd2-8e60-5cd7b5f93dad</td>\n",
       "    </tr>\n",
       "  </tbody>\n",
       "</table>\n",
       "<p>2 rows × 30 columns</p>\n",
       "</div>"
      ],
      "text/plain": [
       "   Unnamed: 0        Film Oscar Year Film Studio/Producer(s)    Award  \\\n",
       "0           0       Wings    1927/28    Famous Players-Lasky   Winner   \n",
       "1           1  7th Heaven    1927/28                     Fox  Nominee   \n",
       "\n",
       "   Year of Release  Movie Time        Movie Genre  IMDB Rating IMDB Votes  \\\n",
       "0             1927         144  Drama,Romance,War          7.5     12,221   \n",
       "1             1927         110      Drama,Romance          7.7      3,439   \n",
       "\n",
       "   ... Tomatometer Status Tomatometer Rating Tomatometer Count  \\\n",
       "0  ...    Certified-Fresh               93.0              46.0   \n",
       "1  ...                NaN                NaN               NaN   \n",
       "\n",
       "  Audience Status Audience Rating Audience Count  \\\n",
       "0         Upright            78.0         3530.0   \n",
       "1             NaN             NaN            NaN   \n",
       "\n",
       "  Tomatometer Top Critics Count Tomatometer Fresh Critics Count  \\\n",
       "0                           9.0                            43.0   \n",
       "1                           NaN                             NaN   \n",
       "\n",
       "  Tomatometer Rotten Critics Count                               Film ID  \n",
       "0                              3.0  2becf7d5-a3de-46ab-ae45-abdd6b588067  \n",
       "1                              NaN  19ed3295-a878-4fd2-8e60-5cd7b5f93dad  \n",
       "\n",
       "[2 rows x 30 columns]"
      ]
     },
     "execution_count": 3,
     "metadata": {},
     "output_type": "execute_result"
    }
   ],
   "source": [
    "df.head(2)"
   ]
  },
  {
   "cell_type": "markdown",
   "id": "69767992-8026-4048-925a-95f1fb7c6f60",
   "metadata": {
    "jp-MarkdownHeadingCollapsed": true
   },
   "source": [
    "#### Датасет содержит следующие поля"
   ]
  },
  {
   "cell_type": "markdown",
   "id": "700c22ba-b498-4292-8b72-7ec2ca6c3ece",
   "metadata": {
    "jp-MarkdownHeadingCollapsed": true
   },
   "source": [
    "- `Unnamed: 0` - колонка с номером фильма\n",
    "- `Film` - название фильма\n",
    "- `Oscar Year` - год получения премии \"Оскар\"\n",
    "- `Film Studio/Producer(s)` - студия или продюссерский состав\n",
    "- `Award` - номинация\n",
    "- `Year of Release` - год выхода\n",
    "- `Movie Time` - длительность фильма\n",
    "- `Movie Genre` - жанр фильма\n",
    "- `IMDB Rating` - рейтинг на сервисе IMDB\n",
    "- `IMDB Votes` - да честно говоря, хуй знает что это\n",
    "- `Movie Info` - описание фильма\n",
    "- `Genres` - какого-то хуя опять жанр фильма\n",
    "- `Critic Consensus` - критика\n",
    "- `Content Rating` - рейтинг контента\n",
    "- `Directors` - режиссёры\n",
    "- `Authors` - авторы сценария\n",
    "- `Actors` - актёрский состав\n",
    "- `Original Release Date` - официальная дата выхода фильма\n",
    "- `Streaming Release Date` - дата выхода на стриминговых платформах\n",
    "- `Production Company` - площадка выхода\n",
    "- `Tomatometer Status` - какие нахуй томатометры?\n",
    "- `Tomatometer Rating` - пиздец, у этого ещё и рейтинг есть\n",
    "- `Tomatometer Count` - ещё и счётчик\n",
    "- `Audience Status` - мнение аудитории\n",
    "- `Audience Rating` - рейтинг аудитории\n",
    "- `Audience Count` - я бля не ебу что это\n",
    "- `Tomatometer Top Critics Count` - пиздец\n",
    "- `Tomatometer Fresh Critics Count` - идите нахуй с такими колонками\n",
    "- `Tomatometer Rotten Critics Count` - я ебал\n",
    "- `Film ID` - идентификатор фильма"
   ]
  },
  {
   "cell_type": "markdown",
   "id": "617dac5f-be2a-4ff6-b5b1-b16284a99fd7",
   "metadata": {
    "jp-MarkdownHeadingCollapsed": true
   },
   "source": [
    "#### Получение информации о данных в столбцах датафрейма"
   ]
  },
  {
   "cell_type": "code",
   "execution_count": 4,
   "id": "90cd9893-88c8-458a-8f62-7d8f1b846606",
   "metadata": {},
   "outputs": [
    {
     "name": "stdout",
     "output_type": "stream",
     "text": [
      "<class 'pandas.core.frame.DataFrame'>\n",
      "RangeIndex: 571 entries, 0 to 570\n",
      "Data columns (total 30 columns):\n",
      " #   Column                            Non-Null Count  Dtype  \n",
      "---  ------                            --------------  -----  \n",
      " 0   Unnamed: 0                        571 non-null    int64  \n",
      " 1   Film                              571 non-null    object \n",
      " 2   Oscar Year                        571 non-null    object \n",
      " 3   Film Studio/Producer(s)           571 non-null    object \n",
      " 4   Award                             571 non-null    object \n",
      " 5   Year of Release                   571 non-null    int64  \n",
      " 6   Movie Time                        571 non-null    int64  \n",
      " 7   Movie Genre                       571 non-null    object \n",
      " 8   IMDB Rating                       571 non-null    float64\n",
      " 9   IMDB Votes                        571 non-null    object \n",
      " 10  Movie Info                        438 non-null    object \n",
      " 11  Genres                            439 non-null    object \n",
      " 12  Critic Consensus                  339 non-null    object \n",
      " 13  Content Rating                    439 non-null    object \n",
      " 14  Directors                         437 non-null    object \n",
      " 15  Authors                           437 non-null    object \n",
      " 16  Actors                            439 non-null    object \n",
      " 17  Original Release Date             439 non-null    object \n",
      " 18  Streaming Release Date            438 non-null    object \n",
      " 19  Production Company                439 non-null    object \n",
      " 20  Tomatometer Status                439 non-null    object \n",
      " 21  Tomatometer Rating                439 non-null    float64\n",
      " 22  Tomatometer Count                 439 non-null    float64\n",
      " 23  Audience Status                   436 non-null    object \n",
      " 24  Audience Rating                   439 non-null    float64\n",
      " 25  Audience Count                    439 non-null    float64\n",
      " 26  Tomatometer Top Critics Count     439 non-null    float64\n",
      " 27  Tomatometer Fresh Critics Count   439 non-null    float64\n",
      " 28  Tomatometer Rotten Critics Count  439 non-null    float64\n",
      " 29  Film ID                           571 non-null    object \n",
      "dtypes: float64(8), int64(3), object(19)\n",
      "memory usage: 134.0+ KB\n"
     ]
    }
   ],
   "source": [
    "df.info()"
   ]
  },
  {
   "cell_type": "markdown",
   "id": "7ceef46d-92e6-4598-be34-a468ea8f4bd6",
   "metadata": {
    "jp-MarkdownHeadingCollapsed": true
   },
   "source": [
    "#### Выводы"
   ]
  },
  {
   "cell_type": "markdown",
   "id": "768fad51-975f-4042-ad28-626953a49804",
   "metadata": {},
   "source": [
    "- Заголовки нужно привести к lower case и заменить разделяющие пробелы на знаки нижнего подчёркивания\n",
    "- Столбец `Unnamed: 0` требуется удалить\n",
    "- Столбцы `Movie Genre` и `Genres` нужно объединить\n",
    "- Столбец `Critic Consensus` имеет много пропущенных значений\n",
    "- Данные в столбцах`Year of Release`, `Original Release Date`, `Streaming Release Date` нужно привести к типу даты\n",
    "- Требуется обработка дубликатов"
   ]
  },
  {
   "cell_type": "markdown",
   "id": "8ea10028-4862-4eac-a1ee-650d48c9a346",
   "metadata": {
    "jp-MarkdownHeadingCollapsed": true
   },
   "source": [
    "## Предварительная обработка данных"
   ]
  },
  {
   "cell_type": "markdown",
   "id": "84e6a6a5-5f11-4710-8296-a3c4bd09bec4",
   "metadata": {
    "jp-MarkdownHeadingCollapsed": true
   },
   "source": [
    "#### Форматирование заголовков датафрейма"
   ]
  },
  {
   "cell_type": "code",
   "execution_count": 5,
   "id": "dc363187-91e9-4245-a556-0ae7828f87c1",
   "metadata": {},
   "outputs": [],
   "source": [
    "df.columns = [column.strip().lower().replace(\" \", \"_\").replace(\"/\", \"_or_\").replace(\"(s)\", \"\") for column in df.columns]"
   ]
  },
  {
   "cell_type": "code",
   "execution_count": 6,
   "id": "75fbc934-b005-48a6-81e5-a610d7e567e5",
   "metadata": {},
   "outputs": [
    {
     "data": {
      "text/plain": [
       "Index(['unnamed:_0', 'film', 'oscar_year', 'film_studio_or_producer', 'award',\n",
       "       'year_of_release', 'movie_time', 'movie_genre', 'imdb_rating',\n",
       "       'imdb_votes', 'movie_info', 'genres', 'critic_consensus',\n",
       "       'content_rating', 'directors', 'authors', 'actors',\n",
       "       'original_release_date', 'streaming_release_date', 'production_company',\n",
       "       'tomatometer_status', 'tomatometer_rating', 'tomatometer_count',\n",
       "       'audience_status', 'audience_rating', 'audience_count',\n",
       "       'tomatometer_top_critics_count', 'tomatometer_fresh_critics_count',\n",
       "       'tomatometer_rotten_critics_count', 'film_id'],\n",
       "      dtype='object')"
      ]
     },
     "execution_count": 6,
     "metadata": {},
     "output_type": "execute_result"
    }
   ],
   "source": [
    "df.columns"
   ]
  },
  {
   "cell_type": "markdown",
   "id": "57bd1aa5-a2ce-458a-b08f-1fbdfae6da76",
   "metadata": {
    "jp-MarkdownHeadingCollapsed": true
   },
   "source": [
    "#### Удаление первого столбца из датафрейма"
   ]
  },
  {
   "cell_type": "code",
   "execution_count": 7,
   "id": "52a93c20-bb12-4f4b-bd4f-5efed01d6481",
   "metadata": {},
   "outputs": [],
   "source": [
    "df = df.drop(columns=df.columns[0])"
   ]
  },
  {
   "cell_type": "markdown",
   "id": "d21543ae-9325-4ad2-8e51-7637d44bedea",
   "metadata": {
    "jp-MarkdownHeadingCollapsed": true
   },
   "source": [
    "#### Объединение столбцов `movie_genre` и `genres`"
   ]
  },
  {
   "cell_type": "code",
   "execution_count": 8,
   "id": "20afa176-c6a4-4fb7-bd1b-2ca0901add0a",
   "metadata": {},
   "outputs": [],
   "source": [
    "df[\"genre\"] = df[\"genres\"] + \" \" + df[\"movie_genre\"]"
   ]
  },
  {
   "cell_type": "code",
   "execution_count": 9,
   "id": "b7e6a2a8-3a47-448f-9c48-e6655d7d1653",
   "metadata": {},
   "outputs": [],
   "source": [
    "df.drop(\"genres\", axis=1, inplace=True)\n",
    "df.drop(\"movie_genre\", axis=1, inplace=True)"
   ]
  },
  {
   "cell_type": "code",
   "execution_count": 10,
   "id": "fb3b5d2d-fd0a-4333-9e23-ecfb8d8a1ec4",
   "metadata": {},
   "outputs": [
    {
     "data": {
      "text/plain": [
       "0         Action & Adventure, Classics Drama,Romance,War\n",
       "1                                                    NaN\n",
       "2                                                    NaN\n",
       "3      Musical & Performing Arts, Romance Drama,Music...\n",
       "4                                                    NaN\n",
       "                             ...                        \n",
       "566                                                  NaN\n",
       "567                                                  NaN\n",
       "568                                                  NaN\n",
       "569                                                  NaN\n",
       "570                                                  NaN\n",
       "Name: genre, Length: 571, dtype: object"
      ]
     },
     "execution_count": 10,
     "metadata": {},
     "output_type": "execute_result"
    }
   ],
   "source": [
    "df[\"genre\"]"
   ]
  },
  {
   "cell_type": "markdown",
   "id": "f6660c47-c769-4002-8933-81d21c7e265f",
   "metadata": {
    "jp-MarkdownHeadingCollapsed": true
   },
   "source": [
    "#### Обработка столбцов с датами"
   ]
  },
  {
   "cell_type": "markdown",
   "id": "0bb542d2-3e4a-4915-924c-332895b8f760",
   "metadata": {},
   "source": [
    "Так как данные о годах получения премии \"Оскар\" не являются чем-то важным, можно оставить только один год"
   ]
  },
  {
   "cell_type": "code",
   "execution_count": 11,
   "id": "4a9ab929-708c-4594-9e47-8e27f04a1eb9",
   "metadata": {},
   "outputs": [],
   "source": [
    "df[\"oscar_year\"] = df[\"oscar_year\"].apply(lambda year: year[:year.find(\"/\")] if year.find(\"/\") != -1 else year)"
   ]
  },
  {
   "cell_type": "code",
   "execution_count": 12,
   "id": "e02c0437-d8a6-49fc-9c2d-0cc13abf1baf",
   "metadata": {},
   "outputs": [],
   "source": [
    "df[\"oscar_year\"] = df[\"oscar_year\"].apply(lambda year: str(year) + \"-01-01\")"
   ]
  },
  {
   "cell_type": "code",
   "execution_count": 13,
   "id": "fef2f16b-ba36-4168-aac5-35f264a86f7f",
   "metadata": {},
   "outputs": [],
   "source": [
    "df[\"oscar_year\"] = pd.to_datetime(df[\"oscar_year\"], format=\"%Y-%m-%d\")\n",
    "df[\"original_release_date\"] = pd.to_datetime(df[\"oscar_year\"], format=\"%Y-%m-%d\")\n",
    "df[\"streaming_release_date\"] = pd.to_datetime(df[\"oscar_year\"], format=\"%Y-%m-%d\")"
   ]
  },
  {
   "cell_type": "markdown",
   "id": "63059dc0-fbaf-4a37-8ccb-a71acf58eeab",
   "metadata": {
    "jp-MarkdownHeadingCollapsed": true
   },
   "source": [
    "#### Обработка дубликатов"
   ]
  },
  {
   "cell_type": "code",
   "execution_count": 14,
   "id": "930e87b6-63ec-4d6c-a3ad-eb3631292757",
   "metadata": {},
   "outputs": [
    {
     "data": {
      "text/plain": [
       "0"
      ]
     },
     "execution_count": 14,
     "metadata": {},
     "output_type": "execute_result"
    }
   ],
   "source": [
    "df.duplicated().sum()"
   ]
  },
  {
   "cell_type": "markdown",
   "id": "d204352f-a39f-41e4-965f-05ec95511eb9",
   "metadata": {},
   "source": [
    "Дубликатов нет, поэтому обрабатывать их не нужно."
   ]
  }
 ],
 "metadata": {
  "kernelspec": {
   "display_name": "Python 3 (ipykernel)",
   "language": "python",
   "name": "python3"
  },
  "language_info": {
   "codemirror_mode": {
    "name": "ipython",
    "version": 3
   },
   "file_extension": ".py",
   "mimetype": "text/x-python",
   "name": "python",
   "nbconvert_exporter": "python",
   "pygments_lexer": "ipython3",
   "version": "3.12.3"
  }
 },
 "nbformat": 4,
 "nbformat_minor": 5
}
