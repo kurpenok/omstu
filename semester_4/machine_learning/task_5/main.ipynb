{
 "cells": [
  {
   "cell_type": "markdown",
   "id": "21c64f9b-98bd-494d-8350-2e666c80c6f3",
   "metadata": {},
   "source": [
    "## Импорт библиотек"
   ]
  },
  {
   "cell_type": "code",
   "execution_count": 1,
   "id": "cdb9a0d8-8638-4be4-8dbf-b8d14ef9dbb3",
   "metadata": {},
   "outputs": [],
   "source": [
    "import numpy as np\n",
    "import pandas as pd\n",
    "\n",
    "from sklearn.model_selection import train_test_split\n",
    "from sklearn.preprocessing import StandardScaler\n",
    "from sklearn.pipeline import make_pipeline\n",
    "\n",
    "from sklearn.linear_model import RidgeCV\n",
    "from sklearn.svm import LinearSVR, LinearSVC\n",
    "\n",
    "from sklearn.tree import DecisionTreeRegressor\n",
    "from sklearn.ensemble import BaggingRegressor, GradientBoostingRegressor, StackingRegressor\n",
    "from catboost import CatBoostRegressor\n",
    "from xgboost import XGBRegressor\n",
    "from lightgbm import LGBMRegressor\n",
    "\n",
    "from sklearn.linear_model import LogisticRegression\n",
    "from sklearn.tree import DecisionTreeClassifier\n",
    "from sklearn.ensemble import BaggingClassifier, GradientBoostingClassifier, StackingClassifier, RandomForestClassifier\n",
    "from catboost import CatBoostClassifier\n",
    "from xgboost import XGBClassifier\n",
    "from lightgbm import LGBMClassifier\n",
    "\n",
    "# from pycaret.regression import *\n",
    "\n",
    "from sklearn.metrics import mean_absolute_error, mean_squared_error, mean_absolute_percentage_error, r2_score\n",
    "from sklearn.metrics import accuracy_score, confusion_matrix, classification_report, RocCurveDisplay\n",
    "\n",
    "import warnings\n",
    "warnings.filterwarnings(\"ignore\")"
   ]
  },
  {
   "cell_type": "markdown",
   "id": "71ce67cc-6d35-4920-bd9f-3893d4b66f7f",
   "metadata": {},
   "source": [
    "## Применение древовидных моделей для решения задачи регрессии"
   ]
  },
  {
   "cell_type": "markdown",
   "id": "5da1a949-5e5b-4859-8e0d-b3a87d7c89af",
   "metadata": {},
   "source": [
    "#### Чтение датасета"
   ]
  },
  {
   "cell_type": "code",
   "execution_count": 2,
   "id": "3cb0bf01-13ca-4f02-bdac-2666121fb073",
   "metadata": {},
   "outputs": [],
   "source": [
    "regression_df = pd.read_csv(\"../data/preprocessed_moldova_cars_dataset.csv\")"
   ]
  },
  {
   "cell_type": "code",
   "execution_count": 3,
   "id": "546175fd-d86d-43f6-91e5-82405619a835",
   "metadata": {},
   "outputs": [],
   "source": [
    "del regression_df[\"Unnamed: 0\"]"
   ]
  },
  {
   "cell_type": "code",
   "execution_count": 4,
   "id": "1aab0231-9e91-4db2-94ea-3b82c6f1ecc0",
   "metadata": {},
   "outputs": [
    {
     "data": {
      "text/html": [
       "<div>\n",
       "<style scoped>\n",
       "    .dataframe tbody tr th:only-of-type {\n",
       "        vertical-align: middle;\n",
       "    }\n",
       "\n",
       "    .dataframe tbody tr th {\n",
       "        vertical-align: top;\n",
       "    }\n",
       "\n",
       "    .dataframe thead th {\n",
       "        text-align: right;\n",
       "    }\n",
       "</style>\n",
       "<table border=\"1\" class=\"dataframe\">\n",
       "  <thead>\n",
       "    <tr style=\"text-align: right;\">\n",
       "      <th></th>\n",
       "      <th>make</th>\n",
       "      <th>model</th>\n",
       "      <th>year</th>\n",
       "      <th>style</th>\n",
       "      <th>distance</th>\n",
       "      <th>engine_capacity</th>\n",
       "      <th>fuel_type</th>\n",
       "      <th>transmission</th>\n",
       "      <th>price</th>\n",
       "    </tr>\n",
       "  </thead>\n",
       "  <tbody>\n",
       "    <tr>\n",
       "      <th>0</th>\n",
       "      <td>79</td>\n",
       "      <td>570</td>\n",
       "      <td>2011.0</td>\n",
       "      <td>4</td>\n",
       "      <td>195000.0</td>\n",
       "      <td>1800.0</td>\n",
       "      <td>2</td>\n",
       "      <td>0</td>\n",
       "      <td>7750.0</td>\n",
       "    </tr>\n",
       "    <tr>\n",
       "      <th>1</th>\n",
       "      <td>66</td>\n",
       "      <td>383</td>\n",
       "      <td>2014.0</td>\n",
       "      <td>11</td>\n",
       "      <td>135000.0</td>\n",
       "      <td>1500.0</td>\n",
       "      <td>0</td>\n",
       "      <td>1</td>\n",
       "      <td>8550.0</td>\n",
       "    </tr>\n",
       "  </tbody>\n",
       "</table>\n",
       "</div>"
      ],
      "text/plain": [
       "   make  model    year  style  distance  engine_capacity  fuel_type  \\\n",
       "0    79    570  2011.0      4  195000.0           1800.0          2   \n",
       "1    66    383  2014.0     11  135000.0           1500.0          0   \n",
       "\n",
       "   transmission   price  \n",
       "0             0  7750.0  \n",
       "1             1  8550.0  "
      ]
     },
     "execution_count": 4,
     "metadata": {},
     "output_type": "execute_result"
    }
   ],
   "source": [
    "regression_df.head(2)"
   ]
  },
  {
   "cell_type": "markdown",
   "id": "1dcd5331-fd1f-4699-8090-2c302cc74461",
   "metadata": {},
   "source": [
    "#### Разбиение на обучающую и тестовую выборки"
   ]
  },
  {
   "cell_type": "code",
   "execution_count": 5,
   "id": "9b00cc5c-b3df-4fdd-924c-7bde90584df7",
   "metadata": {},
   "outputs": [],
   "source": [
    "y = regression_df.loc[:, \"price\"]\n",
    "X = regression_df.drop(\"price\", axis=1)"
   ]
  },
  {
   "cell_type": "code",
   "execution_count": 6,
   "id": "d55002c7-2e18-4b28-a535-ccde2af886dc",
   "metadata": {},
   "outputs": [],
   "source": [
    "X_train, X_test, y_train, y_test = train_test_split(X, y)"
   ]
  },
  {
   "cell_type": "markdown",
   "id": "888eb997-74d0-471a-868a-dcfcb3f95741",
   "metadata": {},
   "source": [
    "#### Функция для оценки качества обученной модели"
   ]
  },
  {
   "cell_type": "code",
   "execution_count": 7,
   "id": "0d1c2867-82ab-4b6c-bb23-8e17e868b6fc",
   "metadata": {},
   "outputs": [],
   "source": [
    "def eval_model_quality(y_test: np.ndarray, y_pred: np.ndarray) -> None:\n",
    "    print(f\"[+] MAE: {mean_absolute_error(y_test, y_pred)}\")\n",
    "    print(f\"[+] MSE: {mean_squared_error(y_test, y_pred)}\")\n",
    "    print(f\"[+] RMSE: {np.sqrt(mean_squared_error(y_test, y_pred))}\")\n",
    "    print(f\"[+] MAPE: {mean_absolute_percentage_error(y_test, y_pred)}\")"
   ]
  },
  {
   "cell_type": "markdown",
   "id": "112fa3d0-96f8-4c38-aa90-0d6c8c07abad",
   "metadata": {},
   "source": [
    "#### Baseline-модель для оценки качества последующих моделей"
   ]
  },
  {
   "cell_type": "code",
   "execution_count": 8,
   "id": "0fd5ec1d-b181-4ab7-b3a0-7be0f8a0e245",
   "metadata": {},
   "outputs": [
    {
     "name": "stdout",
     "output_type": "stream",
     "text": [
      "[+] MAE: 6541.619242021724\n",
      "[+] MSE: 136389735.67596138\n",
      "[+] RMSE: 11678.601614746578\n",
      "[+] MAPE: 1.9125926316890582\n"
     ]
    }
   ],
   "source": [
    "eval_model_quality(y_test, [np.mean(y_test)] * len(y_test))"
   ]
  },
  {
   "cell_type": "code",
   "execution_count": 9,
   "id": "7f36a4a5-1d53-477d-b11b-9601016883a7",
   "metadata": {},
   "outputs": [
    {
     "name": "stdout",
     "output_type": "stream",
     "text": [
      "[+] MAE: 5981.292503567117\n",
      "[+] MSE: 144760164.59686095\n",
      "[+] RMSE: 12031.631834329912\n",
      "[+] MAPE: 1.270316490087161\n"
     ]
    }
   ],
   "source": [
    "eval_model_quality(y_test, [np.median(y_test)] * len(y_test))"
   ]
  },
  {
   "cell_type": "markdown",
   "id": "ac0f7ae6-66ff-496f-8a2e-0abe24586c30",
   "metadata": {},
   "source": [
    "#### Обучение модели `DecisionTreeRegressor`"
   ]
  },
  {
   "cell_type": "code",
   "execution_count": 10,
   "id": "2888cfdd-1c96-4d1f-9192-23f5c69befb1",
   "metadata": {},
   "outputs": [
    {
     "name": "stdout",
     "output_type": "stream",
     "text": [
      "[+] MAE: 4047.084412245656\n",
      "[+] MSE: 82177193.11690244\n",
      "[+] RMSE: 9065.163711533423\n",
      "[+] MAPE: 0.8400826425500367\n",
      "[+] R^2-score: 0.3974825692738245\n"
     ]
    }
   ],
   "source": [
    "dtr = DecisionTreeRegressor(max_depth=3)\n",
    "dtr.fit(X_train, y_train)\n",
    "\n",
    "y_pred = dtr.predict(X_test)\n",
    "\n",
    "eval_model_quality(y_test, y_pred)\n",
    "print(f\"[+] R^2-score: {dtr.score(X_test, y_test)}\")"
   ]
  },
  {
   "cell_type": "markdown",
   "id": "73ea22d9-5048-44c4-a0f1-81b1c1549f57",
   "metadata": {},
   "source": [
    "#### Обучение модели `BaggingRegressor`"
   ]
  },
  {
   "cell_type": "code",
   "execution_count": 11,
   "id": "2e3d4b04-8eac-4b6a-8aa9-a42687ca6fbd",
   "metadata": {},
   "outputs": [
    {
     "name": "stdout",
     "output_type": "stream",
     "text": [
      "[+] MAE: 2832.48934046234\n",
      "[+] MSE: 75774535.8364077\n",
      "[+] RMSE: 8704.85702561551\n",
      "[+] MAPE: 0.6849416821122677\n",
      "[+] R^2-score: 0.44442640451745574\n"
     ]
    }
   ],
   "source": [
    "br = BaggingRegressor(n_estimators=1)\n",
    "br.fit(X_train, y_train)\n",
    "\n",
    "y_pred = br.predict(X_test)\n",
    "\n",
    "eval_model_quality(y_test, y_pred)\n",
    "print(f\"[+] R^2-score: {br.score(X_test, y_test)}\")"
   ]
  },
  {
   "cell_type": "markdown",
   "id": "12ea5a02-2384-42a1-bb18-78bbb0c396c9",
   "metadata": {},
   "source": [
    "#### Обучение модели `GradientBoostingRegressor`"
   ]
  },
  {
   "cell_type": "code",
   "execution_count": 12,
   "id": "9bad917d-c695-4fcb-b589-3d4a54950258",
   "metadata": {},
   "outputs": [
    {
     "name": "stdout",
     "output_type": "stream",
     "text": [
      "[+] MAE: 3558.418921983685\n",
      "[+] MSE: 76883997.5752484\n",
      "[+] RMSE: 8768.352044440757\n",
      "[+] MAPE: 0.9145090016212851\n",
      "[+] R^2-score: 0.43629190866744105\n"
     ]
    }
   ],
   "source": [
    "gbr = GradientBoostingRegressor(n_estimators=16)\n",
    "gbr.fit(X_train, y_train)\n",
    "\n",
    "y_pred = gbr.predict(X_test)\n",
    "\n",
    "eval_model_quality(y_test, y_pred)\n",
    "print(f\"[+] R^2-score: {gbr.score(X_test, y_test)}\")"
   ]
  },
  {
   "cell_type": "markdown",
   "id": "a1122116-97d1-44ad-8f72-c247982b2459",
   "metadata": {},
   "source": [
    "#### Обучение модели `StackingRegressor`"
   ]
  },
  {
   "cell_type": "code",
   "execution_count": 13,
   "id": "90c8655c-a4fc-4dc0-aa27-a81ec2585071",
   "metadata": {},
   "outputs": [
    {
     "name": "stdout",
     "output_type": "stream",
     "text": [
      "[+] MAE: 6527.716704589964\n",
      "[+] MSE: 134412231.27498436\n",
      "[+] RMSE: 11593.628908800918\n",
      "[+] MAPE: 1.9206758516876283\n",
      "[+] R^2-score: 0.014498923919577189\n"
     ]
    }
   ],
   "source": [
    "estimators = [\n",
    "    (\"lr\", RidgeCV()),\n",
    "    (\"svr\", LinearSVR(random_state=42)),\n",
    "]\n",
    "\n",
    "sr = StackingRegressor(estimators=estimators)\n",
    "sr.fit(X_train, y_train)\n",
    "\n",
    "y_pred = sr.predict(X_test)\n",
    "\n",
    "eval_model_quality(y_test, y_pred)\n",
    "print(f\"[+] R^2-score: {sr.score(X_test, y_test)}\")"
   ]
  },
  {
   "cell_type": "markdown",
   "id": "7c0b3f66-3e2d-4c74-a611-334459fbe5a8",
   "metadata": {},
   "source": [
    "#### Обучение модели `CatBoostRegressor`"
   ]
  },
  {
   "cell_type": "code",
   "execution_count": 14,
   "id": "5d8b51c8-2808-4071-bbbf-79cc8059cb5b",
   "metadata": {},
   "outputs": [
    {
     "name": "stdout",
     "output_type": "stream",
     "text": [
      "[+] MAE: 2710.8420199190964\n",
      "[+] MSE: 109651184.95357603\n",
      "[+] RMSE: 10471.44617297802\n",
      "[+] MAPE: 0.6019824433761582\n",
      "[+] R^2-score: 0.19604518323806686\n"
     ]
    }
   ],
   "source": [
    "cbr = CatBoostRegressor(cat_features=[\"make\", \"model\", \"style\", \"fuel_type\", \"transmission\"], verbose=False)\n",
    "cbr.fit(X_train, y_train)\n",
    "\n",
    "y_pred = cbr.predict(X_test)\n",
    "\n",
    "eval_model_quality(y_test, y_pred)\n",
    "print(f\"[+] R^2-score: {cbr.score(X_test, y_test)}\")"
   ]
  },
  {
   "cell_type": "markdown",
   "id": "5cad841e-30e7-4623-b68b-688f3549b809",
   "metadata": {},
   "source": [
    "#### Обучение модели `XGBRegressor`"
   ]
  },
  {
   "cell_type": "code",
   "execution_count": 15,
   "id": "98ea4f78-3ed8-48c2-ab7f-8dc256a1a043",
   "metadata": {},
   "outputs": [
    {
     "name": "stdout",
     "output_type": "stream",
     "text": [
      "[+] MAE: 2891.250059406447\n",
      "[+] MSE: 5024579243.086061\n",
      "[+] RMSE: 70884.26654121534\n",
      "[+] MAPE: 0.7477005951929298\n",
      "[+] R^2-score: -35.8398634852083\n"
     ]
    }
   ],
   "source": [
    "xgbr = XGBRegressor()\n",
    "xgbr.fit(X_train, y_train)\n",
    "\n",
    "y_pred = xgbr.predict(X_test)\n",
    "\n",
    "eval_model_quality(y_test, y_pred)\n",
    "print(f\"[+] R^2-score: {xgbr.score(X_test, y_test)}\")"
   ]
  },
  {
   "cell_type": "markdown",
   "id": "206c55d0-e767-4cc4-af99-df3819a6ca06",
   "metadata": {},
   "source": [
    "#### Обучение модели `LGBMRegressor`"
   ]
  },
  {
   "cell_type": "code",
   "execution_count": 16,
   "id": "1acb7c5b-eba7-4c2b-a82f-2d243f623daa",
   "metadata": {},
   "outputs": [
    {
     "name": "stdout",
     "output_type": "stream",
     "text": [
      "[LightGBM] [Info] Auto-choosing col-wise multi-threading, the overhead of testing was 0.001530 seconds.\n",
      "You can set `force_col_wise=true` to remove the overhead.\n",
      "[LightGBM] [Info] Total Bins 861\n",
      "[LightGBM] [Info] Number of data points in the train set: 27330, number of used features: 8\n",
      "[LightGBM] [Info] Start training from score 9654.576948\n",
      "[+] MAE: 3695.6841414733467\n",
      "[+] MSE: 354836192.32396454\n",
      "[+] RMSE: 18837.09617547154\n",
      "[+] MAPE: 0.8294080236323355\n",
      "[+] R^2-score: -1.6016341373884213\n"
     ]
    }
   ],
   "source": [
    "lgbmr = LGBMRegressor()\n",
    "lgbmr.fit(X_train, y_train)\n",
    "\n",
    "y_pred = lgbmr.predict(X_test)\n",
    "\n",
    "eval_model_quality(y_test, y_pred)\n",
    "print(f\"[+] R^2-score: {lgbmr.score(X_test, y_test)}\")"
   ]
  },
  {
   "cell_type": "markdown",
   "id": "fd57905f-2a48-40f6-9333-861963ca9faa",
   "metadata": {},
   "source": [
    "## Применение древовидных моделей для решения задачи классификации"
   ]
  },
  {
   "cell_type": "markdown",
   "id": "29704fe5-29dd-48d4-a094-622d26fc91be",
   "metadata": {},
   "source": [
    "#### Чтение датасета"
   ]
  },
  {
   "cell_type": "code",
   "execution_count": 17,
   "id": "8f6bc8b6-425a-4d9f-bd6f-3d83a9ad740a",
   "metadata": {},
   "outputs": [],
   "source": [
    "classification_df = pd.read_csv(\"../data/preprocessed_airlines_dataset.csv\")"
   ]
  },
  {
   "cell_type": "code",
   "execution_count": 30,
   "id": "002917bd-4081-489a-a53e-db227316e38c",
   "metadata": {},
   "outputs": [],
   "source": [
    "del classification_df[\"Unnamed: 0\"]"
   ]
  },
  {
   "cell_type": "code",
   "execution_count": 32,
   "id": "c46306d2-0e70-4294-ac68-637ca0c532e7",
   "metadata": {},
   "outputs": [
    {
     "data": {
      "text/html": [
       "<div>\n",
       "<style scoped>\n",
       "    .dataframe tbody tr th:only-of-type {\n",
       "        vertical-align: middle;\n",
       "    }\n",
       "\n",
       "    .dataframe tbody tr th {\n",
       "        vertical-align: top;\n",
       "    }\n",
       "\n",
       "    .dataframe thead th {\n",
       "        text-align: right;\n",
       "    }\n",
       "</style>\n",
       "<table border=\"1\" class=\"dataframe\">\n",
       "  <thead>\n",
       "    <tr style=\"text-align: right;\">\n",
       "      <th></th>\n",
       "      <th>airline</th>\n",
       "      <th>flight</th>\n",
       "      <th>airport_from</th>\n",
       "      <th>airport_to</th>\n",
       "      <th>day_of_week</th>\n",
       "      <th>time</th>\n",
       "      <th>length</th>\n",
       "      <th>delay</th>\n",
       "    </tr>\n",
       "  </thead>\n",
       "  <tbody>\n",
       "    <tr>\n",
       "      <th>0</th>\n",
       "      <td>16</td>\n",
       "      <td>3036</td>\n",
       "      <td>135</td>\n",
       "      <td>54</td>\n",
       "      <td>4.0</td>\n",
       "      <td>1195</td>\n",
       "      <td>131.0</td>\n",
       "      <td>0</td>\n",
       "    </tr>\n",
       "    <tr>\n",
       "      <th>1</th>\n",
       "      <td>13</td>\n",
       "      <td>315</td>\n",
       "      <td>79</td>\n",
       "      <td>207</td>\n",
       "      <td>7.0</td>\n",
       "      <td>707</td>\n",
       "      <td>145.0</td>\n",
       "      <td>0</td>\n",
       "    </tr>\n",
       "  </tbody>\n",
       "</table>\n",
       "</div>"
      ],
      "text/plain": [
       "   airline  flight  airport_from  airport_to  day_of_week  time  length  delay\n",
       "0       16    3036           135          54          4.0  1195   131.0      0\n",
       "1       13     315            79         207          7.0   707   145.0      0"
      ]
     },
     "execution_count": 32,
     "metadata": {},
     "output_type": "execute_result"
    }
   ],
   "source": [
    "classification_df.head(2)"
   ]
  },
  {
   "cell_type": "markdown",
   "id": "f78298eb-f8f2-4c04-bd57-c6c78eeadfb2",
   "metadata": {},
   "source": [
    "#### Разбиение на обучающую и тестовую выборки"
   ]
  },
  {
   "cell_type": "code",
   "execution_count": 33,
   "id": "950b7e21-f280-4fc4-8c90-2c69b0790b63",
   "metadata": {},
   "outputs": [],
   "source": [
    "y = classification_df.loc[:, \"delay\"]\n",
    "X = classification_df.drop(\"delay\", axis=1)"
   ]
  },
  {
   "cell_type": "code",
   "execution_count": 34,
   "id": "d197d5c3-2728-4025-90a1-203a78a9c6e4",
   "metadata": {},
   "outputs": [],
   "source": [
    "X_train, X_test, y_train, y_test = train_test_split(X, y)"
   ]
  },
  {
   "cell_type": "markdown",
   "id": "fc226f52-9f64-409e-acc8-7fc3438f1d40",
   "metadata": {},
   "source": [
    "#### Функция для оценки качества обученной модели"
   ]
  },
  {
   "cell_type": "code",
   "execution_count": 20,
   "id": "2cd82bbd-7a49-4286-bfb9-6c481eb6d0e6",
   "metadata": {},
   "outputs": [],
   "source": [
    "def eval_model_quality(y_test: np.ndarray, y_pred: np.ndarray) -> None:\n",
    "    print(\"[+] Accuracy:\", accuracy_score(y_test, y_pred))\n",
    "    print(\"[+] Confusion matrix:\", *confusion_matrix(y_test, y_pred))\n",
    "    print(\"[+] Classification report:\", classification_report(y_test, y_pred))"
   ]
  },
  {
   "cell_type": "markdown",
   "id": "54f6e180-e4ad-470d-ae7c-20b6af0489cc",
   "metadata": {},
   "source": [
    "#### Baseline-модель для оценки качества последующих моделей"
   ]
  },
  {
   "cell_type": "code",
   "execution_count": 21,
   "id": "9d339e86-b5b9-4c9c-823e-ca2e6e7e3d8f",
   "metadata": {},
   "outputs": [
    {
     "data": {
      "text/plain": [
       "0.7485477261973079"
      ]
     },
     "execution_count": 21,
     "metadata": {},
     "output_type": "execute_result"
    }
   ],
   "source": [
    "lr = LogisticRegression()\n",
    "lr.fit(X_train, y_train)\n",
    "\n",
    "y_pred = lr.predict(X_test)\n",
    "\n",
    "lr.score(X_test, y_test)"
   ]
  },
  {
   "cell_type": "markdown",
   "id": "fac96156-d250-4c66-9a1e-3d164cd7dc9c",
   "metadata": {},
   "source": [
    "#### Обучение модели `DecisionTreeClassifier`"
   ]
  },
  {
   "cell_type": "code",
   "execution_count": 22,
   "id": "c5115319-b4d0-412a-8ede-57b281d64689",
   "metadata": {},
   "outputs": [
    {
     "name": "stdout",
     "output_type": "stream",
     "text": [
      "[+] Accuracy: 0.766297180021545\n",
      "[+] Confusion matrix: [71219  3136] [20077  4895]\n",
      "[+] Classification report:               precision    recall  f1-score   support\n",
      "\n",
      "           0       0.78      0.96      0.86     74355\n",
      "           1       0.61      0.20      0.30     24972\n",
      "\n",
      "    accuracy                           0.77     99327\n",
      "   macro avg       0.69      0.58      0.58     99327\n",
      "weighted avg       0.74      0.77      0.72     99327\n",
      "\n"
     ]
    }
   ],
   "source": [
    "dtc = DecisionTreeClassifier(max_depth=3)\n",
    "dtc.fit(X_train, y_train)\n",
    "\n",
    "y_pred = dtc.predict(X_test)\n",
    "\n",
    "eval_model_quality(y_test, y_pred)"
   ]
  },
  {
   "cell_type": "markdown",
   "id": "208049b1-281e-4aaa-baf0-f157b2efc2a9",
   "metadata": {},
   "source": [
    "#### Обучение модели `BaggingClassifier`"
   ]
  },
  {
   "cell_type": "code",
   "execution_count": 23,
   "id": "3e1cd385-ea94-4880-b465-1d06f02df2be",
   "metadata": {},
   "outputs": [
    {
     "name": "stdout",
     "output_type": "stream",
     "text": [
      "[+] Accuracy: 0.6768149647125152\n",
      "[+] Confusion matrix: [57803 16552] [15549  9423]\n",
      "[+] Classification report:               precision    recall  f1-score   support\n",
      "\n",
      "           0       0.79      0.78      0.78     74355\n",
      "           1       0.36      0.38      0.37     24972\n",
      "\n",
      "    accuracy                           0.68     99327\n",
      "   macro avg       0.58      0.58      0.58     99327\n",
      "weighted avg       0.68      0.68      0.68     99327\n",
      "\n"
     ]
    }
   ],
   "source": [
    "bc = BaggingClassifier(n_estimators=1)\n",
    "bc.fit(X_train, y_train)\n",
    "\n",
    "y_pred = bc.predict(X_test)\n",
    "\n",
    "eval_model_quality(y_test, y_pred)"
   ]
  },
  {
   "cell_type": "markdown",
   "id": "bc591219-0d17-412c-b53d-91fe394cf899",
   "metadata": {},
   "source": [
    "#### Обучение модели `GradientBoostingClassifier`"
   ]
  },
  {
   "cell_type": "code",
   "execution_count": 24,
   "id": "9d0801e3-73ac-4023-b14f-f891d6655ae0",
   "metadata": {},
   "outputs": [
    {
     "name": "stdout",
     "output_type": "stream",
     "text": [
      "[+] Accuracy: 0.7688342545330071\n",
      "[+] Confusion matrix: [72812  1543] [21418  3554]\n",
      "[+] Classification report:               precision    recall  f1-score   support\n",
      "\n",
      "           0       0.77      0.98      0.86     74355\n",
      "           1       0.70      0.14      0.24     24972\n",
      "\n",
      "    accuracy                           0.77     99327\n",
      "   macro avg       0.73      0.56      0.55     99327\n",
      "weighted avg       0.75      0.77      0.71     99327\n",
      "\n"
     ]
    }
   ],
   "source": [
    "gbc = GradientBoostingClassifier(n_estimators=16)\n",
    "gbc.fit(X_train, y_train)\n",
    "\n",
    "y_pred = gbc.predict(X_test)\n",
    "\n",
    "eval_model_quality(y_test, y_pred)"
   ]
  },
  {
   "cell_type": "markdown",
   "id": "1dea9c6c-c059-4d9f-bd0c-cc9801dd9428",
   "metadata": {},
   "source": [
    "#### Обучение модели `StackingClassifier`"
   ]
  },
  {
   "cell_type": "code",
   "execution_count": 25,
   "id": "a77ec858-09d4-44ee-ab73-e30aa685be96",
   "metadata": {},
   "outputs": [
    {
     "name": "stdout",
     "output_type": "stream",
     "text": [
      "[+] Accuracy: 0.7645957292579058\n",
      "[+] Confusion matrix: [70478  3877] [19505  5467]\n",
      "[+] Classification report:               precision    recall  f1-score   support\n",
      "\n",
      "           0       0.78      0.95      0.86     74355\n",
      "           1       0.59      0.22      0.32     24972\n",
      "\n",
      "    accuracy                           0.76     99327\n",
      "   macro avg       0.68      0.58      0.59     99327\n",
      "weighted avg       0.73      0.76      0.72     99327\n",
      "\n"
     ]
    }
   ],
   "source": [
    "estimators = [\n",
    "    (\"rf\", RandomForestClassifier()),\n",
    "]\n",
    "\n",
    "sc = StackingClassifier(estimators=estimators)\n",
    "sc.fit(X_train, y_train)\n",
    "\n",
    "y_pred = sc.predict(X_test)\n",
    "\n",
    "eval_model_quality(y_test, y_pred)"
   ]
  },
  {
   "cell_type": "markdown",
   "id": "488ce9aa-26a0-4967-9b6a-d7c6440d9939",
   "metadata": {},
   "source": [
    "#### Обучение модели `CatBoostClassifier`"
   ]
  },
  {
   "cell_type": "code",
   "execution_count": 26,
   "id": "137205f8-ac21-4559-b0ad-15331db7d8e8",
   "metadata": {},
   "outputs": [
    {
     "name": "stdout",
     "output_type": "stream",
     "text": [
      "[+] Accuracy: 0.7779657092230713\n",
      "[+] Confusion matrix: [71307  3048] [19006  5966]\n",
      "[+] Classification report:               precision    recall  f1-score   support\n",
      "\n",
      "           0       0.79      0.96      0.87     74355\n",
      "           1       0.66      0.24      0.35     24972\n",
      "\n",
      "    accuracy                           0.78     99327\n",
      "   macro avg       0.73      0.60      0.61     99327\n",
      "weighted avg       0.76      0.78      0.74     99327\n",
      "\n"
     ]
    }
   ],
   "source": [
    "cbc = CatBoostClassifier(verbose=False)\n",
    "cbc.fit(X_train, y_train)\n",
    "\n",
    "y_pred = cbc.predict(X_test)\n",
    "\n",
    "eval_model_quality(y_test, y_pred)"
   ]
  },
  {
   "cell_type": "markdown",
   "id": "ade7192a-73c7-4fdd-87ff-621bc7992266",
   "metadata": {},
   "source": [
    "#### Обучение модели `XGBClassifier`"
   ]
  },
  {
   "cell_type": "code",
   "execution_count": 27,
   "id": "ae1f199d-2f3d-4228-82e1-8deb3bb42203",
   "metadata": {},
   "outputs": [
    {
     "name": "stdout",
     "output_type": "stream",
     "text": [
      "[+] Accuracy: 0.7780764545390478\n",
      "[+] Confusion matrix: [71180  3175] [18868  6104]\n",
      "[+] Classification report:               precision    recall  f1-score   support\n",
      "\n",
      "           0       0.79      0.96      0.87     74355\n",
      "           1       0.66      0.24      0.36     24972\n",
      "\n",
      "    accuracy                           0.78     99327\n",
      "   macro avg       0.72      0.60      0.61     99327\n",
      "weighted avg       0.76      0.78      0.74     99327\n",
      "\n"
     ]
    }
   ],
   "source": [
    "xgbc = XGBClassifier()\n",
    "xgbc.fit(X_train, y_train)\n",
    "\n",
    "y_pred = xgbc.predict(X_test)\n",
    "\n",
    "eval_model_quality(y_test, y_pred)"
   ]
  },
  {
   "cell_type": "markdown",
   "id": "ef687ead-203c-4054-b168-7ff5a70a1c18",
   "metadata": {},
   "source": [
    "#### Обучение модели `LGBMClassifier`"
   ]
  },
  {
   "cell_type": "code",
   "execution_count": 35,
   "id": "f6295a86-2a42-4df9-831a-b0709e76c203",
   "metadata": {},
   "outputs": [
    {
     "name": "stdout",
     "output_type": "stream",
     "text": [
      "[LightGBM] [Info] Number of positive: 75148, number of negative: 222832\n",
      "[LightGBM] [Info] Auto-choosing col-wise multi-threading, the overhead of testing was 0.031488 seconds.\n",
      "You can set `force_col_wise=true` to remove the overhead.\n",
      "[LightGBM] [Info] Total Bins 1160\n",
      "[LightGBM] [Info] Number of data points in the train set: 297980, number of used features: 7\n",
      "[LightGBM] [Info] [binary:BoostFromScore]: pavg=0.252191 -> initscore=-1.086959\n",
      "[LightGBM] [Info] Start training from score -1.086959\n",
      "[+] Accuracy: 0.7742507072598589\n",
      "[+] Confusion matrix: [71395  2869] [19554  5509]\n",
      "[+] Classification report:               precision    recall  f1-score   support\n",
      "\n",
      "           0       0.79      0.96      0.86     74264\n",
      "           1       0.66      0.22      0.33     25063\n",
      "\n",
      "    accuracy                           0.77     99327\n",
      "   macro avg       0.72      0.59      0.60     99327\n",
      "weighted avg       0.75      0.77      0.73     99327\n",
      "\n"
     ]
    }
   ],
   "source": [
    "lgbmc = LGBMClassifier()\n",
    "lgbmc.fit(X_train, y_train)\n",
    "\n",
    "y_pred = lgbmc.predict(X_test)\n",
    "\n",
    "eval_model_quality(y_test, y_pred)"
   ]
  },
  {
   "cell_type": "markdown",
   "id": "eeb04352-2bd7-44a1-8d78-96e2dc4dcb3e",
   "metadata": {},
   "source": [
    "## Заключение"
   ]
  },
  {
   "cell_type": "markdown",
   "id": "b7b9e62c-4bf1-4f73-be31-2cf39dbd4014",
   "metadata": {},
   "source": [
    "- Лучшая регрессионная модель: `BaggingRegressor`\n",
    "- Лучшая классификационная модель: `XGBClassifier`"
   ]
  }
 ],
 "metadata": {
  "kernelspec": {
   "display_name": "Python 3 (ipykernel)",
   "language": "python",
   "name": "python3"
  },
  "language_info": {
   "codemirror_mode": {
    "name": "ipython",
    "version": 3
   },
   "file_extension": ".py",
   "mimetype": "text/x-python",
   "name": "python",
   "nbconvert_exporter": "python",
   "pygments_lexer": "ipython3",
   "version": "3.12.2"
  }
 },
 "nbformat": 4,
 "nbformat_minor": 5
}
