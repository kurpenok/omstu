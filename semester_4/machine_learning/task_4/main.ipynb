{
 "cells": [
  {
   "cell_type": "markdown",
   "id": "092b3cdb-bab6-4246-b5d9-3f4b5b20b10f",
   "metadata": {
    "jp-MarkdownHeadingCollapsed": true
   },
   "source": [
    "## Импорт библиотек"
   ]
  },
  {
   "cell_type": "code",
   "execution_count": 1,
   "id": "17514b89-7257-4575-942f-05cbd2142e0c",
   "metadata": {},
   "outputs": [],
   "source": [
    "import pandas as pd"
   ]
  },
  {
   "cell_type": "markdown",
   "id": "d2018cdf-15ea-4e3a-8418-d03616700c75",
   "metadata": {
    "jp-MarkdownHeadingCollapsed": true
   },
   "source": [
    "## Обзор данных"
   ]
  },
  {
   "cell_type": "markdown",
   "id": "aea1c558-f67a-4985-8f08-62cf6720849f",
   "metadata": {
    "jp-MarkdownHeadingCollapsed": true
   },
   "source": [
    "#### Чтение датасета"
   ]
  },
  {
   "cell_type": "code",
   "execution_count": 2,
   "id": "304c554e-6a45-4db8-bf82-c234fc47788d",
   "metadata": {},
   "outputs": [],
   "source": [
    "df = pd.read_csv(\"airlines_dataset.csv\")"
   ]
  },
  {
   "cell_type": "code",
   "execution_count": 9,
   "id": "cd364614-9ab2-4c95-99e6-f140a7d4114e",
   "metadata": {},
   "outputs": [
    {
     "data": {
      "text/html": [
       "<div>\n",
       "<style scoped>\n",
       "    .dataframe tbody tr th:only-of-type {\n",
       "        vertical-align: middle;\n",
       "    }\n",
       "\n",
       "    .dataframe tbody tr th {\n",
       "        vertical-align: top;\n",
       "    }\n",
       "\n",
       "    .dataframe thead th {\n",
       "        text-align: right;\n",
       "    }\n",
       "</style>\n",
       "<table border=\"1\" class=\"dataframe\">\n",
       "  <thead>\n",
       "    <tr style=\"text-align: right;\">\n",
       "      <th></th>\n",
       "      <th>id</th>\n",
       "      <th>Airline</th>\n",
       "      <th>Flight</th>\n",
       "      <th>AirportFrom</th>\n",
       "      <th>AirportTo</th>\n",
       "      <th>DayOfWeek</th>\n",
       "      <th>Time</th>\n",
       "      <th>Length</th>\n",
       "      <th>Delay</th>\n",
       "    </tr>\n",
       "  </thead>\n",
       "  <tbody>\n",
       "    <tr>\n",
       "      <th>0</th>\n",
       "      <td>400740</td>\n",
       "      <td>XE</td>\n",
       "      <td>3036</td>\n",
       "      <td>IAH</td>\n",
       "      <td>CHS</td>\n",
       "      <td>4.0</td>\n",
       "      <td>1195</td>\n",
       "      <td>131.0</td>\n",
       "      <td>0</td>\n",
       "    </tr>\n",
       "    <tr>\n",
       "      <th>1</th>\n",
       "      <td>194808</td>\n",
       "      <td>UA</td>\n",
       "      <td>315</td>\n",
       "      <td>DEN</td>\n",
       "      <td>ONT</td>\n",
       "      <td>7.0</td>\n",
       "      <td>707</td>\n",
       "      <td>145.0</td>\n",
       "      <td>0</td>\n",
       "    </tr>\n",
       "  </tbody>\n",
       "</table>\n",
       "</div>"
      ],
      "text/plain": [
       "       id Airline  Flight AirportFrom AirportTo  DayOfWeek  Time  Length  \\\n",
       "0  400740      XE    3036         IAH       CHS        4.0  1195   131.0   \n",
       "1  194808      UA     315         DEN       ONT        7.0   707   145.0   \n",
       "\n",
       "   Delay  \n",
       "0      0  \n",
       "1      0  "
      ]
     },
     "execution_count": 9,
     "metadata": {},
     "output_type": "execute_result"
    }
   ],
   "source": [
    "df.head(2)"
   ]
  },
  {
   "cell_type": "markdown",
   "id": "eff793d3-b74b-445a-86d8-84077b03ab66",
   "metadata": {
    "jp-MarkdownHeadingCollapsed": true
   },
   "source": [
    "#### Обзор столбцов датасета"
   ]
  },
  {
   "cell_type": "markdown",
   "id": "206910de-3572-403b-8c84-6c29122c8d69",
   "metadata": {},
   "source": [
    "- `id` - номер вылета\n",
    "- `Airline` - страна, которой принадлежит борт\n",
    "- `Flight` - номер борта\n",
    "- `AirportFrom` - аэропорт отправления\n",
    "- `AirportTo` - аэропорт прибытия\n",
    "- `DayOfWeek` - день недели\n",
    "- `Time` - общее время налёта\n",
    "- `Length` - общее расстояние полётов\n",
    "- `Delay`- статус задержки"
   ]
  },
  {
   "cell_type": "markdown",
   "id": "9474627f-0480-4e60-8516-288ff5611c46",
   "metadata": {
    "jp-MarkdownHeadingCollapsed": true
   },
   "source": [
    "#### Получение информации о данных в столбцах датафрейма"
   ]
  },
  {
   "cell_type": "code",
   "execution_count": 6,
   "id": "dbf1428f-4ccd-4880-84a7-f0aa83cf7354",
   "metadata": {},
   "outputs": [
    {
     "name": "stdout",
     "output_type": "stream",
     "text": [
      "<class 'pandas.core.frame.DataFrame'>\n",
      "RangeIndex: 400000 entries, 0 to 399999\n",
      "Data columns (total 9 columns):\n",
      " #   Column       Non-Null Count   Dtype  \n",
      "---  ------       --------------   -----  \n",
      " 0   id           400000 non-null  int64  \n",
      " 1   Airline      399264 non-null  object \n",
      " 2   Flight       400000 non-null  int64  \n",
      " 3   AirportFrom  400000 non-null  object \n",
      " 4   AirportTo    398843 non-null  object \n",
      " 5   DayOfWeek    399673 non-null  float64\n",
      " 6   Time         400000 non-null  int64  \n",
      " 7   Length       399517 non-null  float64\n",
      " 8   Delay        400000 non-null  int64  \n",
      "dtypes: float64(2), int64(4), object(3)\n",
      "memory usage: 27.5+ MB\n"
     ]
    }
   ],
   "source": [
    "df.info()"
   ]
  },
  {
   "cell_type": "markdown",
   "id": "2e3728b0-57c6-4118-a86d-a151c6bc4ac1",
   "metadata": {
    "jp-MarkdownHeadingCollapsed": true
   },
   "source": [
    "#### Выводы"
   ]
  },
  {
   "cell_type": "markdown",
   "id": "e320b561-3b0b-4bc9-9239-b888dde0c739",
   "metadata": {},
   "source": [
    "- Заголовки нужно привести к lower case и заменить разделение заглавными буквами на знаки нижнего подчёркивания\n",
    "- Требуется обработка пропущенных значений\n",
    "- Требуется обработка дубликатов\n",
    "- Требуется удалить столбец id\n",
    "- Требуется привести столбцы `Airline`, `AirportFrom` и `AirportTo` к числовому формату "
   ]
  },
  {
   "cell_type": "markdown",
   "id": "1507de8a-4014-41c5-8361-c2ec93dec5f8",
   "metadata": {},
   "source": [
    "## Предварительная обработка датасета"
   ]
  }
 ],
 "metadata": {
  "kernelspec": {
   "display_name": "Python 3 (ipykernel)",
   "language": "python",
   "name": "python3"
  },
  "language_info": {
   "codemirror_mode": {
    "name": "ipython",
    "version": 3
   },
   "file_extension": ".py",
   "mimetype": "text/x-python",
   "name": "python",
   "nbconvert_exporter": "python",
   "pygments_lexer": "ipython3",
   "version": "3.12.3"
  }
 },
 "nbformat": 4,
 "nbformat_minor": 5
}
