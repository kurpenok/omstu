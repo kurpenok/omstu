{
 "cells": [
  {
   "cell_type": "code",
   "execution_count": 1,
   "id": "6864576a",
   "metadata": {},
   "outputs": [],
   "source": [
    "import numpy as np"
   ]
  },
  {
   "cell_type": "code",
   "execution_count": 2,
   "id": "7b73267b",
   "metadata": {},
   "outputs": [],
   "source": [
    "def f(x: float, y: float) -> float:\n",
    "    A = 10\n",
    "    a = 3\n",
    "    b = 1\n",
    "    \n",
    "    return A - ((x - a) * np.exp(a - x)) - ((y - b) * np.exp(b - x))"
   ]
  },
  {
   "cell_type": "code",
   "execution_count": null,
   "id": "d4399876",
   "metadata": {},
   "outputs": [],
   "source": [
    "def gauss_seidel_optimization(x_0: float, eps: float)"
   ]
  }
 ],
 "metadata": {
  "kernelspec": {
   "display_name": "Python 3 (ipykernel)",
   "language": "python",
   "name": "python3"
  },
  "language_info": {
   "codemirror_mode": {
    "name": "ipython",
    "version": 3
   },
   "file_extension": ".py",
   "mimetype": "text/x-python",
   "name": "python",
   "nbconvert_exporter": "python",
   "pygments_lexer": "ipython3",
   "version": "3.10.9"
  }
 },
 "nbformat": 4,
 "nbformat_minor": 5
}
