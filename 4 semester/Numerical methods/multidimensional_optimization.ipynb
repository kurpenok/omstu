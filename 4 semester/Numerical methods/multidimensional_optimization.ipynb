{
 "cells": [
  {
   "cell_type": "markdown",
   "id": "bbe151f2",
   "metadata": {},
   "source": [
    "# Лабораторная работа №2\n",
    "\n",
    "# Методы многомерной оптимизации"
   ]
  },
  {
   "cell_type": "code",
   "execution_count": 21,
   "id": "6864576a",
   "metadata": {},
   "outputs": [],
   "source": [
    "from typing import Callable\n",
    "from typing import List\n",
    "\n",
    "import numpy as np\n",
    "\n",
    "from scipy.optimize import approx_fprime\n",
    "from scipy.optimize import minimize_scalar"
   ]
  },
  {
   "cell_type": "markdown",
   "id": "d11ba44a",
   "metadata": {},
   "source": [
    "## Инициализация оптимизируемой функции"
   ]
  },
  {
   "cell_type": "code",
   "execution_count": 22,
   "id": "7b73267b",
   "metadata": {},
   "outputs": [],
   "source": [
    "def f(x: List[float]) -> float:\n",
    "    A = 10\n",
    "    a = 3\n",
    "    b = 1\n",
    "    \n",
    "    return A - ((x[0] - a) * np.exp(a - x[0])) - ((x[1] - b) * np.exp(b - x[0]))"
   ]
  },
  {
   "cell_type": "markdown",
   "id": "804428f1",
   "metadata": {},
   "source": [
    "## Метод Гаусса-Зейделя"
   ]
  },
  {
   "cell_type": "markdown",
   "id": "6030432e",
   "metadata": {},
   "source": [
    "#### Решение системы линейных уравнений методом Гаусса-Зейделя"
   ]
  },
  {
   "cell_type": "code",
   "execution_count": 23,
   "id": "554336d4",
   "metadata": {},
   "outputs": [],
   "source": [
    "def gauss_seidel(A: np.ndarray, b: np.ndarray, x0: np.ndarray, tol=1e-10, max_iter=1000):\n",
    "    \"\"\"\n",
    "    Решение системы линейных уравнений Ax=b методом Гаусса-Зейделя.\n",
    "\n",
    "    Parameters:\n",
    "        A: np.array, матрица системы\n",
    "        b: np.array, столбец свободных членов\n",
    "        x0: np.array, начальное приближение\n",
    "        tol: float, точность вычисления решения\n",
    "        max_iter: int, максимальное число итераций\n",
    "\n",
    "    Returns:\n",
    "        x: np.array, решение системы\n",
    "    \"\"\"\n",
    "\n",
    "    n = A.shape[0]\n",
    "    x = x0.copy()\n",
    "\n",
    "    for k in range(max_iter):\n",
    "        for i in range(n):\n",
    "            x[i] = (b[i] - np.dot(A[i, :i], x[:i]) - np.dot(A[i, i+1:], x[i+1:])) / A[i, i]\n",
    "        \n",
    "        if np.linalg.norm(A @ x - b) < tol:\n",
    "            break\n",
    "    \n",
    "    return x"
   ]
  },
  {
   "cell_type": "code",
   "execution_count": 24,
   "id": "d4399876",
   "metadata": {},
   "outputs": [],
   "source": [
    "def gauss_seidel_optimization(f: Callable, x0: np.ndarray, tol=1e-10, max_iter=1000):\n",
    "    \"\"\"\n",
    "    Оптимизация многомерной функции методом Гаусса-Зейделя.\n",
    "\n",
    "    Parameters:\n",
    "        f: function, оптимизируемая функция\n",
    "        x0: np.array, начальное приближение\n",
    "        tol: float, точность вычисления решения\n",
    "        max_iter: int, максимальное число итераций\n",
    "\n",
    "    Returns:\n",
    "        x: np.array, оптимальное решение\n",
    "    \"\"\"\n",
    "\n",
    "    n = len(x0)\n",
    "    x = x0.copy()\n",
    "\n",
    "    for k in range(max_iter):\n",
    "        # вычисляем градиент и гессиан\n",
    "        grad = approx_fprime(x, f, 1e-8)\n",
    "        hess = approx_fprime(x, lambda x: approx_fprime(x, f, 1e-8), 1e-8)\n",
    "\n",
    "        # строим матрицу и правую часть уравнения\n",
    "        A = np.eye(n) - hess\n",
    "        b = x - grad\n",
    "\n",
    "        # решаем систему уравнений методом Гаусса-Зейделя\n",
    "        x_new = gauss_seidel(A, b, x)\n",
    "\n",
    "        if np.linalg.norm(x_new - x) < tol:\n",
    "            break\n",
    "\n",
    "        x = x_new\n",
    "\n",
    "    return x"
   ]
  },
  {
   "cell_type": "code",
   "execution_count": 25,
   "id": "bafe3be7",
   "metadata": {},
   "outputs": [
    {
     "name": "stdout",
     "output_type": "stream",
     "text": [
      "[0 0]\n"
     ]
    }
   ],
   "source": [
    "x0 = np.array([-2, -3])\n",
    "x_opt = gauss_seidel_optimization(f, x0)\n",
    "\n",
    "print(x_opt)"
   ]
  },
  {
   "cell_type": "markdown",
   "id": "8dc62003",
   "metadata": {},
   "source": [
    "## Метод сопряжённых направлений Пауэлла"
   ]
  },
  {
   "cell_type": "code",
   "execution_count": 26,
   "id": "a45d230b",
   "metadata": {},
   "outputs": [],
   "source": [
    "def powell_optimization(f: Callable, x0: np.ndarray, tol=1e-10, max_iter=1000):\n",
    "    \"\"\"\n",
    "    Оптимизация многомерной функции методом сопряженных направлений (алгоритм Пауэлла).\n",
    "\n",
    "    Parameters:\n",
    "        f: function, оптимизируемая функция\n",
    "        x0: np.array, начальное приближение\n",
    "        tol: float, точность вычисления решения\n",
    "        max_iter: int, максимальное число итераций\n",
    "\n",
    "    Returns:\n",
    "        x: np.array, оптимальное решение\n",
    "    \"\"\"\n",
    "\n",
    "    n = len(x0)\n",
    "    x = x0.copy()\n",
    "    delta = np.zeros(n)\n",
    "    E = np.eye(n)\n",
    "\n",
    "    for k in range(max_iter):\n",
    "        # вычисляем градиент в текущей точке\n",
    "        grad = approx_fprime(x, f, 1e-8)\n",
    "\n",
    "        # сопряженные направления\n",
    "        d = E.copy()\n",
    "        for i in range(n):\n",
    "            d[i] = delta[i] * E[i]\n",
    "\n",
    "        # оптимизируем квадратичную функцию вдоль сопряженных направлений\n",
    "        alpha = np.zeros(n)\n",
    "        for i in range(n):\n",
    "            func = lambda a: f(x + a*d[i])\n",
    "            alpha[i] = minimize_scalar(func).x\n",
    "\n",
    "        # переход к новой точке\n",
    "        x_new = x + np.dot(alpha, d)\n",
    "\n",
    "        if np.linalg.norm(x_new - x) < tol:\n",
    "            break\n",
    "\n",
    "        # вычисляем новое направление\n",
    "        delta = x_new - x\n",
    "        x = x_new\n",
    "\n",
    "    return x\n"
   ]
  },
  {
   "cell_type": "code",
   "execution_count": 35,
   "id": "ad1417a7",
   "metadata": {},
   "outputs": [
    {
     "name": "stdout",
     "output_type": "stream",
     "text": [
      "[0 0]\n"
     ]
    }
   ],
   "source": [
    "x0 = np.array([0, 0])\n",
    "x_opt = powell_optimization(f, x0)\n",
    "\n",
    "print(x_opt)"
   ]
  },
  {
   "cell_type": "markdown",
   "id": "0bbe4a11",
   "metadata": {},
   "source": [
    "## Метод наискорейшего спуска (Коши)"
   ]
  },
  {
   "cell_type": "code",
   "execution_count": 28,
   "id": "dce0c41d",
   "metadata": {},
   "outputs": [],
   "source": [
    "def steepest_descent_optimization(f: Callable, x0: np.ndarray, tol=1e-10, max_iter=1000):\n",
    "    \"\"\"\n",
    "    Оптимизация многомерной функции методом наискорейшего спуска (метод Коши).\n",
    "\n",
    "    Parameters:\n",
    "        f: function, оптимизируемая функция\n",
    "        x0: np.array, начальное приближение\n",
    "        tol: float, точность вычисления решения\n",
    "        max_iter: int, максимальное число итераций\n",
    "\n",
    "    Returns:\n",
    "        x: np.array, оптимальное решение\n",
    "    \"\"\"\n",
    "\n",
    "    n = len(x0)\n",
    "    x = x0.copy()\n",
    "\n",
    "    for k in range(max_iter):\n",
    "        # вычисляем градиент в текущей точке\n",
    "        grad = approx_fprime(x, f, 1e-8)\n",
    "\n",
    "        # направление движения\n",
    "        d = -grad\n",
    "\n",
    "        # оптимизируем функцию в направлении движения\n",
    "        func = lambda a: f(x + a*d)\n",
    "        alpha = minimize_scalar(func).x\n",
    "\n",
    "        # переход к новой точке\n",
    "        x_new = x + alpha*d\n",
    "\n",
    "        if np.linalg.norm(x_new - x) < tol:\n",
    "            break\n",
    "\n",
    "        x = x_new\n",
    "\n",
    "    return x"
   ]
  },
  {
   "cell_type": "code",
   "execution_count": 34,
   "id": "df792197",
   "metadata": {},
   "outputs": [
    {
     "name": "stdout",
     "output_type": "stream",
     "text": [
      "[217.45502464   7.11655494]\n"
     ]
    }
   ],
   "source": [
    "x0 = np.array([0, 0])\n",
    "x_opt = steepest_descent_optimization(f, x0)\n",
    "\n",
    "print(x_opt)"
   ]
  }
 ],
 "metadata": {
  "kernelspec": {
   "display_name": "Python 3 (ipykernel)",
   "language": "python",
   "name": "python3"
  },
  "language_info": {
   "codemirror_mode": {
    "name": "ipython",
    "version": 3
   },
   "file_extension": ".py",
   "mimetype": "text/x-python",
   "name": "python",
   "nbconvert_exporter": "python",
   "pygments_lexer": "ipython3",
   "version": "3.10.10"
  }
 },
 "nbformat": 4,
 "nbformat_minor": 5
}
