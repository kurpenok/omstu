{
 "cells": [
  {
   "cell_type": "code",
   "execution_count": 1,
   "id": "c8802b0c",
   "metadata": {},
   "outputs": [],
   "source": [
    "import numpy as np"
   ]
  },
  {
   "cell_type": "code",
   "execution_count": 2,
   "id": "fee6c373",
   "metadata": {},
   "outputs": [],
   "source": [
    "def f(x: float) -> float:\n",
    "    return np.cos(x)"
   ]
  },
  {
   "cell_type": "code",
   "execution_count": 3,
   "id": "a4ba5d6b",
   "metadata": {},
   "outputs": [],
   "source": [
    "def dichotomy_optimization(a: float, b: float, eps: float) -> float:\n",
    "    while abs(a - b) > 2 * eps:\n",
    "        x = (a + b) / 2\n",
    "        x_1 = x - (eps / 2)\n",
    "        x_2 = x + (eps / 2)\n",
    "\n",
    "        f_1 = f(x_1)\n",
    "        f_2 = f(x_2)\n",
    "\n",
    "        if f_1 > f_2:\n",
    "            a = x_1\n",
    "        else:\n",
    "            b = x_2\n",
    "\n",
    "    return f((a + b) / 2)"
   ]
  },
  {
   "cell_type": "code",
   "execution_count": 4,
   "id": "4c821b87",
   "metadata": {},
   "outputs": [],
   "source": [
    "def fibonacci_sequence(n: int) -> float:\n",
    "    a, b = 0, 1\n",
    "    for i in range(n):\n",
    "        yield a\n",
    "        a, b = b, a + b"
   ]
  },
  {
   "cell_type": "code",
   "execution_count": 5,
   "id": "c03f64eb",
   "metadata": {},
   "outputs": [],
   "source": [
    "def fibonacci_optimization(a: float, b: float, eps: float) -> float:\n",
    "    n = 1000\n",
    "    fs = list(fibonacci_sequence(n))\n",
    "    \n",
    "    x_1 = a + (fs[n - 2] / fs[n - 1]) * n\n",
    "    x_2 = b - (fs[n - 2] / fs[n - 1]) * n\n",
    "\n",
    "    f_1 = f(x_1)\n",
    "    f_2 = f(x_2)\n",
    "    \n",
    "    while n > 2:\n",
    "        if f_1 > f_2:\n",
    "            b = x_1\n",
    "            f_1 = f_2\n",
    "            x_1 = x_2\n",
    "            \n",
    "            x_2 = a + (b - x_1)\n",
    "            f_2 = f(x_2)\n",
    "\n",
    "        else:\n",
    "            a = x_2\n",
    "            f_2 = f_1\n",
    "            x_2 = x_1\n",
    "            \n",
    "            x_1 = b - (x_2 - a)\n",
    "            f_1 = f(x_1)\n",
    "        \n",
    "        n -= 1\n",
    "        \n",
    "    return min(f_1, f_2)"
   ]
  },
  {
   "cell_type": "code",
   "execution_count": 6,
   "id": "7428a750",
   "metadata": {},
   "outputs": [],
   "source": [
    "def golden_ratio_optimization(a: float, b: float, eps: float) -> float:\n",
    "    tau = 0.618\n",
    "    l = abs(a - b)\n",
    "    \n",
    "    x_1 = a + (l * tau)\n",
    "    x_2 = b - (l * tau)\n",
    "\n",
    "    f_1 = f(x_1)\n",
    "    f_2 = f(x_2)\n",
    "    \n",
    "    while l > eps:\n",
    "        if f_1 > f_2:\n",
    "            b = x_1\n",
    "            f_1 = f_2\n",
    "            x_1 = x_2\n",
    "            l = abs(a - b)\n",
    "            \n",
    "            x_2 = b - (l * tau)\n",
    "            f_2 = f(x_2)\n",
    "            \n",
    "        else:\n",
    "            a = x_2\n",
    "            f_2 = f_1\n",
    "            x_2 = x_1\n",
    "            l = abs(a - b)\n",
    "            \n",
    "            x_1 = a + (l * tau)\n",
    "            f_1 = f(x_1)\n",
    "            \n",
    "    return min(f_1, f_2)      "
   ]
  },
  {
   "cell_type": "code",
   "execution_count": 7,
   "id": "ac31b9ea",
   "metadata": {},
   "outputs": [
    {
     "name": "stdout",
     "output_type": "stream",
     "text": [
      "-0.9999999999680316\n"
     ]
    }
   ],
   "source": [
    "print(dichotomy_optimization(0, np.pi, 0.00001))"
   ]
  },
  {
   "cell_type": "code",
   "execution_count": 8,
   "id": "e3b88aae",
   "metadata": {},
   "outputs": [
    {
     "name": "stdout",
     "output_type": "stream",
     "text": [
      "-0.9999987402338991\n"
     ]
    }
   ],
   "source": [
    "print(fibonacci_optimization(0, np.pi, 0.00001))"
   ]
  },
  {
   "cell_type": "code",
   "execution_count": 9,
   "id": "62e4a8fc",
   "metadata": {},
   "outputs": [
    {
     "name": "stdout",
     "output_type": "stream",
     "text": [
      "-0.9999999999962587\n"
     ]
    }
   ],
   "source": [
    "print(golden_ratio_optimization(0, np.pi, 0.00001))"
   ]
  }
 ],
 "metadata": {
  "kernelspec": {
   "display_name": "Python 3 (ipykernel)",
   "language": "python",
   "name": "python3"
  },
  "language_info": {
   "codemirror_mode": {
    "name": "ipython",
    "version": 3
   },
   "file_extension": ".py",
   "mimetype": "text/x-python",
   "name": "python",
   "nbconvert_exporter": "python",
   "pygments_lexer": "ipython3",
   "version": "3.10.9"
  }
 },
 "nbformat": 4,
 "nbformat_minor": 5
}
