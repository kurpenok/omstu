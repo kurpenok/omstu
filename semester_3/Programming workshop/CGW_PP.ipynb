{
  "cells": [
    {
      "cell_type": "code",
      "execution_count": null,
      "metadata": {
        "id": "G0yT12ni0UA7"
      },
      "outputs": [],
      "source": [
        "import pandas as pd\n",
        "\n",
        "import matplotlib.pyplot as plt"
      ]
    },
    {
      "cell_type": "code",
      "execution_count": null,
      "metadata": {
        "colab": {
          "background_save": true,
          "base_uri": "https://localhost:8080/"
        },
        "id": "tXv3_i0V3eNw",
        "outputId": "9796fbc9-6ce0-486d-8dfd-a9a715c73c3c"
      },
      "outputs": [
        {
          "name": "stdout",
          "output_type": "stream",
          "text": [
            "Drive already mounted at /content/drive; to attempt to forcibly remount, call drive.mount(\"/content/drive\", force_remount=True).\n"
          ]
        }
      ],
      "source": [
        "from google.colab import drive\n",
        "\n",
        "drive.mount(\"/content/drive\")\n",
        "\n",
        "russia_real_estate_df = pd.read_csv(\"/content/drive/MyDrive/russia_real_estate.csv\")"
      ]
    },
    {
      "cell_type": "code",
      "execution_count": null,
      "metadata": {
        "colab": {
          "background_save": true,
          "base_uri": "https://localhost:8080/",
          "height": 206
        },
        "id": "HJs6qm7LUEiQ",
        "outputId": "ce7f2838-7369-4d60-92ea-fc86d61b8d88"
      },
      "outputs": [
        {
          "data": {
            "text/html": [
              "\n",
              "  <div id=\"df-6592a9b2-e7d1-44b4-b0ba-e41a5eb71e91\">\n",
              "    <div class=\"colab-df-container\">\n",
              "      <div>\n",
              "<style scoped>\n",
              "    .dataframe tbody tr th:only-of-type {\n",
              "        vertical-align: middle;\n",
              "    }\n",
              "\n",
              "    .dataframe tbody tr th {\n",
              "        vertical-align: top;\n",
              "    }\n",
              "\n",
              "    .dataframe thead th {\n",
              "        text-align: right;\n",
              "    }\n",
              "</style>\n",
              "<table border=\"1\" class=\"dataframe\">\n",
              "  <thead>\n",
              "    <tr style=\"text-align: right;\">\n",
              "      <th></th>\n",
              "      <th>price</th>\n",
              "      <th>date</th>\n",
              "      <th>time</th>\n",
              "      <th>geo_lat</th>\n",
              "      <th>geo_lon</th>\n",
              "      <th>region</th>\n",
              "      <th>building_type</th>\n",
              "      <th>level</th>\n",
              "      <th>levels</th>\n",
              "      <th>rooms</th>\n",
              "      <th>area</th>\n",
              "      <th>kitchen_area</th>\n",
              "      <th>object_type</th>\n",
              "    </tr>\n",
              "  </thead>\n",
              "  <tbody>\n",
              "    <tr>\n",
              "      <th>0</th>\n",
              "      <td>6050000</td>\n",
              "      <td>2018-02-19</td>\n",
              "      <td>20:00:21</td>\n",
              "      <td>59.805808</td>\n",
              "      <td>30.376141</td>\n",
              "      <td>2661</td>\n",
              "      <td>1</td>\n",
              "      <td>8</td>\n",
              "      <td>10</td>\n",
              "      <td>3</td>\n",
              "      <td>82.6</td>\n",
              "      <td>10.8</td>\n",
              "      <td>1</td>\n",
              "    </tr>\n",
              "    <tr>\n",
              "      <th>1</th>\n",
              "      <td>8650000</td>\n",
              "      <td>2018-02-27</td>\n",
              "      <td>12:04:54</td>\n",
              "      <td>55.683807</td>\n",
              "      <td>37.297405</td>\n",
              "      <td>81</td>\n",
              "      <td>3</td>\n",
              "      <td>5</td>\n",
              "      <td>24</td>\n",
              "      <td>2</td>\n",
              "      <td>69.1</td>\n",
              "      <td>12.0</td>\n",
              "      <td>1</td>\n",
              "    </tr>\n",
              "    <tr>\n",
              "      <th>2</th>\n",
              "      <td>4000000</td>\n",
              "      <td>2018-02-28</td>\n",
              "      <td>15:44:00</td>\n",
              "      <td>56.295250</td>\n",
              "      <td>44.061637</td>\n",
              "      <td>2871</td>\n",
              "      <td>1</td>\n",
              "      <td>5</td>\n",
              "      <td>9</td>\n",
              "      <td>3</td>\n",
              "      <td>66.0</td>\n",
              "      <td>10.0</td>\n",
              "      <td>1</td>\n",
              "    </tr>\n",
              "    <tr>\n",
              "      <th>3</th>\n",
              "      <td>1850000</td>\n",
              "      <td>2018-03-01</td>\n",
              "      <td>11:24:52</td>\n",
              "      <td>44.996132</td>\n",
              "      <td>39.074783</td>\n",
              "      <td>2843</td>\n",
              "      <td>4</td>\n",
              "      <td>12</td>\n",
              "      <td>16</td>\n",
              "      <td>2</td>\n",
              "      <td>38.0</td>\n",
              "      <td>5.0</td>\n",
              "      <td>11</td>\n",
              "    </tr>\n",
              "    <tr>\n",
              "      <th>4</th>\n",
              "      <td>5450000</td>\n",
              "      <td>2018-03-01</td>\n",
              "      <td>17:42:43</td>\n",
              "      <td>55.918767</td>\n",
              "      <td>37.984642</td>\n",
              "      <td>81</td>\n",
              "      <td>3</td>\n",
              "      <td>13</td>\n",
              "      <td>14</td>\n",
              "      <td>2</td>\n",
              "      <td>60.0</td>\n",
              "      <td>10.0</td>\n",
              "      <td>1</td>\n",
              "    </tr>\n",
              "  </tbody>\n",
              "</table>\n",
              "</div>\n",
              "      <button class=\"colab-df-convert\" onclick=\"convertToInteractive('df-6592a9b2-e7d1-44b4-b0ba-e41a5eb71e91')\"\n",
              "              title=\"Convert this dataframe to an interactive table.\"\n",
              "              style=\"display:none;\">\n",
              "        \n",
              "  <svg xmlns=\"http://www.w3.org/2000/svg\" height=\"24px\"viewBox=\"0 0 24 24\"\n",
              "       width=\"24px\">\n",
              "    <path d=\"M0 0h24v24H0V0z\" fill=\"none\"/>\n",
              "    <path d=\"M18.56 5.44l.94 2.06.94-2.06 2.06-.94-2.06-.94-.94-2.06-.94 2.06-2.06.94zm-11 1L8.5 8.5l.94-2.06 2.06-.94-2.06-.94L8.5 2.5l-.94 2.06-2.06.94zm10 10l.94 2.06.94-2.06 2.06-.94-2.06-.94-.94-2.06-.94 2.06-2.06.94z\"/><path d=\"M17.41 7.96l-1.37-1.37c-.4-.4-.92-.59-1.43-.59-.52 0-1.04.2-1.43.59L10.3 9.45l-7.72 7.72c-.78.78-.78 2.05 0 2.83L4 21.41c.39.39.9.59 1.41.59.51 0 1.02-.2 1.41-.59l7.78-7.78 2.81-2.81c.8-.78.8-2.07 0-2.86zM5.41 20L4 18.59l7.72-7.72 1.47 1.35L5.41 20z\"/>\n",
              "  </svg>\n",
              "      </button>\n",
              "      \n",
              "  <style>\n",
              "    .colab-df-container {\n",
              "      display:flex;\n",
              "      flex-wrap:wrap;\n",
              "      gap: 12px;\n",
              "    }\n",
              "\n",
              "    .colab-df-convert {\n",
              "      background-color: #E8F0FE;\n",
              "      border: none;\n",
              "      border-radius: 50%;\n",
              "      cursor: pointer;\n",
              "      display: none;\n",
              "      fill: #1967D2;\n",
              "      height: 32px;\n",
              "      padding: 0 0 0 0;\n",
              "      width: 32px;\n",
              "    }\n",
              "\n",
              "    .colab-df-convert:hover {\n",
              "      background-color: #E2EBFA;\n",
              "      box-shadow: 0px 1px 2px rgba(60, 64, 67, 0.3), 0px 1px 3px 1px rgba(60, 64, 67, 0.15);\n",
              "      fill: #174EA6;\n",
              "    }\n",
              "\n",
              "    [theme=dark] .colab-df-convert {\n",
              "      background-color: #3B4455;\n",
              "      fill: #D2E3FC;\n",
              "    }\n",
              "\n",
              "    [theme=dark] .colab-df-convert:hover {\n",
              "      background-color: #434B5C;\n",
              "      box-shadow: 0px 1px 3px 1px rgba(0, 0, 0, 0.15);\n",
              "      filter: drop-shadow(0px 1px 2px rgba(0, 0, 0, 0.3));\n",
              "      fill: #FFFFFF;\n",
              "    }\n",
              "  </style>\n",
              "\n",
              "      <script>\n",
              "        const buttonEl =\n",
              "          document.querySelector('#df-6592a9b2-e7d1-44b4-b0ba-e41a5eb71e91 button.colab-df-convert');\n",
              "        buttonEl.style.display =\n",
              "          google.colab.kernel.accessAllowed ? 'block' : 'none';\n",
              "\n",
              "        async function convertToInteractive(key) {\n",
              "          const element = document.querySelector('#df-6592a9b2-e7d1-44b4-b0ba-e41a5eb71e91');\n",
              "          const dataTable =\n",
              "            await google.colab.kernel.invokeFunction('convertToInteractive',\n",
              "                                                     [key], {});\n",
              "          if (!dataTable) return;\n",
              "\n",
              "          const docLinkHtml = 'Like what you see? Visit the ' +\n",
              "            '<a target=\"_blank\" href=https://colab.research.google.com/notebooks/data_table.ipynb>data table notebook</a>'\n",
              "            + ' to learn more about interactive tables.';\n",
              "          element.innerHTML = '';\n",
              "          dataTable['output_type'] = 'display_data';\n",
              "          await google.colab.output.renderOutput(dataTable, element);\n",
              "          const docLink = document.createElement('div');\n",
              "          docLink.innerHTML = docLinkHtml;\n",
              "          element.appendChild(docLink);\n",
              "        }\n",
              "      </script>\n",
              "    </div>\n",
              "  </div>\n",
              "  "
            ],
            "text/plain": [
              "     price        date      time    geo_lat    geo_lon  region  building_type  \\\n",
              "0  6050000  2018-02-19  20:00:21  59.805808  30.376141    2661              1   \n",
              "1  8650000  2018-02-27  12:04:54  55.683807  37.297405      81              3   \n",
              "2  4000000  2018-02-28  15:44:00  56.295250  44.061637    2871              1   \n",
              "3  1850000  2018-03-01  11:24:52  44.996132  39.074783    2843              4   \n",
              "4  5450000  2018-03-01  17:42:43  55.918767  37.984642      81              3   \n",
              "\n",
              "   level  levels  rooms  area  kitchen_area  object_type  \n",
              "0      8      10      3  82.6          10.8            1  \n",
              "1      5      24      2  69.1          12.0            1  \n",
              "2      5       9      3  66.0          10.0            1  \n",
              "3     12      16      2  38.0           5.0           11  \n",
              "4     13      14      2  60.0          10.0            1  "
            ]
          },
          "execution_count": 13,
          "metadata": {},
          "output_type": "execute_result"
        }
      ],
      "source": [
        "russia_real_estate_df.head(5)"
      ]
    },
    {
      "cell_type": "code",
      "execution_count": null,
      "metadata": {
        "colab": {
          "background_save": true,
          "base_uri": "https://localhost:8080/",
          "height": 206
        },
        "id": "ZA_2BVcSUYN8",
        "outputId": "cb5f5723-9638-43bd-b91a-d36a8c5ed343"
      },
      "outputs": [
        {
          "data": {
            "text/html": [
              "\n",
              "  <div id=\"df-a69eb7a8-1aac-45d6-9fd2-fcab659474f9\">\n",
              "    <div class=\"colab-df-container\">\n",
              "      <div>\n",
              "<style scoped>\n",
              "    .dataframe tbody tr th:only-of-type {\n",
              "        vertical-align: middle;\n",
              "    }\n",
              "\n",
              "    .dataframe tbody tr th {\n",
              "        vertical-align: top;\n",
              "    }\n",
              "\n",
              "    .dataframe thead th {\n",
              "        text-align: right;\n",
              "    }\n",
              "</style>\n",
              "<table border=\"1\" class=\"dataframe\">\n",
              "  <thead>\n",
              "    <tr style=\"text-align: right;\">\n",
              "      <th></th>\n",
              "      <th>price</th>\n",
              "      <th>date</th>\n",
              "      <th>time</th>\n",
              "      <th>geo_lat</th>\n",
              "      <th>geo_lon</th>\n",
              "      <th>region</th>\n",
              "      <th>building_type</th>\n",
              "      <th>level</th>\n",
              "      <th>levels</th>\n",
              "      <th>rooms</th>\n",
              "      <th>area</th>\n",
              "      <th>kitchen_area</th>\n",
              "      <th>object_type</th>\n",
              "    </tr>\n",
              "  </thead>\n",
              "  <tbody>\n",
              "    <tr>\n",
              "      <th>5477001</th>\n",
              "      <td>19739760</td>\n",
              "      <td>2021-05-01</td>\n",
              "      <td>20:13:58</td>\n",
              "      <td>55.804736</td>\n",
              "      <td>37.750898</td>\n",
              "      <td>3</td>\n",
              "      <td>1</td>\n",
              "      <td>8</td>\n",
              "      <td>17</td>\n",
              "      <td>4</td>\n",
              "      <td>93.2</td>\n",
              "      <td>13.8</td>\n",
              "      <td>11</td>\n",
              "    </tr>\n",
              "    <tr>\n",
              "      <th>5477002</th>\n",
              "      <td>12503160</td>\n",
              "      <td>2021-05-01</td>\n",
              "      <td>20:14:01</td>\n",
              "      <td>55.841415</td>\n",
              "      <td>37.489624</td>\n",
              "      <td>3</td>\n",
              "      <td>2</td>\n",
              "      <td>17</td>\n",
              "      <td>32</td>\n",
              "      <td>2</td>\n",
              "      <td>45.9</td>\n",
              "      <td>6.6</td>\n",
              "      <td>11</td>\n",
              "    </tr>\n",
              "    <tr>\n",
              "      <th>5477003</th>\n",
              "      <td>8800000</td>\n",
              "      <td>2021-05-01</td>\n",
              "      <td>20:14:04</td>\n",
              "      <td>56.283909</td>\n",
              "      <td>44.075408</td>\n",
              "      <td>2871</td>\n",
              "      <td>2</td>\n",
              "      <td>4</td>\n",
              "      <td>17</td>\n",
              "      <td>3</td>\n",
              "      <td>86.5</td>\n",
              "      <td>11.8</td>\n",
              "      <td>1</td>\n",
              "    </tr>\n",
              "    <tr>\n",
              "      <th>5477004</th>\n",
              "      <td>11831910</td>\n",
              "      <td>2021-05-01</td>\n",
              "      <td>20:14:12</td>\n",
              "      <td>55.804736</td>\n",
              "      <td>37.750898</td>\n",
              "      <td>3</td>\n",
              "      <td>1</td>\n",
              "      <td>8</td>\n",
              "      <td>33</td>\n",
              "      <td>2</td>\n",
              "      <td>52.1</td>\n",
              "      <td>18.9</td>\n",
              "      <td>11</td>\n",
              "    </tr>\n",
              "    <tr>\n",
              "      <th>5477005</th>\n",
              "      <td>13316200</td>\n",
              "      <td>2021-05-01</td>\n",
              "      <td>20:14:15</td>\n",
              "      <td>55.860240</td>\n",
              "      <td>37.540356</td>\n",
              "      <td>3</td>\n",
              "      <td>2</td>\n",
              "      <td>10</td>\n",
              "      <td>23</td>\n",
              "      <td>2</td>\n",
              "      <td>55.6</td>\n",
              "      <td>20.8</td>\n",
              "      <td>11</td>\n",
              "    </tr>\n",
              "  </tbody>\n",
              "</table>\n",
              "</div>\n",
              "      <button class=\"colab-df-convert\" onclick=\"convertToInteractive('df-a69eb7a8-1aac-45d6-9fd2-fcab659474f9')\"\n",
              "              title=\"Convert this dataframe to an interactive table.\"\n",
              "              style=\"display:none;\">\n",
              "        \n",
              "  <svg xmlns=\"http://www.w3.org/2000/svg\" height=\"24px\"viewBox=\"0 0 24 24\"\n",
              "       width=\"24px\">\n",
              "    <path d=\"M0 0h24v24H0V0z\" fill=\"none\"/>\n",
              "    <path d=\"M18.56 5.44l.94 2.06.94-2.06 2.06-.94-2.06-.94-.94-2.06-.94 2.06-2.06.94zm-11 1L8.5 8.5l.94-2.06 2.06-.94-2.06-.94L8.5 2.5l-.94 2.06-2.06.94zm10 10l.94 2.06.94-2.06 2.06-.94-2.06-.94-.94-2.06-.94 2.06-2.06.94z\"/><path d=\"M17.41 7.96l-1.37-1.37c-.4-.4-.92-.59-1.43-.59-.52 0-1.04.2-1.43.59L10.3 9.45l-7.72 7.72c-.78.78-.78 2.05 0 2.83L4 21.41c.39.39.9.59 1.41.59.51 0 1.02-.2 1.41-.59l7.78-7.78 2.81-2.81c.8-.78.8-2.07 0-2.86zM5.41 20L4 18.59l7.72-7.72 1.47 1.35L5.41 20z\"/>\n",
              "  </svg>\n",
              "      </button>\n",
              "      \n",
              "  <style>\n",
              "    .colab-df-container {\n",
              "      display:flex;\n",
              "      flex-wrap:wrap;\n",
              "      gap: 12px;\n",
              "    }\n",
              "\n",
              "    .colab-df-convert {\n",
              "      background-color: #E8F0FE;\n",
              "      border: none;\n",
              "      border-radius: 50%;\n",
              "      cursor: pointer;\n",
              "      display: none;\n",
              "      fill: #1967D2;\n",
              "      height: 32px;\n",
              "      padding: 0 0 0 0;\n",
              "      width: 32px;\n",
              "    }\n",
              "\n",
              "    .colab-df-convert:hover {\n",
              "      background-color: #E2EBFA;\n",
              "      box-shadow: 0px 1px 2px rgba(60, 64, 67, 0.3), 0px 1px 3px 1px rgba(60, 64, 67, 0.15);\n",
              "      fill: #174EA6;\n",
              "    }\n",
              "\n",
              "    [theme=dark] .colab-df-convert {\n",
              "      background-color: #3B4455;\n",
              "      fill: #D2E3FC;\n",
              "    }\n",
              "\n",
              "    [theme=dark] .colab-df-convert:hover {\n",
              "      background-color: #434B5C;\n",
              "      box-shadow: 0px 1px 3px 1px rgba(0, 0, 0, 0.15);\n",
              "      filter: drop-shadow(0px 1px 2px rgba(0, 0, 0, 0.3));\n",
              "      fill: #FFFFFF;\n",
              "    }\n",
              "  </style>\n",
              "\n",
              "      <script>\n",
              "        const buttonEl =\n",
              "          document.querySelector('#df-a69eb7a8-1aac-45d6-9fd2-fcab659474f9 button.colab-df-convert');\n",
              "        buttonEl.style.display =\n",
              "          google.colab.kernel.accessAllowed ? 'block' : 'none';\n",
              "\n",
              "        async function convertToInteractive(key) {\n",
              "          const element = document.querySelector('#df-a69eb7a8-1aac-45d6-9fd2-fcab659474f9');\n",
              "          const dataTable =\n",
              "            await google.colab.kernel.invokeFunction('convertToInteractive',\n",
              "                                                     [key], {});\n",
              "          if (!dataTable) return;\n",
              "\n",
              "          const docLinkHtml = 'Like what you see? Visit the ' +\n",
              "            '<a target=\"_blank\" href=https://colab.research.google.com/notebooks/data_table.ipynb>data table notebook</a>'\n",
              "            + ' to learn more about interactive tables.';\n",
              "          element.innerHTML = '';\n",
              "          dataTable['output_type'] = 'display_data';\n",
              "          await google.colab.output.renderOutput(dataTable, element);\n",
              "          const docLink = document.createElement('div');\n",
              "          docLink.innerHTML = docLinkHtml;\n",
              "          element.appendChild(docLink);\n",
              "        }\n",
              "      </script>\n",
              "    </div>\n",
              "  </div>\n",
              "  "
            ],
            "text/plain": [
              "            price        date      time    geo_lat    geo_lon  region  \\\n",
              "5477001  19739760  2021-05-01  20:13:58  55.804736  37.750898       3   \n",
              "5477002  12503160  2021-05-01  20:14:01  55.841415  37.489624       3   \n",
              "5477003   8800000  2021-05-01  20:14:04  56.283909  44.075408    2871   \n",
              "5477004  11831910  2021-05-01  20:14:12  55.804736  37.750898       3   \n",
              "5477005  13316200  2021-05-01  20:14:15  55.860240  37.540356       3   \n",
              "\n",
              "         building_type  level  levels  rooms  area  kitchen_area  object_type  \n",
              "5477001              1      8      17      4  93.2          13.8           11  \n",
              "5477002              2     17      32      2  45.9           6.6           11  \n",
              "5477003              2      4      17      3  86.5          11.8            1  \n",
              "5477004              1      8      33      2  52.1          18.9           11  \n",
              "5477005              2     10      23      2  55.6          20.8           11  "
            ]
          },
          "execution_count": 14,
          "metadata": {},
          "output_type": "execute_result"
        }
      ],
      "source": [
        "russia_real_estate_df.tail(5)"
      ]
    },
    {
      "cell_type": "code",
      "execution_count": null,
      "metadata": {
        "colab": {
          "background_save": true
        },
        "id": "4QbOxRdRUdHy"
      },
      "outputs": [],
      "source": [
        "russia_real_estate_df = russia_real_estate_df.drop_duplicates()"
      ]
    },
    {
      "cell_type": "code",
      "execution_count": null,
      "metadata": {
        "colab": {
          "background_save": true,
          "base_uri": "https://localhost:8080/"
        },
        "id": "LTn5WHmmUoKP",
        "outputId": "e6be4559-dce1-4bef-8dc1-7d45e8d98929"
      },
      "outputs": [
        {
          "name": "stdout",
          "output_type": "stream",
          "text": [
            "<class 'pandas.core.frame.DataFrame'>\n",
            "Int64Index: 5475483 entries, 0 to 5477005\n",
            "Data columns (total 13 columns):\n",
            " #   Column         Dtype  \n",
            "---  ------         -----  \n",
            " 0   price          int64  \n",
            " 1   date           object \n",
            " 2   time           object \n",
            " 3   geo_lat        float64\n",
            " 4   geo_lon        float64\n",
            " 5   region         int64  \n",
            " 6   building_type  int64  \n",
            " 7   level          int64  \n",
            " 8   levels         int64  \n",
            " 9   rooms          int64  \n",
            " 10  area           float64\n",
            " 11  kitchen_area   float64\n",
            " 12  object_type    int64  \n",
            "dtypes: float64(4), int64(7), object(2)\n",
            "memory usage: 584.8+ MB\n"
          ]
        }
      ],
      "source": [
        "russia_real_estate_df.info()"
      ]
    },
    {
      "cell_type": "code",
      "execution_count": null,
      "metadata": {
        "colab": {
          "background_save": true
        },
        "id": "07Lnr8xTUtWi"
      },
      "outputs": [],
      "source": [
        "# Замена ID невозможна"
      ]
    },
    {
      "cell_type": "code",
      "execution_count": null,
      "metadata": {
        "colab": {
          "background_save": true,
          "base_uri": "https://localhost:8080/",
          "height": 363
        },
        "id": "pvsibnPqU4dm",
        "outputId": "f143529f-9d5a-4a93-86db-143bf36094ca"
      },
      "outputs": [
        {
          "data": {
            "text/plain": [
              "(array([3.064540e+05, 0.000000e+00, 2.066340e+06, 1.827056e+06,\n",
              "        1.097100e+06, 1.746960e+05, 2.357000e+03, 7.880000e+02,\n",
              "        3.530000e+02, 3.390000e+02]),\n",
              " array([-2. , -0.8,  0.4,  1.6,  2.8,  4. ,  5.2,  6.4,  7.6,  8.8, 10. ]),\n",
              " <a list of 10 Patch objects>)"
            ]
          },
          "execution_count": 18,
          "metadata": {},
          "output_type": "execute_result"
        },
        {
          "data": {
            "image/png": "[encoded data removed]",
            "text/plain": [
              "<Figure size 432x288 with 1 Axes>"
            ]
          },
          "metadata": {},
          "output_type": "display_data"
        }
      ],
      "source": [
        "plt.hist(russia_real_estate_df[\"rooms\"])"
      ]
    },
    {
      "cell_type": "code",
      "execution_count": null,
      "metadata": {
        "colab": {
          "background_save": true,
          "base_uri": "https://localhost:8080/",
          "height": 352
        },
        "id": "z86DjhOMFvSJ",
        "outputId": "caa181c1-185b-4f2d-96ce-03fc32fadc14"
      },
      "outputs": [
        {
          "data": {
            "text/plain": [
              "([<matplotlib.patches.Wedge at 0x7ff5d664d430>,\n",
              "  <matplotlib.patches.Wedge at 0x7ff5d664d5e0>,\n",
              "  <matplotlib.patches.Wedge at 0x7ff5d664d9a0>],\n",
              " [Text(0.9526279355804298, 0.5500000148652441, ''),\n",
              "  Text(-0.5500000594609755, 0.9526279098330699, ''),\n",
              "  Text(1.0298943251329445e-07, -1.0999999999999954, '')])"
            ]
          },
          "execution_count": 19,
          "metadata": {},
          "output_type": "execute_result"
        },
        {
          "data": {
            "image/png": "[encoded data removed]",
            "text/plain": [
              "<Figure size 432x288 with 1 Axes>"
            ]
          },
          "metadata": {},
          "output_type": "display_data"
        }
      ],
      "source": [
        "plt.pie([1, 2, 3])"
      ]
    },
    {
      "cell_type": "code",
      "execution_count": null,
      "metadata": {
        "colab": {
          "base_uri": "https://localhost:8080/",
          "height": 328
        },
        "id": "sIexHTKHF7IK",
        "outputId": "62c9e70e-14fe-4934-b41d-fcb02d5cd55b"
      },
      "outputs": [
        {
          "data": {
            "text/plain": [
              "<matplotlib.axes._subplots.AxesSubplot at 0x7ff5d8f6bac0>"
            ]
          },
          "execution_count": 10,
          "metadata": {},
          "output_type": "execute_result"
        },
        {
          "data": {
            "image/png": "[encoded data removed]",
            "text/plain": [
              "<Figure size 432x288 with 2 Axes>"
            ]
          },
          "metadata": {},
          "output_type": "display_data"
        }
      ],
      "source": [
        "# plt.imshow([russia_real_estate_df[\"rooms\"], russia_real_estate_df[\"price\"]], cmap = 'autumn', interpolation = 'nearest')\n",
        "\n",
        "import seaborn as sns\n",
        "\n",
        "sns.heatmap([russia_real_estate_df[\"rooms\"], russia_real_estate_df[\"price\"]])"
      ]
    }
  ],
  "metadata": {
    "colab": {
      "provenance": []
    },
    "kernelspec": {
      "display_name": "Python 3",
      "name": "python3"
    },
    "language_info": {
      "name": "python"
    }
  },
  "nbformat": 4,
  "nbformat_minor": 0
}